{
 "cells": [
  {
   "cell_type": "code",
   "execution_count": 22,
   "id": "1b76724b",
   "metadata": {},
   "outputs": [],
   "source": [
    "import numpy as np\n",
    "import pandas as pd\n",
    "import matplotlib.pyplot as plt\n",
    "import string"
   ]
  },
  {
   "cell_type": "code",
   "execution_count": 2,
   "id": "8b2c43b6",
   "metadata": {},
   "outputs": [],
   "source": [
    "root_dir = r\"F:\\Muthu_2023\\Personal\\NextStep\\Hackathon\\DeHaDo_AI\"\n",
    "file = 'df_final_trocr_base.csv'"
   ]
  },
  {
   "cell_type": "code",
   "execution_count": 3,
   "id": "734af0ba",
   "metadata": {},
   "outputs": [],
   "source": [
    "model_res_path = root_dir + \"/\" + r\"tokenwise-dehado-ai\\results\\OCR_Results\"\n",
    "df_pred = pd.read_csv(model_res_path + \"/\" + file)"
   ]
  },
  {
   "cell_type": "code",
   "execution_count": 5,
   "id": "2fce56f7",
   "metadata": {},
   "outputs": [],
   "source": [
    "label_file = root_dir + \"/\" + r\"Dataset\\temp\\test.csv\"\n",
    "df_act = pd.read_csv(label_file)"
   ]
  },
  {
   "cell_type": "markdown",
   "id": "bc0a9f29",
   "metadata": {},
   "source": [
    "# Preprocessing"
   ]
  },
  {
   "cell_type": "code",
   "execution_count": 16,
   "id": "54fc5078",
   "metadata": {},
   "outputs": [
    {
     "data": {
      "text/html": [
       "<div>\n",
       "<style scoped>\n",
       "    .dataframe tbody tr th:only-of-type {\n",
       "        vertical-align: middle;\n",
       "    }\n",
       "\n",
       "    .dataframe tbody tr th {\n",
       "        vertical-align: top;\n",
       "    }\n",
       "\n",
       "    .dataframe thead th {\n",
       "        text-align: right;\n",
       "    }\n",
       "</style>\n",
       "<table border=\"1\" class=\"dataframe\">\n",
       "  <thead>\n",
       "    <tr style=\"text-align: right;\">\n",
       "      <th></th>\n",
       "      <th>text</th>\n",
       "      <th>folder</th>\n",
       "      <th>file</th>\n",
       "    </tr>\n",
       "  </thead>\n",
       "  <tbody>\n",
       "    <tr>\n",
       "      <th>0</th>\n",
       "      <td>Hema Vasa</td>\n",
       "      <td>MIT_10</td>\n",
       "      <td>candidatename</td>\n",
       "    </tr>\n",
       "    <tr>\n",
       "      <th>1</th>\n",
       "      <td>Vincent Vasa</td>\n",
       "      <td>MIT_10</td>\n",
       "      <td>Fatherhusbandname</td>\n",
       "    </tr>\n",
       "    <tr>\n",
       "      <th>2</th>\n",
       "      <td>9/28/1962</td>\n",
       "      <td>MIT_10</td>\n",
       "      <td>Dateofbirth</td>\n",
       "    </tr>\n",
       "    <tr>\n",
       "      <th>3</th>\n",
       "      <td>12th Pass</td>\n",
       "      <td>MIT_10</td>\n",
       "      <td>qualification</td>\n",
       "    </tr>\n",
       "    <tr>\n",
       "      <th>4</th>\n",
       "      <td>Married</td>\n",
       "      <td>MIT_10</td>\n",
       "      <td>maritalstatus</td>\n",
       "    </tr>\n",
       "  </tbody>\n",
       "</table>\n",
       "</div>"
      ],
      "text/plain": [
       "           text  folder               file\n",
       "0     Hema Vasa  MIT_10      candidatename\n",
       "1  Vincent Vasa  MIT_10  Fatherhusbandname\n",
       "2     9/28/1962  MIT_10        Dateofbirth\n",
       "3     12th Pass  MIT_10      qualification\n",
       "4       Married  MIT_10      maritalstatus"
      ]
     },
     "execution_count": 16,
     "metadata": {},
     "output_type": "execute_result"
    }
   ],
   "source": [
    "df_act['folder'] = df_act['image'].apply(lambda x: x.split(\"/\")[2])\n",
    "df_act['file'] = df_act['image'].apply(lambda x: x.split(\"/\")[-1].replace(\".jpg\", \"\"))\n",
    "df_act.drop('image', axis=1, inplace=True)\n",
    "df_act.head()"
   ]
  },
  {
   "cell_type": "code",
   "execution_count": 12,
   "id": "80728647",
   "metadata": {},
   "outputs": [],
   "source": [
    "df_pred.drop('Unnamed: 0', axis=1, inplace=True)"
   ]
  },
  {
   "cell_type": "code",
   "execution_count": 15,
   "id": "02a32ffa",
   "metadata": {},
   "outputs": [
    {
     "data": {
      "text/html": [
       "<div>\n",
       "<style scoped>\n",
       "    .dataframe tbody tr th:only-of-type {\n",
       "        vertical-align: middle;\n",
       "    }\n",
       "\n",
       "    .dataframe tbody tr th {\n",
       "        vertical-align: top;\n",
       "    }\n",
       "\n",
       "    .dataframe thead th {\n",
       "        text-align: right;\n",
       "    }\n",
       "</style>\n",
       "<table border=\"1\" class=\"dataframe\">\n",
       "  <thead>\n",
       "    <tr style=\"text-align: right;\">\n",
       "      <th></th>\n",
       "      <th>folder</th>\n",
       "      <th>file</th>\n",
       "      <th>pred_text</th>\n",
       "    </tr>\n",
       "  </thead>\n",
       "  <tbody>\n",
       "    <tr>\n",
       "      <th>0</th>\n",
       "      <td>MIT_290</td>\n",
       "      <td>nationality</td>\n",
       "      <td>indian</td>\n",
       "    </tr>\n",
       "    <tr>\n",
       "      <th>1</th>\n",
       "      <td>MIT_290</td>\n",
       "      <td>Dateofbirth</td>\n",
       "      <td>3/6,1972</td>\n",
       "    </tr>\n",
       "    <tr>\n",
       "      <th>2</th>\n",
       "      <td>MIT_290</td>\n",
       "      <td>Fatherhusbandname</td>\n",
       "      <td>Bahadurjit Aggarwal</td>\n",
       "    </tr>\n",
       "    <tr>\n",
       "      <th>3</th>\n",
       "      <td>MIT_290</td>\n",
       "      <td>permanentaddress</td>\n",
       "      <td>H.NO. 18 , LOYAL CURCLE , JALANDHAR-309</td>\n",
       "    </tr>\n",
       "    <tr>\n",
       "      <th>4</th>\n",
       "      <td>MIT_290</td>\n",
       "      <td>experience</td>\n",
       "      <td>7 .years at Talwar-sha</td>\n",
       "    </tr>\n",
       "  </tbody>\n",
       "</table>\n",
       "</div>"
      ],
      "text/plain": [
       "    folder               file                                pred_text\n",
       "0  MIT_290        nationality                                   indian\n",
       "1  MIT_290        Dateofbirth                                 3/6,1972\n",
       "2  MIT_290  Fatherhusbandname                      Bahadurjit Aggarwal\n",
       "3  MIT_290   permanentaddress  H.NO. 18 , LOYAL CURCLE , JALANDHAR-309\n",
       "4  MIT_290         experience                   7 .years at Talwar-sha"
      ]
     },
     "execution_count": 15,
     "metadata": {},
     "output_type": "execute_result"
    }
   ],
   "source": [
    "df_pred.rename(columns={'text': 'pred_text'}, inplace=True)\n",
    "df_pred.head()"
   ]
  },
  {
   "cell_type": "markdown",
   "id": "c32988f3",
   "metadata": {},
   "source": [
    "# Combine Label and Predictions"
   ]
  },
  {
   "cell_type": "code",
   "execution_count": 18,
   "id": "b712e9a4",
   "metadata": {},
   "outputs": [],
   "source": [
    "df_comb = pd.merge(df_pred, df_act, on = ['folder', 'file'], how='left')"
   ]
  },
  {
   "cell_type": "code",
   "execution_count": 21,
   "id": "6384495c",
   "metadata": {},
   "outputs": [
    {
     "data": {
      "text/html": [
       "<div>\n",
       "<style scoped>\n",
       "    .dataframe tbody tr th:only-of-type {\n",
       "        vertical-align: middle;\n",
       "    }\n",
       "\n",
       "    .dataframe tbody tr th {\n",
       "        vertical-align: top;\n",
       "    }\n",
       "\n",
       "    .dataframe thead th {\n",
       "        text-align: right;\n",
       "    }\n",
       "</style>\n",
       "<table border=\"1\" class=\"dataframe\">\n",
       "  <thead>\n",
       "    <tr style=\"text-align: right;\">\n",
       "      <th></th>\n",
       "      <th>folder</th>\n",
       "      <th>file</th>\n",
       "      <th>pred_text</th>\n",
       "      <th>actual_text</th>\n",
       "    </tr>\n",
       "  </thead>\n",
       "  <tbody>\n",
       "    <tr>\n",
       "      <th>0</th>\n",
       "      <td>MIT_290</td>\n",
       "      <td>nationality</td>\n",
       "      <td>indian</td>\n",
       "      <td>Indian</td>\n",
       "    </tr>\n",
       "    <tr>\n",
       "      <th>1</th>\n",
       "      <td>MIT_290</td>\n",
       "      <td>Dateofbirth</td>\n",
       "      <td>3/6,1972</td>\n",
       "      <td>03-06-1972</td>\n",
       "    </tr>\n",
       "    <tr>\n",
       "      <th>2</th>\n",
       "      <td>MIT_290</td>\n",
       "      <td>Fatherhusbandname</td>\n",
       "      <td>Bahadurjit Aggarwal</td>\n",
       "      <td>Bahadurjit Aggarwal</td>\n",
       "    </tr>\n",
       "    <tr>\n",
       "      <th>3</th>\n",
       "      <td>MIT_290</td>\n",
       "      <td>permanentaddress</td>\n",
       "      <td>H.NO. 18 , LOYAL CURCLE , JALANDHAR-309</td>\n",
       "      <td>H.No. 18, Loyal Circle, Jalandhar 309001</td>\n",
       "    </tr>\n",
       "    <tr>\n",
       "      <th>4</th>\n",
       "      <td>MIT_290</td>\n",
       "      <td>experience</td>\n",
       "      <td>7 .years at Talwar-sha</td>\n",
       "      <td>7 years at Talwar-Sha</td>\n",
       "    </tr>\n",
       "  </tbody>\n",
       "</table>\n",
       "</div>"
      ],
      "text/plain": [
       "    folder               file                                pred_text  \\\n",
       "0  MIT_290        nationality                                   indian   \n",
       "1  MIT_290        Dateofbirth                                 3/6,1972   \n",
       "2  MIT_290  Fatherhusbandname                      Bahadurjit Aggarwal   \n",
       "3  MIT_290   permanentaddress  H.NO. 18 , LOYAL CURCLE , JALANDHAR-309   \n",
       "4  MIT_290         experience                   7 .years at Talwar-sha   \n",
       "\n",
       "                                actual_text  \n",
       "0                                    Indian  \n",
       "1                                03-06-1972  \n",
       "2                       Bahadurjit Aggarwal  \n",
       "3  H.No. 18, Loyal Circle, Jalandhar 309001  \n",
       "4                     7 years at Talwar-Sha  "
      ]
     },
     "execution_count": 21,
     "metadata": {},
     "output_type": "execute_result"
    }
   ],
   "source": [
    "df_comb.rename(columns={'text': 'actual_text'}, inplace=True)\n",
    "df_comb.head()"
   ]
  },
  {
   "cell_type": "markdown",
   "id": "bc61a611",
   "metadata": {},
   "source": [
    "# EDA on Labels"
   ]
  },
  {
   "cell_type": "markdown",
   "id": "bce3d8c3",
   "metadata": {},
   "source": [
    "- Special character distibution by field\n",
    "- Distribution of special characters across field"
   ]
  },
  {
   "cell_type": "code",
   "execution_count": 31,
   "id": "868ae772",
   "metadata": {},
   "outputs": [],
   "source": [
    "d_special = {}\n",
    "def count_special_characters(data):\n",
    "    cnt = 0\n",
    "    for char in data:\n",
    "        if char in string.punctuation:\n",
    "            cnt += 1\n",
    "            if char in d_special:\n",
    "                d_special[char] += 1\n",
    "            else:\n",
    "                d_special[char] = 1\n",
    "    return cnt            "
   ]
  },
  {
   "cell_type": "code",
   "execution_count": 32,
   "id": "63174a82",
   "metadata": {},
   "outputs": [],
   "source": [
    "df_comb['n_special'] = df_comb['actual_text'].apply(count_special_characters)"
   ]
  },
  {
   "cell_type": "code",
   "execution_count": 37,
   "id": "f95bc426",
   "metadata": {},
   "outputs": [
    {
     "data": {
      "text/plain": [
       "<Axes: xlabel='file'>"
      ]
     },
     "execution_count": 37,
     "metadata": {},
     "output_type": "execute_result"
    },
    {
     "data": {
      "image/png": "[encoded data removed]",
      "text/plain": [
       "<Figure size 640x480 with 1 Axes>"
      ]
     },
     "metadata": {},
     "output_type": "display_data"
    }
   ],
   "source": [
    "res = df_comb.groupby('file')['n_special'].sum()\n",
    "res[res>0].sort_values(ascending=False).plot(kind='bar')"
   ]
  },
  {
   "cell_type": "code",
   "execution_count": 33,
   "id": "b4533f34",
   "metadata": {},
   "outputs": [
    {
     "data": {
      "text/plain": [
       "{'-': 2242, '.': 796, ',': 2710, '+': 229, '/': 1746, '&': 2}"
      ]
     },
     "execution_count": 33,
     "metadata": {},
     "output_type": "execute_result"
    }
   ],
   "source": [
    "d_special"
   ]
  },
  {
   "cell_type": "markdown",
   "id": "44c82d6d",
   "metadata": {},
   "source": [
    "### Inference:\n",
    "- Only 6 different special characters are present with '&' being neglegible"
   ]
  },
  {
   "cell_type": "code",
   "execution_count": null,
   "id": "d7c8868b",
   "metadata": {},
   "outputs": [],
   "source": [
    "def count_special_character(data, s_chr):\n",
    "    cnt = 0\n",
    "    if \n",
    "    for char in data:\n",
    "        if char in string.punctuation:\n",
    "            cnt += 1\n",
    "            if char in d_special:\n",
    "                d_special[char] += 1\n",
    "            else:\n",
    "                d_special[char] = 1\n",
    "    return cnt   "
   ]
  },
  {
   "cell_type": "code",
   "execution_count": 39,
   "id": "44966197",
   "metadata": {},
   "outputs": [
    {
     "data": {
      "text/html": [
       "<div>\n",
       "<style scoped>\n",
       "    .dataframe tbody tr th:only-of-type {\n",
       "        vertical-align: middle;\n",
       "    }\n",
       "\n",
       "    .dataframe tbody tr th {\n",
       "        vertical-align: top;\n",
       "    }\n",
       "\n",
       "    .dataframe thead th {\n",
       "        text-align: right;\n",
       "    }\n",
       "</style>\n",
       "<table border=\"1\" class=\"dataframe\">\n",
       "  <thead>\n",
       "    <tr style=\"text-align: right;\">\n",
       "      <th></th>\n",
       "      <th>folder</th>\n",
       "      <th>file</th>\n",
       "      <th>pred_text</th>\n",
       "      <th>actual_text</th>\n",
       "      <th>n_special</th>\n",
       "      <th>n_hipen</th>\n",
       "      <th>n_dot</th>\n",
       "      <th>n_comma</th>\n",
       "      <th>n_plus</th>\n",
       "      <th>n_slash</th>\n",
       "    </tr>\n",
       "  </thead>\n",
       "  <tbody>\n",
       "    <tr>\n",
       "      <th>0</th>\n",
       "      <td>MIT_290</td>\n",
       "      <td>nationality</td>\n",
       "      <td>indian</td>\n",
       "      <td>Indian</td>\n",
       "      <td>0</td>\n",
       "      <td>0</td>\n",
       "      <td>0</td>\n",
       "      <td>0</td>\n",
       "      <td>0</td>\n",
       "      <td>0</td>\n",
       "    </tr>\n",
       "    <tr>\n",
       "      <th>1</th>\n",
       "      <td>MIT_290</td>\n",
       "      <td>Dateofbirth</td>\n",
       "      <td>3/6,1972</td>\n",
       "      <td>03-06-1972</td>\n",
       "      <td>2</td>\n",
       "      <td>2</td>\n",
       "      <td>0</td>\n",
       "      <td>0</td>\n",
       "      <td>0</td>\n",
       "      <td>0</td>\n",
       "    </tr>\n",
       "    <tr>\n",
       "      <th>2</th>\n",
       "      <td>MIT_290</td>\n",
       "      <td>Fatherhusbandname</td>\n",
       "      <td>Bahadurjit Aggarwal</td>\n",
       "      <td>Bahadurjit Aggarwal</td>\n",
       "      <td>0</td>\n",
       "      <td>0</td>\n",
       "      <td>0</td>\n",
       "      <td>0</td>\n",
       "      <td>0</td>\n",
       "      <td>0</td>\n",
       "    </tr>\n",
       "    <tr>\n",
       "      <th>3</th>\n",
       "      <td>MIT_290</td>\n",
       "      <td>permanentaddress</td>\n",
       "      <td>H.NO. 18 , LOYAL CURCLE , JALANDHAR-309</td>\n",
       "      <td>H.No. 18, Loyal Circle, Jalandhar 309001</td>\n",
       "      <td>4</td>\n",
       "      <td>0</td>\n",
       "      <td>2</td>\n",
       "      <td>2</td>\n",
       "      <td>0</td>\n",
       "      <td>0</td>\n",
       "    </tr>\n",
       "    <tr>\n",
       "      <th>4</th>\n",
       "      <td>MIT_290</td>\n",
       "      <td>experience</td>\n",
       "      <td>7 .years at Talwar-sha</td>\n",
       "      <td>7 years at Talwar-Sha</td>\n",
       "      <td>1</td>\n",
       "      <td>1</td>\n",
       "      <td>0</td>\n",
       "      <td>0</td>\n",
       "      <td>0</td>\n",
       "      <td>0</td>\n",
       "    </tr>\n",
       "  </tbody>\n",
       "</table>\n",
       "</div>"
      ],
      "text/plain": [
       "    folder               file                                pred_text  \\\n",
       "0  MIT_290        nationality                                   indian   \n",
       "1  MIT_290        Dateofbirth                                 3/6,1972   \n",
       "2  MIT_290  Fatherhusbandname                      Bahadurjit Aggarwal   \n",
       "3  MIT_290   permanentaddress  H.NO. 18 , LOYAL CURCLE , JALANDHAR-309   \n",
       "4  MIT_290         experience                   7 .years at Talwar-sha   \n",
       "\n",
       "                                actual_text  n_special  n_hipen  n_dot  \\\n",
       "0                                    Indian          0        0      0   \n",
       "1                                03-06-1972          2        2      0   \n",
       "2                       Bahadurjit Aggarwal          0        0      0   \n",
       "3  H.No. 18, Loyal Circle, Jalandhar 309001          4        0      2   \n",
       "4                     7 years at Talwar-Sha          1        1      0   \n",
       "\n",
       "   n_comma  n_plus  n_slash  \n",
       "0        0       0        0  \n",
       "1        0       0        0  \n",
       "2        0       0        0  \n",
       "3        2       0        0  \n",
       "4        0       0        0  "
      ]
     },
     "execution_count": 39,
     "metadata": {},
     "output_type": "execute_result"
    }
   ],
   "source": [
    "df_comb['n_hipen'] = df_comb['actual_text'].apply(lambda x: x.count('-'))\n",
    "df_comb['n_dot'] = df_comb['actual_text'].apply(lambda x: x.count('.'))\n",
    "df_comb['n_comma'] = df_comb['actual_text'].apply(lambda x: x.count(','))\n",
    "df_comb['n_plus'] = df_comb['actual_text'].apply(lambda x: x.count('+'))\n",
    "df_comb['n_slash'] = df_comb['actual_text'].apply(lambda x: x.count('/'))\n",
    "df_comb.head()"
   ]
  },
  {
   "cell_type": "code",
   "execution_count": 41,
   "id": "036cf16d",
   "metadata": {},
   "outputs": [
    {
     "name": "stderr",
     "output_type": "stream",
     "text": [
      "C:\\Users\\ADMIN\\AppData\\Local\\Temp\\ipykernel_1512\\2299758303.py:1: FutureWarning: The default value of numeric_only in DataFrameGroupBy.sum is deprecated. In a future version, numeric_only will default to False. Either specify numeric_only or select only columns which should be valid for the function.\n",
      "  df_comb[df_comb['n_special'] > 0].groupby('file').sum()\n"
     ]
    },
    {
     "data": {
      "text/html": [
       "<div>\n",
       "<style scoped>\n",
       "    .dataframe tbody tr th:only-of-type {\n",
       "        vertical-align: middle;\n",
       "    }\n",
       "\n",
       "    .dataframe tbody tr th {\n",
       "        vertical-align: top;\n",
       "    }\n",
       "\n",
       "    .dataframe thead th {\n",
       "        text-align: right;\n",
       "    }\n",
       "</style>\n",
       "<table border=\"1\" class=\"dataframe\">\n",
       "  <thead>\n",
       "    <tr style=\"text-align: right;\">\n",
       "      <th></th>\n",
       "      <th>n_special</th>\n",
       "      <th>n_hipen</th>\n",
       "      <th>n_dot</th>\n",
       "      <th>n_comma</th>\n",
       "      <th>n_plus</th>\n",
       "      <th>n_slash</th>\n",
       "    </tr>\n",
       "    <tr>\n",
       "      <th>file</th>\n",
       "      <th></th>\n",
       "      <th></th>\n",
       "      <th></th>\n",
       "      <th></th>\n",
       "      <th></th>\n",
       "      <th></th>\n",
       "    </tr>\n",
       "  </thead>\n",
       "  <tbody>\n",
       "    <tr>\n",
       "      <th>Dateofbirth</th>\n",
       "      <td>898</td>\n",
       "      <td>174</td>\n",
       "      <td>0</td>\n",
       "      <td>0</td>\n",
       "      <td>0</td>\n",
       "      <td>724</td>\n",
       "    </tr>\n",
       "    <tr>\n",
       "      <th>aadhaarcard</th>\n",
       "      <td>164</td>\n",
       "      <td>0</td>\n",
       "      <td>164</td>\n",
       "      <td>0</td>\n",
       "      <td>0</td>\n",
       "      <td>0</td>\n",
       "    </tr>\n",
       "    <tr>\n",
       "      <th>bloodgroup</th>\n",
       "      <td>441</td>\n",
       "      <td>212</td>\n",
       "      <td>0</td>\n",
       "      <td>0</td>\n",
       "      <td>229</td>\n",
       "      <td>0</td>\n",
       "    </tr>\n",
       "    <tr>\n",
       "      <th>date</th>\n",
       "      <td>880</td>\n",
       "      <td>154</td>\n",
       "      <td>0</td>\n",
       "      <td>0</td>\n",
       "      <td>0</td>\n",
       "      <td>726</td>\n",
       "    </tr>\n",
       "    <tr>\n",
       "      <th>experience</th>\n",
       "      <td>150</td>\n",
       "      <td>150</td>\n",
       "      <td>0</td>\n",
       "      <td>0</td>\n",
       "      <td>0</td>\n",
       "      <td>0</td>\n",
       "    </tr>\n",
       "    <tr>\n",
       "      <th>experience1</th>\n",
       "      <td>143</td>\n",
       "      <td>143</td>\n",
       "      <td>0</td>\n",
       "      <td>0</td>\n",
       "      <td>0</td>\n",
       "      <td>0</td>\n",
       "    </tr>\n",
       "    <tr>\n",
       "      <th>languageknown</th>\n",
       "      <td>910</td>\n",
       "      <td>0</td>\n",
       "      <td>0</td>\n",
       "      <td>910</td>\n",
       "      <td>0</td>\n",
       "      <td>0</td>\n",
       "    </tr>\n",
       "    <tr>\n",
       "      <th>permanentaddress</th>\n",
       "      <td>1564</td>\n",
       "      <td>219</td>\n",
       "      <td>302</td>\n",
       "      <td>900</td>\n",
       "      <td>0</td>\n",
       "      <td>142</td>\n",
       "    </tr>\n",
       "    <tr>\n",
       "      <th>presentaddress</th>\n",
       "      <td>1600</td>\n",
       "      <td>215</td>\n",
       "      <td>330</td>\n",
       "      <td>900</td>\n",
       "      <td>0</td>\n",
       "      <td>154</td>\n",
       "    </tr>\n",
       "    <tr>\n",
       "      <th>qualification</th>\n",
       "      <td>75</td>\n",
       "      <td>75</td>\n",
       "      <td>0</td>\n",
       "      <td>0</td>\n",
       "      <td>0</td>\n",
       "      <td>0</td>\n",
       "    </tr>\n",
       "    <tr>\n",
       "      <th>referencescmob1</th>\n",
       "      <td>450</td>\n",
       "      <td>450</td>\n",
       "      <td>0</td>\n",
       "      <td>0</td>\n",
       "      <td>0</td>\n",
       "      <td>0</td>\n",
       "    </tr>\n",
       "    <tr>\n",
       "      <th>referencescmob2</th>\n",
       "      <td>450</td>\n",
       "      <td>450</td>\n",
       "      <td>0</td>\n",
       "      <td>0</td>\n",
       "      <td>0</td>\n",
       "      <td>0</td>\n",
       "    </tr>\n",
       "  </tbody>\n",
       "</table>\n",
       "</div>"
      ],
      "text/plain": [
       "                  n_special  n_hipen  n_dot  n_comma  n_plus  n_slash\n",
       "file                                                                 \n",
       "Dateofbirth             898      174      0        0       0      724\n",
       "aadhaarcard             164        0    164        0       0        0\n",
       "bloodgroup              441      212      0        0     229        0\n",
       "date                    880      154      0        0       0      726\n",
       "experience              150      150      0        0       0        0\n",
       "experience1             143      143      0        0       0        0\n",
       "languageknown           910        0      0      910       0        0\n",
       "permanentaddress       1564      219    302      900       0      142\n",
       "presentaddress         1600      215    330      900       0      154\n",
       "qualification            75       75      0        0       0        0\n",
       "referencescmob1         450      450      0        0       0        0\n",
       "referencescmob2         450      450      0        0       0        0"
      ]
     },
     "execution_count": 41,
     "metadata": {},
     "output_type": "execute_result"
    }
   ],
   "source": [
    "df_comb[df_comb['n_special'] > 0].groupby('file').sum()"
   ]
  },
  {
   "cell_type": "code",
   "execution_count": null,
   "id": "281ad5d6",
   "metadata": {},
   "outputs": [],
   "source": []
  }
 ],
 "metadata": {
  "kernelspec": {
   "display_name": "Python 3 (ipykernel)",
   "language": "python",
   "name": "python3"
  },
  "language_info": {
   "codemirror_mode": {
    "name": "ipython",
    "version": 3
   },
   "file_extension": ".py",
   "mimetype": "text/x-python",
   "name": "python",
   "nbconvert_exporter": "python",
   "pygments_lexer": "ipython3",
   "version": "3.11.5"
  }
 },
 "nbformat": 4,
 "nbformat_minor": 5
}
