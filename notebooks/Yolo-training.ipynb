{
 "cells": [
  {
   "cell_type": "markdown",
   "metadata": {
    "colab_type": "code",
    "execution": {
     "iopub.execute_input": "2025-05-20T09:18:28.470284Z",
     "iopub.status.busy": "2025-05-20T09:18:28.470044Z",
     "iopub.status.idle": "2025-05-20T09:18:32.450974Z",
     "shell.execute_reply": "2025-05-20T09:18:32.450010Z",
     "shell.execute_reply.started": "2025-05-20T09:18:28.470261Z"
    }
   },
   "source": [
    "# YOLO Training on Custom Dataset\n",
    "- Labels are modified for Yolo supported format\n",
    "- Trained the baseline model on custom dataset\n",
    "- Kaggle Notebook"
   ]
  },
  {
   "cell_type": "markdown",
   "metadata": {},
   "source": [
    "# Yolo Bounding Box Detection"
   ]
  },
  {
   "cell_type": "code",
   "execution_count": 1,
   "metadata": {
    "execution": {
     "iopub.execute_input": "2025-05-23T06:18:30.007661Z",
     "iopub.status.busy": "2025-05-23T06:18:30.007406Z",
     "iopub.status.idle": "2025-05-23T06:19:44.174557Z",
     "shell.execute_reply": "2025-05-23T06:19:44.173961Z",
     "shell.execute_reply.started": "2025-05-23T06:18:30.007637Z"
    }
   },
   "outputs": [
    {
     "name": "stdout",
     "output_type": "stream",
     "text": [
      "Ultralytics 8.3.126 🚀 Python-3.11.11 torch-2.6.0+cu124 CUDA:0 (Tesla P100-PCIE-16GB, 16269MiB)\n",
      "Setup complete ✅ (4 CPUs, 31.4 GB RAM, 6362.0/8062.4 GB disk)\n"
     ]
    }
   ],
   "source": [
    "!pip install ultralytics==8.3.126 -q\n",
    "\n",
    "from IPython import display\n",
    "display.clear_output()\n",
    "\n",
    "import ultralytics\n",
    "import os\n",
    "ultralytics.checks()"
   ]
  },
  {
   "cell_type": "code",
   "execution_count": 2,
   "metadata": {
    "execution": {
     "iopub.execute_input": "2025-05-23T06:20:06.466085Z",
     "iopub.status.busy": "2025-05-23T06:20:06.465773Z",
     "iopub.status.idle": "2025-05-23T06:20:06.470203Z",
     "shell.execute_reply": "2025-05-23T06:20:06.469414Z",
     "shell.execute_reply.started": "2025-05-23T06:20:06.466044Z"
    }
   },
   "outputs": [],
   "source": [
    "from ultralytics import YOLO\n",
    "from IPython.display import display, Image"
   ]
  },
  {
   "cell_type": "code",
   "execution_count": 3,
   "metadata": {
    "execution": {
     "iopub.execute_input": "2025-05-23T06:20:07.503271Z",
     "iopub.status.busy": "2025-05-23T06:20:07.503004Z",
     "iopub.status.idle": "2025-05-23T06:20:08.245495Z",
     "shell.execute_reply": "2025-05-23T06:20:08.244909Z",
     "shell.execute_reply.started": "2025-05-23T06:20:07.503251Z"
    }
   },
   "outputs": [],
   "source": [
    "model = YOLO(\"../input/yolov8s_pretrained/other/default/1/best_yolov8s.pt\")\n",
    "data_yaml = '/kaggle/input/handwritten-forms/Dataset_Yolo/data.yaml'"
   ]
  },
  {
   "cell_type": "code",
   "execution_count": 4,
   "metadata": {
    "execution": {
     "iopub.execute_input": "2025-05-23T06:20:10.666549Z",
     "iopub.status.busy": "2025-05-23T06:20:10.665832Z",
     "iopub.status.idle": "2025-05-23T06:39:35.228366Z",
     "shell.execute_reply": "2025-05-23T06:39:35.227576Z",
     "shell.execute_reply.started": "2025-05-23T06:20:10.666518Z"
    }
   },
   "outputs": [
    {
     "name": "stdout",
     "output_type": "stream",
     "text": [
      "New https://pypi.org/project/ultralytics/8.3.143 available 😃 Update with 'pip install -U ultralytics'\n",
      "Ultralytics 8.3.126 🚀 Python-3.11.11 torch-2.6.0+cu124 CUDA:0 (Tesla P100-PCIE-16GB, 16269MiB)\n",
      "\u001b[34m\u001b[1mengine/trainer: \u001b[0magnostic_nms=False, amp=True, augment=False, auto_augment=randaugment, batch=16, bgr=0.0, box=7.5, cache=False, cfg=None, classes=None, close_mosaic=10, cls=0.5, conf=None, copy_paste=0.0, copy_paste_mode=flip, cos_lr=False, cutmix=0.0, data=/kaggle/input/handwritten-forms/Dataset_Yolo/data.yaml, degrees=0.0, deterministic=True, device=cuda:0, dfl=1.5, dnn=False, dropout=0.0, dynamic=False, embed=None, epochs=50, erasing=0.4, exist_ok=True, fliplr=0.5, flipud=0.0, format=torchscript, fraction=1.0, freeze=None, half=False, hsv_h=0.015, hsv_s=0.7, hsv_v=0.4, imgsz=640, int8=False, iou=0.7, keras=False, kobj=1.0, line_width=None, lr0=0.01, lrf=0.01, mask_ratio=4, max_det=300, mixup=0.0, mode=train, model=../input/yolov8s_pretrained/other/default/1/best_yolov8s.pt, momentum=0.937, mosaic=1.0, multi_scale=False, name=exp, nbs=64, nms=False, opset=None, optimize=False, optimizer=auto, overlap_mask=True, patience=100, perspective=0.0, plots=True, pose=12.0, pretrained=True, profile=False, project=yolo-handwriting, rect=False, resume=False, retina_masks=False, save=True, save_conf=False, save_crop=False, save_dir=yolo-handwriting/exp, save_frames=False, save_json=False, save_period=-1, save_txt=False, scale=0.5, seed=0, shear=0.0, show=False, show_boxes=True, show_conf=True, show_labels=True, simplify=True, single_cls=False, source=None, split=val, stream_buffer=False, task=detect, time=None, tracker=botsort.yaml, translate=0.1, val=True, verbose=True, vid_stride=1, visualize=False, warmup_bias_lr=0.1, warmup_epochs=3.0, warmup_momentum=0.8, weight_decay=0.0005, workers=8, workspace=None\n",
      "Downloading https://ultralytics.com/assets/Arial.ttf to '/root/.config/Ultralytics/Arial.ttf'...\n"
     ]
    },
    {
     "name": "stderr",
     "output_type": "stream",
     "text": [
      "100%|██████████| 755k/755k [00:00<00:00, 27.2MB/s]\n"
     ]
    },
    {
     "name": "stdout",
     "output_type": "stream",
     "text": [
      "\n",
      "                   from  n    params  module                                       arguments                     \n",
      "  0                  -1  1       928  ultralytics.nn.modules.conv.Conv             [3, 32, 3, 2]                 \n",
      "  1                  -1  1     18560  ultralytics.nn.modules.conv.Conv             [32, 64, 3, 2]                \n",
      "  2                  -1  1     29056  ultralytics.nn.modules.block.C2f             [64, 64, 1, True]             \n",
      "  3                  -1  1     73984  ultralytics.nn.modules.conv.Conv             [64, 128, 3, 2]               \n",
      "  4                  -1  2    197632  ultralytics.nn.modules.block.C2f             [128, 128, 2, True]           \n",
      "  5                  -1  1    295424  ultralytics.nn.modules.conv.Conv             [128, 256, 3, 2]              \n",
      "  6                  -1  2    788480  ultralytics.nn.modules.block.C2f             [256, 256, 2, True]           \n",
      "  7                  -1  1   1180672  ultralytics.nn.modules.conv.Conv             [256, 512, 3, 2]              \n",
      "  8                  -1  1   1838080  ultralytics.nn.modules.block.C2f             [512, 512, 1, True]           \n",
      "  9                  -1  1    656896  ultralytics.nn.modules.block.SPPF            [512, 512, 5]                 \n",
      " 10                  -1  1         0  torch.nn.modules.upsampling.Upsample         [None, 2, 'nearest']          \n",
      " 11             [-1, 6]  1         0  ultralytics.nn.modules.conv.Concat           [1]                           \n",
      " 12                  -1  1    591360  ultralytics.nn.modules.block.C2f             [768, 256, 1]                 \n",
      " 13                  -1  1         0  torch.nn.modules.upsampling.Upsample         [None, 2, 'nearest']          \n",
      " 14             [-1, 4]  1         0  ultralytics.nn.modules.conv.Concat           [1]                           \n",
      " 15                  -1  1    148224  ultralytics.nn.modules.block.C2f             [384, 128, 1]                 \n",
      " 16                  -1  1    147712  ultralytics.nn.modules.conv.Conv             [128, 128, 3, 2]              \n",
      " 17            [-1, 12]  1         0  ultralytics.nn.modules.conv.Concat           [1]                           \n",
      " 18                  -1  1    493056  ultralytics.nn.modules.block.C2f             [384, 256, 1]                 \n",
      " 19                  -1  1    590336  ultralytics.nn.modules.conv.Conv             [256, 256, 3, 2]              \n",
      " 20             [-1, 9]  1         0  ultralytics.nn.modules.conv.Concat           [1]                           \n",
      " 21                  -1  1   1969152  ultralytics.nn.modules.block.C2f             [768, 512, 1]                 \n",
      " 22        [15, 18, 21]  1   2116435  ultralytics.nn.modules.head.Detect           [1, [128, 256, 512]]          \n",
      "Model summary: 129 layers, 11,135,987 parameters, 11,135,971 gradients, 28.6 GFLOPs\n",
      "\n",
      "Transferred 355/355 items from pretrained weights\n",
      "Freezing layer 'model.22.dfl.conv.weight'\n",
      "\u001b[34m\u001b[1mAMP: \u001b[0mrunning Automatic Mixed Precision (AMP) checks...\n",
      "Downloading https://github.com/ultralytics/assets/releases/download/v8.3.0/yolo11n.pt to 'yolo11n.pt'...\n"
     ]
    },
    {
     "name": "stderr",
     "output_type": "stream",
     "text": [
      "100%|██████████| 5.35M/5.35M [00:00<00:00, 108MB/s]\n"
     ]
    },
    {
     "name": "stdout",
     "output_type": "stream",
     "text": [
      "\u001b[34m\u001b[1mAMP: \u001b[0mchecks passed ✅\n",
      "\u001b[34m\u001b[1mtrain: \u001b[0mFast image access ✅ (ping: 0.0±0.0 ms, read: 56.2±22.8 MB/s, size: 630.1 KB)\n"
     ]
    },
    {
     "name": "stderr",
     "output_type": "stream",
     "text": [
      "\u001b[34m\u001b[1mtrain: \u001b[0mScanning /kaggle/input/handwritten-forms/Dataset_Yolo/train/labels... 945 images, 0 backgrounds, 0 corrupt: 100%|██████████| 945/945 [00:04<00:00, 189.47it/s]\n"
     ]
    },
    {
     "name": "stdout",
     "output_type": "stream",
     "text": [
      "WARNING ⚠️ \u001b[34m\u001b[1mtrain: \u001b[0mCache directory /kaggle/input/handwritten-forms/Dataset_Yolo/train is not writeable, cache not saved.\n",
      "\u001b[34m\u001b[1malbumentations: \u001b[0mBlur(p=0.01, blur_limit=(3, 7)), MedianBlur(p=0.01, blur_limit=(3, 7)), ToGray(p=0.01, num_output_channels=3, method='weighted_average'), CLAHE(p=0.01, clip_limit=(1.0, 4.0), tile_grid_size=(8, 8))\n",
      "\u001b[34m\u001b[1mval: \u001b[0mFast image access ✅ (ping: 0.0±0.0 ms, read: 78.2±16.5 MB/s, size: 663.5 KB)\n"
     ]
    },
    {
     "name": "stderr",
     "output_type": "stream",
     "text": [
      "\u001b[34m\u001b[1mval: \u001b[0mScanning /kaggle/input/handwritten-forms/Dataset_Yolo/val/labels... 105 images, 0 backgrounds, 0 corrupt: 100%|██████████| 105/105 [00:00<00:00, 164.96it/s]\n"
     ]
    },
    {
     "name": "stdout",
     "output_type": "stream",
     "text": [
      "WARNING ⚠️ \u001b[34m\u001b[1mval: \u001b[0mCache directory /kaggle/input/handwritten-forms/Dataset_Yolo/val is not writeable, cache not saved.\n",
      "Plotting labels to yolo-handwriting/exp/labels.jpg... \n",
      "\u001b[34m\u001b[1moptimizer:\u001b[0m 'optimizer=auto' found, ignoring 'lr0=0.01' and 'momentum=0.937' and determining best 'optimizer', 'lr0' and 'momentum' automatically... \n",
      "\u001b[34m\u001b[1moptimizer:\u001b[0m AdamW(lr=0.002, momentum=0.9) with parameter groups 57 weight(decay=0.0), 64 weight(decay=0.0005), 63 bias(decay=0.0)\n",
      "Image sizes 640 train, 640 val\n",
      "Using 4 dataloader workers\n",
      "Logging results to \u001b[1myolo-handwriting/exp\u001b[0m\n",
      "Starting training for 50 epochs...\n",
      "\n",
      "      Epoch    GPU_mem   box_loss   cls_loss   dfl_loss  Instances       Size\n"
     ]
    },
    {
     "name": "stderr",
     "output_type": "stream",
     "text": [
      "       1/50      4.34G      1.638     0.7782        1.1         26        640: 100%|██████████| 60/60 [00:24<00:00,  2.49it/s]\n",
      "                 Class     Images  Instances      Box(P          R      mAP50  mAP50-95): 100%|██████████| 4/4 [00:02<00:00,  1.89it/s]"
     ]
    },
    {
     "name": "stdout",
     "output_type": "stream",
     "text": [
      "                   all        105       2063      0.935      0.963      0.964      0.487\n"
     ]
    },
    {
     "name": "stderr",
     "output_type": "stream",
     "text": [
      "\n"
     ]
    },
    {
     "name": "stdout",
     "output_type": "stream",
     "text": [
      "\n",
      "      Epoch    GPU_mem   box_loss   cls_loss   dfl_loss  Instances       Size\n"
     ]
    },
    {
     "name": "stderr",
     "output_type": "stream",
     "text": [
      "       2/50      4.37G      1.558      0.842      1.082         42        640: 100%|██████████| 60/60 [00:20<00:00,  2.88it/s]\n",
      "                 Class     Images  Instances      Box(P          R      mAP50  mAP50-95): 100%|██████████| 4/4 [00:01<00:00,  3.71it/s]"
     ]
    },
    {
     "name": "stdout",
     "output_type": "stream",
     "text": [
      "                   all        105       2063       0.91      0.912      0.947      0.466\n"
     ]
    },
    {
     "name": "stderr",
     "output_type": "stream",
     "text": [
      "\n"
     ]
    },
    {
     "name": "stdout",
     "output_type": "stream",
     "text": [
      "\n",
      "      Epoch    GPU_mem   box_loss   cls_loss   dfl_loss  Instances       Size\n"
     ]
    },
    {
     "name": "stderr",
     "output_type": "stream",
     "text": [
      "       3/50      4.41G      1.523     0.8574      1.083         25        640: 100%|██████████| 60/60 [00:20<00:00,  2.87it/s]\n",
      "                 Class     Images  Instances      Box(P          R      mAP50  mAP50-95): 100%|██████████| 4/4 [00:01<00:00,  3.57it/s]"
     ]
    },
    {
     "name": "stdout",
     "output_type": "stream",
     "text": [
      "                   all        105       2063      0.927      0.939      0.949      0.465\n"
     ]
    },
    {
     "name": "stderr",
     "output_type": "stream",
     "text": [
      "\n"
     ]
    },
    {
     "name": "stdout",
     "output_type": "stream",
     "text": [
      "\n",
      "      Epoch    GPU_mem   box_loss   cls_loss   dfl_loss  Instances       Size\n"
     ]
    },
    {
     "name": "stderr",
     "output_type": "stream",
     "text": [
      "       4/50      4.45G      1.528     0.8521      1.073         22        640: 100%|██████████| 60/60 [00:20<00:00,  2.99it/s]\n",
      "                 Class     Images  Instances      Box(P          R      mAP50  mAP50-95): 100%|██████████| 4/4 [00:01<00:00,  3.72it/s]\n"
     ]
    },
    {
     "name": "stdout",
     "output_type": "stream",
     "text": [
      "                   all        105       2063      0.935       0.94      0.964      0.482\n",
      "\n",
      "      Epoch    GPU_mem   box_loss   cls_loss   dfl_loss  Instances       Size\n"
     ]
    },
    {
     "name": "stderr",
     "output_type": "stream",
     "text": [
      "       5/50      4.48G      1.504     0.8378      1.068         74        640: 100%|██████████| 60/60 [00:19<00:00,  3.05it/s]\n",
      "                 Class     Images  Instances      Box(P          R      mAP50  mAP50-95): 100%|██████████| 4/4 [00:01<00:00,  3.77it/s]"
     ]
    },
    {
     "name": "stdout",
     "output_type": "stream",
     "text": [
      "                   all        105       2063      0.942      0.969      0.971      0.517\n"
     ]
    },
    {
     "name": "stderr",
     "output_type": "stream",
     "text": [
      "\n"
     ]
    },
    {
     "name": "stdout",
     "output_type": "stream",
     "text": [
      "\n",
      "      Epoch    GPU_mem   box_loss   cls_loss   dfl_loss  Instances       Size\n"
     ]
    },
    {
     "name": "stderr",
     "output_type": "stream",
     "text": [
      "       6/50      4.52G      1.491     0.8454      1.063         12        640: 100%|██████████| 60/60 [00:19<00:00,  3.05it/s]\n",
      "                 Class     Images  Instances      Box(P          R      mAP50  mAP50-95): 100%|██████████| 4/4 [00:01<00:00,  3.68it/s]"
     ]
    },
    {
     "name": "stdout",
     "output_type": "stream",
     "text": [
      "                   all        105       2063      0.967      0.978       0.98      0.533\n"
     ]
    },
    {
     "name": "stderr",
     "output_type": "stream",
     "text": [
      "\n"
     ]
    },
    {
     "name": "stdout",
     "output_type": "stream",
     "text": [
      "\n",
      "      Epoch    GPU_mem   box_loss   cls_loss   dfl_loss  Instances       Size\n"
     ]
    },
    {
     "name": "stderr",
     "output_type": "stream",
     "text": [
      "       7/50      4.56G      1.481     0.8462      1.062         22        640: 100%|██████████| 60/60 [00:19<00:00,  3.09it/s]\n",
      "                 Class     Images  Instances      Box(P          R      mAP50  mAP50-95): 100%|██████████| 4/4 [00:01<00:00,  3.56it/s]"
     ]
    },
    {
     "name": "stdout",
     "output_type": "stream",
     "text": [
      "                   all        105       2063       0.73      0.919      0.793      0.391\n"
     ]
    },
    {
     "name": "stderr",
     "output_type": "stream",
     "text": [
      "\n"
     ]
    },
    {
     "name": "stdout",
     "output_type": "stream",
     "text": [
      "\n",
      "      Epoch    GPU_mem   box_loss   cls_loss   dfl_loss  Instances       Size\n"
     ]
    },
    {
     "name": "stderr",
     "output_type": "stream",
     "text": [
      "       8/50      4.59G      1.473     0.8338      1.062         16        640: 100%|██████████| 60/60 [00:19<00:00,  3.08it/s]\n",
      "                 Class     Images  Instances      Box(P          R      mAP50  mAP50-95): 100%|██████████| 4/4 [00:01<00:00,  3.58it/s]"
     ]
    },
    {
     "name": "stdout",
     "output_type": "stream",
     "text": [
      "                   all        105       2063      0.932      0.957      0.957      0.486\n"
     ]
    },
    {
     "name": "stderr",
     "output_type": "stream",
     "text": [
      "\n"
     ]
    },
    {
     "name": "stdout",
     "output_type": "stream",
     "text": [
      "\n",
      "      Epoch    GPU_mem   box_loss   cls_loss   dfl_loss  Instances       Size\n"
     ]
    },
    {
     "name": "stderr",
     "output_type": "stream",
     "text": [
      "       9/50      4.63G      1.459     0.8449       1.05         22        640: 100%|██████████| 60/60 [00:20<00:00,  3.00it/s]\n",
      "                 Class     Images  Instances      Box(P          R      mAP50  mAP50-95): 100%|██████████| 4/4 [00:01<00:00,  3.28it/s]\n"
     ]
    },
    {
     "name": "stdout",
     "output_type": "stream",
     "text": [
      "                   all        105       2063      0.959       0.98       0.98      0.537\n",
      "\n",
      "      Epoch    GPU_mem   box_loss   cls_loss   dfl_loss  Instances       Size\n"
     ]
    },
    {
     "name": "stderr",
     "output_type": "stream",
     "text": [
      "      10/50      4.66G      1.454     0.8386      1.043         74        640: 100%|██████████| 60/60 [00:19<00:00,  3.13it/s]\n",
      "                 Class     Images  Instances      Box(P          R      mAP50  mAP50-95): 100%|██████████| 4/4 [00:01<00:00,  3.76it/s]\n"
     ]
    },
    {
     "name": "stdout",
     "output_type": "stream",
     "text": [
      "                   all        105       2063      0.957      0.967      0.975      0.516\n",
      "\n",
      "      Epoch    GPU_mem   box_loss   cls_loss   dfl_loss  Instances       Size\n"
     ]
    },
    {
     "name": "stderr",
     "output_type": "stream",
     "text": [
      "      11/50       4.7G      1.436     0.8299      1.043         45        640: 100%|██████████| 60/60 [00:20<00:00,  2.99it/s]\n",
      "                 Class     Images  Instances      Box(P          R      mAP50  mAP50-95): 100%|██████████| 4/4 [00:01<00:00,  3.84it/s]\n"
     ]
    },
    {
     "name": "stdout",
     "output_type": "stream",
     "text": [
      "                   all        105       2063      0.958      0.977      0.975      0.527\n",
      "\n",
      "      Epoch    GPU_mem   box_loss   cls_loss   dfl_loss  Instances       Size\n"
     ]
    },
    {
     "name": "stderr",
     "output_type": "stream",
     "text": [
      "      12/50      4.73G      1.424     0.8288      1.045         38        640: 100%|██████████| 60/60 [00:20<00:00,  2.88it/s]\n",
      "                 Class     Images  Instances      Box(P          R      mAP50  mAP50-95): 100%|██████████| 4/4 [00:01<00:00,  3.42it/s]\n"
     ]
    },
    {
     "name": "stdout",
     "output_type": "stream",
     "text": [
      "                   all        105       2063      0.929      0.961      0.966       0.53\n",
      "\n",
      "      Epoch    GPU_mem   box_loss   cls_loss   dfl_loss  Instances       Size\n"
     ]
    },
    {
     "name": "stderr",
     "output_type": "stream",
     "text": [
      "      13/50      4.78G      1.411     0.8367      1.042         27        640: 100%|██████████| 60/60 [00:20<00:00,  2.97it/s]\n",
      "                 Class     Images  Instances      Box(P          R      mAP50  mAP50-95): 100%|██████████| 4/4 [00:00<00:00,  4.01it/s]"
     ]
    },
    {
     "name": "stdout",
     "output_type": "stream",
     "text": [
      "                   all        105       2063      0.936      0.969      0.968      0.529\n"
     ]
    },
    {
     "name": "stderr",
     "output_type": "stream",
     "text": [
      "\n"
     ]
    },
    {
     "name": "stdout",
     "output_type": "stream",
     "text": [
      "\n",
      "      Epoch    GPU_mem   box_loss   cls_loss   dfl_loss  Instances       Size\n"
     ]
    },
    {
     "name": "stderr",
     "output_type": "stream",
     "text": [
      "      14/50      4.81G      1.423      0.813      1.037         41        640: 100%|██████████| 60/60 [00:21<00:00,  2.85it/s]\n",
      "                 Class     Images  Instances      Box(P          R      mAP50  mAP50-95): 100%|██████████| 4/4 [00:00<00:00,  4.20it/s]"
     ]
    },
    {
     "name": "stdout",
     "output_type": "stream",
     "text": [
      "                   all        105       2063      0.927      0.965      0.961       0.52\n"
     ]
    },
    {
     "name": "stderr",
     "output_type": "stream",
     "text": [
      "\n"
     ]
    },
    {
     "name": "stdout",
     "output_type": "stream",
     "text": [
      "\n",
      "      Epoch    GPU_mem   box_loss   cls_loss   dfl_loss  Instances       Size\n"
     ]
    },
    {
     "name": "stderr",
     "output_type": "stream",
     "text": [
      "      15/50      4.84G      1.398     0.8204      1.028         13        640: 100%|██████████| 60/60 [00:20<00:00,  2.87it/s]\n",
      "                 Class     Images  Instances      Box(P          R      mAP50  mAP50-95): 100%|██████████| 4/4 [00:01<00:00,  3.91it/s]"
     ]
    },
    {
     "name": "stdout",
     "output_type": "stream",
     "text": [
      "                   all        105       2063      0.957      0.976      0.977      0.533\n"
     ]
    },
    {
     "name": "stderr",
     "output_type": "stream",
     "text": [
      "\n"
     ]
    },
    {
     "name": "stdout",
     "output_type": "stream",
     "text": [
      "\n",
      "      Epoch    GPU_mem   box_loss   cls_loss   dfl_loss  Instances       Size\n"
     ]
    },
    {
     "name": "stderr",
     "output_type": "stream",
     "text": [
      "      16/50      4.88G      1.415     0.8198      1.048         19        640: 100%|██████████| 60/60 [00:20<00:00,  2.88it/s]\n",
      "                 Class     Images  Instances      Box(P          R      mAP50  mAP50-95): 100%|██████████| 4/4 [00:01<00:00,  3.80it/s]"
     ]
    },
    {
     "name": "stdout",
     "output_type": "stream",
     "text": [
      "                   all        105       2063      0.956      0.976      0.978      0.554\n"
     ]
    },
    {
     "name": "stderr",
     "output_type": "stream",
     "text": [
      "\n"
     ]
    },
    {
     "name": "stdout",
     "output_type": "stream",
     "text": [
      "\n",
      "      Epoch    GPU_mem   box_loss   cls_loss   dfl_loss  Instances       Size\n"
     ]
    },
    {
     "name": "stderr",
     "output_type": "stream",
     "text": [
      "      17/50      4.92G      1.396     0.8157      1.041         16        640: 100%|██████████| 60/60 [00:21<00:00,  2.83it/s]\n",
      "                 Class     Images  Instances      Box(P          R      mAP50  mAP50-95): 100%|██████████| 4/4 [00:01<00:00,  3.29it/s]"
     ]
    },
    {
     "name": "stdout",
     "output_type": "stream",
     "text": [
      "                   all        105       2063      0.945      0.972      0.976      0.548\n"
     ]
    },
    {
     "name": "stderr",
     "output_type": "stream",
     "text": [
      "\n"
     ]
    },
    {
     "name": "stdout",
     "output_type": "stream",
     "text": [
      "\n",
      "      Epoch    GPU_mem   box_loss   cls_loss   dfl_loss  Instances       Size\n"
     ]
    },
    {
     "name": "stderr",
     "output_type": "stream",
     "text": [
      "      18/50      4.95G      1.398     0.8016      1.031         43        640: 100%|██████████| 60/60 [00:19<00:00,  3.03it/s]\n",
      "                 Class     Images  Instances      Box(P          R      mAP50  mAP50-95): 100%|██████████| 4/4 [00:01<00:00,  3.61it/s]"
     ]
    },
    {
     "name": "stdout",
     "output_type": "stream",
     "text": [
      "                   all        105       2063      0.947      0.961      0.976      0.559\n"
     ]
    },
    {
     "name": "stderr",
     "output_type": "stream",
     "text": [
      "\n"
     ]
    },
    {
     "name": "stdout",
     "output_type": "stream",
     "text": [
      "\n",
      "      Epoch    GPU_mem   box_loss   cls_loss   dfl_loss  Instances       Size\n"
     ]
    },
    {
     "name": "stderr",
     "output_type": "stream",
     "text": [
      "      19/50      4.99G      1.383     0.8002      1.027         63        640: 100%|██████████| 60/60 [00:19<00:00,  3.10it/s]\n",
      "                 Class     Images  Instances      Box(P          R      mAP50  mAP50-95): 100%|██████████| 4/4 [00:01<00:00,  3.25it/s]"
     ]
    },
    {
     "name": "stdout",
     "output_type": "stream",
     "text": [
      "                   all        105       2063      0.946      0.943      0.971       0.54\n"
     ]
    },
    {
     "name": "stderr",
     "output_type": "stream",
     "text": [
      "\n"
     ]
    },
    {
     "name": "stdout",
     "output_type": "stream",
     "text": [
      "\n",
      "      Epoch    GPU_mem   box_loss   cls_loss   dfl_loss  Instances       Size\n"
     ]
    },
    {
     "name": "stderr",
     "output_type": "stream",
     "text": [
      "      20/50      5.03G      1.367     0.7953       1.03         21        640: 100%|██████████| 60/60 [00:20<00:00,  2.95it/s]\n",
      "                 Class     Images  Instances      Box(P          R      mAP50  mAP50-95): 100%|██████████| 4/4 [00:00<00:00,  4.03it/s]"
     ]
    },
    {
     "name": "stdout",
     "output_type": "stream",
     "text": [
      "                   all        105       2063      0.939      0.964      0.976      0.569\n"
     ]
    },
    {
     "name": "stderr",
     "output_type": "stream",
     "text": [
      "\n"
     ]
    },
    {
     "name": "stdout",
     "output_type": "stream",
     "text": [
      "\n",
      "      Epoch    GPU_mem   box_loss   cls_loss   dfl_loss  Instances       Size\n"
     ]
    },
    {
     "name": "stderr",
     "output_type": "stream",
     "text": [
      "      21/50      5.06G      1.361     0.7935      1.022         17        640: 100%|██████████| 60/60 [00:20<00:00,  2.88it/s]\n",
      "                 Class     Images  Instances      Box(P          R      mAP50  mAP50-95): 100%|██████████| 4/4 [00:01<00:00,  3.64it/s]"
     ]
    },
    {
     "name": "stdout",
     "output_type": "stream",
     "text": [
      "                   all        105       2063      0.937      0.953      0.973      0.565\n"
     ]
    },
    {
     "name": "stderr",
     "output_type": "stream",
     "text": [
      "\n"
     ]
    },
    {
     "name": "stdout",
     "output_type": "stream",
     "text": [
      "\n",
      "      Epoch    GPU_mem   box_loss   cls_loss   dfl_loss  Instances       Size\n"
     ]
    },
    {
     "name": "stderr",
     "output_type": "stream",
     "text": [
      "      22/50       5.1G      1.362      0.788      1.028         39        640: 100%|██████████| 60/60 [00:20<00:00,  2.92it/s]\n",
      "                 Class     Images  Instances      Box(P          R      mAP50  mAP50-95): 100%|██████████| 4/4 [00:01<00:00,  3.65it/s]"
     ]
    },
    {
     "name": "stdout",
     "output_type": "stream",
     "text": [
      "                   all        105       2063      0.319      0.282       0.21     0.0645\n"
     ]
    },
    {
     "name": "stderr",
     "output_type": "stream",
     "text": [
      "\n"
     ]
    },
    {
     "name": "stdout",
     "output_type": "stream",
     "text": [
      "\n",
      "      Epoch    GPU_mem   box_loss   cls_loss   dfl_loss  Instances       Size\n"
     ]
    },
    {
     "name": "stderr",
     "output_type": "stream",
     "text": [
      "      23/50      5.13G      1.351     0.7773      1.016         57        640: 100%|██████████| 60/60 [00:19<00:00,  3.02it/s]\n",
      "                 Class     Images  Instances      Box(P          R      mAP50  mAP50-95): 100%|██████████| 4/4 [00:00<00:00,  4.33it/s]"
     ]
    },
    {
     "name": "stdout",
     "output_type": "stream",
     "text": [
      "                   all        105       2063      0.938      0.953      0.973      0.547\n"
     ]
    },
    {
     "name": "stderr",
     "output_type": "stream",
     "text": [
      "\n"
     ]
    },
    {
     "name": "stdout",
     "output_type": "stream",
     "text": [
      "\n",
      "      Epoch    GPU_mem   box_loss   cls_loss   dfl_loss  Instances       Size\n"
     ]
    },
    {
     "name": "stderr",
     "output_type": "stream",
     "text": [
      "      24/50      5.17G      1.345     0.7675      1.011         52        640: 100%|██████████| 60/60 [00:20<00:00,  2.94it/s]\n",
      "                 Class     Images  Instances      Box(P          R      mAP50  mAP50-95): 100%|██████████| 4/4 [00:01<00:00,  3.67it/s]"
     ]
    },
    {
     "name": "stdout",
     "output_type": "stream",
     "text": [
      "                   all        105       2063      0.955      0.967      0.981      0.567\n"
     ]
    },
    {
     "name": "stderr",
     "output_type": "stream",
     "text": [
      "\n"
     ]
    },
    {
     "name": "stdout",
     "output_type": "stream",
     "text": [
      "\n",
      "      Epoch    GPU_mem   box_loss   cls_loss   dfl_loss  Instances       Size\n"
     ]
    },
    {
     "name": "stderr",
     "output_type": "stream",
     "text": [
      "      25/50      5.21G      1.354      0.781      1.024         33        640: 100%|██████████| 60/60 [00:20<00:00,  2.95it/s]\n",
      "                 Class     Images  Instances      Box(P          R      mAP50  mAP50-95): 100%|██████████| 4/4 [00:00<00:00,  4.25it/s]"
     ]
    },
    {
     "name": "stdout",
     "output_type": "stream",
     "text": [
      "                   all        105       2063      0.944      0.956      0.977      0.557\n"
     ]
    },
    {
     "name": "stderr",
     "output_type": "stream",
     "text": [
      "\n"
     ]
    },
    {
     "name": "stdout",
     "output_type": "stream",
     "text": [
      "\n",
      "      Epoch    GPU_mem   box_loss   cls_loss   dfl_loss  Instances       Size\n"
     ]
    },
    {
     "name": "stderr",
     "output_type": "stream",
     "text": [
      "      26/50       5.4G      1.319     0.7652      1.013         44        640: 100%|██████████| 60/60 [00:20<00:00,  2.95it/s]\n",
      "                 Class     Images  Instances      Box(P          R      mAP50  mAP50-95): 100%|██████████| 4/4 [00:00<00:00,  4.12it/s]"
     ]
    },
    {
     "name": "stdout",
     "output_type": "stream",
     "text": [
      "                   all        105       2063       0.92      0.898       0.95      0.531\n"
     ]
    },
    {
     "name": "stderr",
     "output_type": "stream",
     "text": [
      "\n"
     ]
    },
    {
     "name": "stdout",
     "output_type": "stream",
     "text": [
      "\n",
      "      Epoch    GPU_mem   box_loss   cls_loss   dfl_loss  Instances       Size\n"
     ]
    },
    {
     "name": "stderr",
     "output_type": "stream",
     "text": [
      "      27/50      5.43G      1.316     0.7732      1.015         34        640: 100%|██████████| 60/60 [00:20<00:00,  2.92it/s]\n",
      "                 Class     Images  Instances      Box(P          R      mAP50  mAP50-95): 100%|██████████| 4/4 [00:01<00:00,  3.44it/s]\n"
     ]
    },
    {
     "name": "stdout",
     "output_type": "stream",
     "text": [
      "                   all        105       2063      0.949      0.949      0.977      0.526\n",
      "\n",
      "      Epoch    GPU_mem   box_loss   cls_loss   dfl_loss  Instances       Size\n"
     ]
    },
    {
     "name": "stderr",
     "output_type": "stream",
     "text": [
      "      28/50      5.48G      1.325     0.7594       1.02         28        640: 100%|██████████| 60/60 [00:20<00:00,  2.94it/s]\n",
      "                 Class     Images  Instances      Box(P          R      mAP50  mAP50-95): 100%|██████████| 4/4 [00:01<00:00,  3.93it/s]"
     ]
    },
    {
     "name": "stdout",
     "output_type": "stream",
     "text": [
      "                   all        105       2063      0.938       0.94      0.969      0.535\n"
     ]
    },
    {
     "name": "stderr",
     "output_type": "stream",
     "text": [
      "\n"
     ]
    },
    {
     "name": "stdout",
     "output_type": "stream",
     "text": [
      "\n",
      "      Epoch    GPU_mem   box_loss   cls_loss   dfl_loss  Instances       Size\n"
     ]
    },
    {
     "name": "stderr",
     "output_type": "stream",
     "text": [
      "      29/50      5.51G      1.312     0.7611      1.012         21        640: 100%|██████████| 60/60 [00:19<00:00,  3.08it/s]\n",
      "                 Class     Images  Instances      Box(P          R      mAP50  mAP50-95): 100%|██████████| 4/4 [00:00<00:00,  4.04it/s]"
     ]
    },
    {
     "name": "stdout",
     "output_type": "stream",
     "text": [
      "                   all        105       2063      0.935      0.928      0.971      0.536\n"
     ]
    },
    {
     "name": "stderr",
     "output_type": "stream",
     "text": [
      "\n"
     ]
    },
    {
     "name": "stdout",
     "output_type": "stream",
     "text": [
      "\n",
      "      Epoch    GPU_mem   box_loss   cls_loss   dfl_loss  Instances       Size\n"
     ]
    },
    {
     "name": "stderr",
     "output_type": "stream",
     "text": [
      "      30/50      5.54G      1.304     0.7525      1.008         37        640: 100%|██████████| 60/60 [00:20<00:00,  2.90it/s]\n",
      "                 Class     Images  Instances      Box(P          R      mAP50  mAP50-95): 100%|██████████| 4/4 [00:01<00:00,  3.19it/s]\n"
     ]
    },
    {
     "name": "stdout",
     "output_type": "stream",
     "text": [
      "                   all        105       2063      0.923      0.945      0.969      0.578\n",
      "\n",
      "      Epoch    GPU_mem   box_loss   cls_loss   dfl_loss  Instances       Size\n"
     ]
    },
    {
     "name": "stderr",
     "output_type": "stream",
     "text": [
      "      31/50      5.74G      1.308     0.7512      1.015         45        640: 100%|██████████| 60/60 [00:20<00:00,  2.86it/s]\n",
      "                 Class     Images  Instances      Box(P          R      mAP50  mAP50-95): 100%|██████████| 4/4 [00:01<00:00,  3.62it/s]"
     ]
    },
    {
     "name": "stdout",
     "output_type": "stream",
     "text": [
      "                   all        105       2063      0.935      0.944      0.975       0.56\n"
     ]
    },
    {
     "name": "stderr",
     "output_type": "stream",
     "text": [
      "\n"
     ]
    },
    {
     "name": "stdout",
     "output_type": "stream",
     "text": [
      "\n",
      "      Epoch    GPU_mem   box_loss   cls_loss   dfl_loss  Instances       Size\n"
     ]
    },
    {
     "name": "stderr",
     "output_type": "stream",
     "text": [
      "      32/50      5.77G      1.286     0.7481      1.009         75        640: 100%|██████████| 60/60 [00:20<00:00,  2.98it/s]\n",
      "                 Class     Images  Instances      Box(P          R      mAP50  mAP50-95): 100%|██████████| 4/4 [00:01<00:00,  3.75it/s]"
     ]
    },
    {
     "name": "stdout",
     "output_type": "stream",
     "text": [
      "                   all        105       2063      0.928      0.935      0.971      0.537\n"
     ]
    },
    {
     "name": "stderr",
     "output_type": "stream",
     "text": [
      "\n"
     ]
    },
    {
     "name": "stdout",
     "output_type": "stream",
     "text": [
      "\n",
      "      Epoch    GPU_mem   box_loss   cls_loss   dfl_loss  Instances       Size\n"
     ]
    },
    {
     "name": "stderr",
     "output_type": "stream",
     "text": [
      "      33/50      5.81G      1.285     0.7514      1.009         28        640: 100%|██████████| 60/60 [00:19<00:00,  3.03it/s]\n",
      "                 Class     Images  Instances      Box(P          R      mAP50  mAP50-95): 100%|██████████| 4/4 [00:00<00:00,  4.21it/s]"
     ]
    },
    {
     "name": "stdout",
     "output_type": "stream",
     "text": [
      "                   all        105       2063      0.935      0.936      0.973      0.582\n"
     ]
    },
    {
     "name": "stderr",
     "output_type": "stream",
     "text": [
      "\n"
     ]
    },
    {
     "name": "stdout",
     "output_type": "stream",
     "text": [
      "\n",
      "      Epoch    GPU_mem   box_loss   cls_loss   dfl_loss  Instances       Size\n"
     ]
    },
    {
     "name": "stderr",
     "output_type": "stream",
     "text": [
      "      34/50      5.84G       1.27     0.7398          1         43        640: 100%|██████████| 60/60 [00:19<00:00,  3.02it/s]\n",
      "                 Class     Images  Instances      Box(P          R      mAP50  mAP50-95): 100%|██████████| 4/4 [00:00<00:00,  4.03it/s]"
     ]
    },
    {
     "name": "stdout",
     "output_type": "stream",
     "text": [
      "                   all        105       2063      0.927      0.939      0.972      0.573\n"
     ]
    },
    {
     "name": "stderr",
     "output_type": "stream",
     "text": [
      "\n"
     ]
    },
    {
     "name": "stdout",
     "output_type": "stream",
     "text": [
      "\n",
      "      Epoch    GPU_mem   box_loss   cls_loss   dfl_loss  Instances       Size\n"
     ]
    },
    {
     "name": "stderr",
     "output_type": "stream",
     "text": [
      "      35/50      5.88G       1.27     0.7334     0.9974         39        640: 100%|██████████| 60/60 [00:19<00:00,  3.03it/s]\n",
      "                 Class     Images  Instances      Box(P          R      mAP50  mAP50-95): 100%|██████████| 4/4 [00:01<00:00,  3.50it/s]"
     ]
    },
    {
     "name": "stdout",
     "output_type": "stream",
     "text": [
      "                   all        105       2063      0.926      0.935      0.968      0.585\n"
     ]
    },
    {
     "name": "stderr",
     "output_type": "stream",
     "text": [
      "\n"
     ]
    },
    {
     "name": "stdout",
     "output_type": "stream",
     "text": [
      "\n",
      "      Epoch    GPU_mem   box_loss   cls_loss   dfl_loss  Instances       Size\n"
     ]
    },
    {
     "name": "stderr",
     "output_type": "stream",
     "text": [
      "      36/50      5.92G      1.265     0.7369      1.004         23        640: 100%|██████████| 60/60 [00:20<00:00,  2.91it/s]\n",
      "                 Class     Images  Instances      Box(P          R      mAP50  mAP50-95): 100%|██████████| 4/4 [00:01<00:00,  3.74it/s]"
     ]
    },
    {
     "name": "stdout",
     "output_type": "stream",
     "text": [
      "                   all        105       2063      0.932       0.93      0.972      0.591\n"
     ]
    },
    {
     "name": "stderr",
     "output_type": "stream",
     "text": [
      "\n"
     ]
    },
    {
     "name": "stdout",
     "output_type": "stream",
     "text": [
      "\n",
      "      Epoch    GPU_mem   box_loss   cls_loss   dfl_loss  Instances       Size\n"
     ]
    },
    {
     "name": "stderr",
     "output_type": "stream",
     "text": [
      "      37/50      6.11G      1.272     0.7353      1.004         73        640: 100%|██████████| 60/60 [00:20<00:00,  2.98it/s]\n",
      "                 Class     Images  Instances      Box(P          R      mAP50  mAP50-95): 100%|██████████| 4/4 [00:01<00:00,  3.19it/s]"
     ]
    },
    {
     "name": "stdout",
     "output_type": "stream",
     "text": [
      "                   all        105       2063      0.932       0.93      0.971      0.598\n"
     ]
    },
    {
     "name": "stderr",
     "output_type": "stream",
     "text": [
      "\n"
     ]
    },
    {
     "name": "stdout",
     "output_type": "stream",
     "text": [
      "\n",
      "      Epoch    GPU_mem   box_loss   cls_loss   dfl_loss  Instances       Size\n"
     ]
    },
    {
     "name": "stderr",
     "output_type": "stream",
     "text": [
      "      38/50      6.15G      1.262     0.7342      1.011         16        640: 100%|██████████| 60/60 [00:19<00:00,  3.10it/s]\n",
      "                 Class     Images  Instances      Box(P          R      mAP50  mAP50-95): 100%|██████████| 4/4 [00:01<00:00,  3.72it/s]"
     ]
    },
    {
     "name": "stdout",
     "output_type": "stream",
     "text": [
      "                   all        105       2063      0.913      0.917      0.967      0.587\n"
     ]
    },
    {
     "name": "stderr",
     "output_type": "stream",
     "text": [
      "\n"
     ]
    },
    {
     "name": "stdout",
     "output_type": "stream",
     "text": [
      "\n",
      "      Epoch    GPU_mem   box_loss   cls_loss   dfl_loss  Instances       Size\n"
     ]
    },
    {
     "name": "stderr",
     "output_type": "stream",
     "text": [
      "      39/50      6.18G      1.258     0.7303     0.9949         56        640: 100%|██████████| 60/60 [00:20<00:00,  2.96it/s]\n",
      "                 Class     Images  Instances      Box(P          R      mAP50  mAP50-95): 100%|██████████| 4/4 [00:01<00:00,  3.57it/s]"
     ]
    },
    {
     "name": "stdout",
     "output_type": "stream",
     "text": [
      "                   all        105       2063      0.915      0.928      0.969      0.572\n"
     ]
    },
    {
     "name": "stderr",
     "output_type": "stream",
     "text": [
      "\n"
     ]
    },
    {
     "name": "stdout",
     "output_type": "stream",
     "text": [
      "\n",
      "      Epoch    GPU_mem   box_loss   cls_loss   dfl_loss  Instances       Size\n"
     ]
    },
    {
     "name": "stderr",
     "output_type": "stream",
     "text": [
      "      40/50      6.22G      1.249     0.7226     0.9962         51        640: 100%|██████████| 60/60 [00:20<00:00,  2.96it/s]\n",
      "                 Class     Images  Instances      Box(P          R      mAP50  mAP50-95): 100%|██████████| 4/4 [00:01<00:00,  3.38it/s]"
     ]
    },
    {
     "name": "stdout",
     "output_type": "stream",
     "text": [
      "                   all        105       2063      0.934       0.94      0.973      0.587\n"
     ]
    },
    {
     "name": "stderr",
     "output_type": "stream",
     "text": [
      "\n"
     ]
    },
    {
     "name": "stdout",
     "output_type": "stream",
     "text": [
      "Closing dataloader mosaic\n",
      "\u001b[34m\u001b[1malbumentations: \u001b[0mBlur(p=0.01, blur_limit=(3, 7)), MedianBlur(p=0.01, blur_limit=(3, 7)), ToGray(p=0.01, num_output_channels=3, method='weighted_average'), CLAHE(p=0.01, clip_limit=(1.0, 4.0), tile_grid_size=(8, 8))\n",
      "\n",
      "      Epoch    GPU_mem   box_loss   cls_loss   dfl_loss  Instances       Size\n"
     ]
    },
    {
     "name": "stderr",
     "output_type": "stream",
     "text": [
      "      41/50      6.26G      1.245     0.7213      1.015         20        640: 100%|██████████| 60/60 [00:24<00:00,  2.45it/s]\n",
      "                 Class     Images  Instances      Box(P          R      mAP50  mAP50-95): 100%|██████████| 4/4 [00:01<00:00,  3.09it/s]"
     ]
    },
    {
     "name": "stdout",
     "output_type": "stream",
     "text": [
      "                   all        105       2063      0.944       0.93      0.976      0.596\n"
     ]
    },
    {
     "name": "stderr",
     "output_type": "stream",
     "text": [
      "\n"
     ]
    },
    {
     "name": "stdout",
     "output_type": "stream",
     "text": [
      "\n",
      "      Epoch    GPU_mem   box_loss   cls_loss   dfl_loss  Instances       Size\n"
     ]
    },
    {
     "name": "stderr",
     "output_type": "stream",
     "text": [
      "      42/50      6.29G      1.234     0.7123       1.02         19        640: 100%|██████████| 60/60 [00:21<00:00,  2.86it/s]\n",
      "                 Class     Images  Instances      Box(P          R      mAP50  mAP50-95): 100%|██████████| 4/4 [00:01<00:00,  3.24it/s]"
     ]
    },
    {
     "name": "stdout",
     "output_type": "stream",
     "text": [
      "                   all        105       2063      0.929      0.931      0.971      0.602\n"
     ]
    },
    {
     "name": "stderr",
     "output_type": "stream",
     "text": [
      "\n"
     ]
    },
    {
     "name": "stdout",
     "output_type": "stream",
     "text": [
      "\n",
      "      Epoch    GPU_mem   box_loss   cls_loss   dfl_loss  Instances       Size\n"
     ]
    },
    {
     "name": "stderr",
     "output_type": "stream",
     "text": [
      "      43/50      6.33G      1.222     0.7139      1.014         20        640: 100%|██████████| 60/60 [00:21<00:00,  2.81it/s]\n",
      "                 Class     Images  Instances      Box(P          R      mAP50  mAP50-95): 100%|██████████| 4/4 [00:01<00:00,  3.17it/s]"
     ]
    },
    {
     "name": "stdout",
     "output_type": "stream",
     "text": [
      "                   all        105       2063      0.942      0.929      0.976      0.578\n"
     ]
    },
    {
     "name": "stderr",
     "output_type": "stream",
     "text": [
      "\n"
     ]
    },
    {
     "name": "stdout",
     "output_type": "stream",
     "text": [
      "\n",
      "      Epoch    GPU_mem   box_loss   cls_loss   dfl_loss  Instances       Size\n"
     ]
    },
    {
     "name": "stderr",
     "output_type": "stream",
     "text": [
      "      44/50      6.37G      1.212     0.7131      1.012         19        640: 100%|██████████| 60/60 [00:21<00:00,  2.82it/s]\n",
      "                 Class     Images  Instances      Box(P          R      mAP50  mAP50-95): 100%|██████████| 4/4 [00:01<00:00,  3.22it/s]\n"
     ]
    },
    {
     "name": "stdout",
     "output_type": "stream",
     "text": [
      "                   all        105       2063      0.933      0.928      0.972      0.605\n",
      "\n",
      "      Epoch    GPU_mem   box_loss   cls_loss   dfl_loss  Instances       Size\n"
     ]
    },
    {
     "name": "stderr",
     "output_type": "stream",
     "text": [
      "      45/50       6.4G      1.202      0.704      1.014         20        640: 100%|██████████| 60/60 [00:21<00:00,  2.85it/s]\n",
      "                 Class     Images  Instances      Box(P          R      mAP50  mAP50-95): 100%|██████████| 4/4 [00:01<00:00,  2.91it/s]"
     ]
    },
    {
     "name": "stdout",
     "output_type": "stream",
     "text": [
      "                   all        105       2063      0.927      0.934      0.974      0.605\n"
     ]
    },
    {
     "name": "stderr",
     "output_type": "stream",
     "text": [
      "\n"
     ]
    },
    {
     "name": "stdout",
     "output_type": "stream",
     "text": [
      "\n",
      "      Epoch    GPU_mem   box_loss   cls_loss   dfl_loss  Instances       Size\n"
     ]
    },
    {
     "name": "stderr",
     "output_type": "stream",
     "text": [
      "      46/50      6.44G      1.201     0.7057      1.011         20        640: 100%|██████████| 60/60 [00:20<00:00,  2.90it/s]\n",
      "                 Class     Images  Instances      Box(P          R      mAP50  mAP50-95): 100%|██████████| 4/4 [00:01<00:00,  2.80it/s]\n"
     ]
    },
    {
     "name": "stdout",
     "output_type": "stream",
     "text": [
      "                   all        105       2063       0.92      0.929      0.971      0.601\n",
      "\n",
      "      Epoch    GPU_mem   box_loss   cls_loss   dfl_loss  Instances       Size\n"
     ]
    },
    {
     "name": "stderr",
     "output_type": "stream",
     "text": [
      "      47/50       6.7G      1.196     0.7035      1.013         19        640: 100%|██████████| 60/60 [00:21<00:00,  2.83it/s]\n",
      "                 Class     Images  Instances      Box(P          R      mAP50  mAP50-95): 100%|██████████| 4/4 [00:01<00:00,  3.14it/s]"
     ]
    },
    {
     "name": "stdout",
     "output_type": "stream",
     "text": [
      "                   all        105       2063      0.928      0.929      0.972      0.608\n"
     ]
    },
    {
     "name": "stderr",
     "output_type": "stream",
     "text": [
      "\n"
     ]
    },
    {
     "name": "stdout",
     "output_type": "stream",
     "text": [
      "\n",
      "      Epoch    GPU_mem   box_loss   cls_loss   dfl_loss  Instances       Size\n"
     ]
    },
    {
     "name": "stderr",
     "output_type": "stream",
     "text": [
      "      48/50      6.73G      1.178     0.6948      1.004         20        640: 100%|██████████| 60/60 [00:21<00:00,  2.86it/s]\n",
      "                 Class     Images  Instances      Box(P          R      mAP50  mAP50-95): 100%|██████████| 4/4 [00:01<00:00,  3.19it/s]"
     ]
    },
    {
     "name": "stdout",
     "output_type": "stream",
     "text": [
      "                   all        105       2063      0.931      0.935      0.973      0.606\n"
     ]
    },
    {
     "name": "stderr",
     "output_type": "stream",
     "text": [
      "\n"
     ]
    },
    {
     "name": "stdout",
     "output_type": "stream",
     "text": [
      "\n",
      "      Epoch    GPU_mem   box_loss   cls_loss   dfl_loss  Instances       Size\n"
     ]
    },
    {
     "name": "stderr",
     "output_type": "stream",
     "text": [
      "      49/50      6.77G      1.177     0.6933      1.003         20        640: 100%|██████████| 60/60 [00:20<00:00,  2.89it/s]\n",
      "                 Class     Images  Instances      Box(P          R      mAP50  mAP50-95): 100%|██████████| 4/4 [00:01<00:00,  2.70it/s]"
     ]
    },
    {
     "name": "stdout",
     "output_type": "stream",
     "text": [
      "                   all        105       2063      0.925      0.927       0.97      0.599\n"
     ]
    },
    {
     "name": "stderr",
     "output_type": "stream",
     "text": [
      "\n"
     ]
    },
    {
     "name": "stdout",
     "output_type": "stream",
     "text": [
      "\n",
      "      Epoch    GPU_mem   box_loss   cls_loss   dfl_loss  Instances       Size\n"
     ]
    },
    {
     "name": "stderr",
     "output_type": "stream",
     "text": [
      "      50/50      6.81G      1.164     0.6872      1.002         19        640: 100%|██████████| 60/60 [00:20<00:00,  2.97it/s]\n",
      "                 Class     Images  Instances      Box(P          R      mAP50  mAP50-95): 100%|██████████| 4/4 [00:01<00:00,  2.89it/s]\n"
     ]
    },
    {
     "name": "stdout",
     "output_type": "stream",
     "text": [
      "                   all        105       2063      0.926      0.931      0.972      0.609\n",
      "\n",
      "50 epochs completed in 0.314 hours.\n",
      "Optimizer stripped from yolo-handwriting/exp/weights/last.pt, 22.5MB\n",
      "Optimizer stripped from yolo-handwriting/exp/weights/best.pt, 22.5MB\n",
      "\n",
      "Validating yolo-handwriting/exp/weights/best.pt...\n",
      "Ultralytics 8.3.126 🚀 Python-3.11.11 torch-2.6.0+cu124 CUDA:0 (Tesla P100-PCIE-16GB, 16269MiB)\n",
      "Model summary (fused): 72 layers, 11,125,971 parameters, 0 gradients, 28.4 GFLOPs\n"
     ]
    },
    {
     "name": "stderr",
     "output_type": "stream",
     "text": [
      "                 Class     Images  Instances      Box(P          R      mAP50  mAP50-95): 100%|██████████| 4/4 [00:03<00:00,  1.04it/s]\n"
     ]
    },
    {
     "name": "stdout",
     "output_type": "stream",
     "text": [
      "                   all        105       2063      0.926      0.931      0.972      0.608\n"
     ]
    },
    {
     "name": "stderr",
     "output_type": "stream",
     "text": [
      "/usr/local/lib/python3.11/dist-packages/matplotlib/colors.py:721: RuntimeWarning: invalid value encountered in less\n",
      "  xa[xa < 0] = -1\n",
      "/usr/local/lib/python3.11/dist-packages/matplotlib/colors.py:721: RuntimeWarning: invalid value encountered in less\n",
      "  xa[xa < 0] = -1\n"
     ]
    },
    {
     "name": "stdout",
     "output_type": "stream",
     "text": [
      "Speed: 0.1ms preprocess, 3.3ms inference, 0.0ms loss, 2.5ms postprocess per image\n",
      "Results saved to \u001b[1myolo-handwriting/exp\u001b[0m\n"
     ]
    },
    {
     "data": {
      "text/plain": [
       "ultralytics.utils.metrics.DetMetrics object with attributes:\n",
       "\n",
       "ap_class_index: array([0])\n",
       "box: ultralytics.utils.metrics.Metric object\n",
       "confusion_matrix: <ultralytics.utils.metrics.ConfusionMatrix object at 0x7f72c45d5810>\n",
       "curves: ['Precision-Recall(B)', 'F1-Confidence(B)', 'Precision-Confidence(B)', 'Recall-Confidence(B)']\n",
       "curves_results: [[array([          0,    0.001001,    0.002002,    0.003003,    0.004004,    0.005005,    0.006006,    0.007007,    0.008008,    0.009009,     0.01001,    0.011011,    0.012012,    0.013013,    0.014014,    0.015015,    0.016016,    0.017017,    0.018018,    0.019019,     0.02002,    0.021021,    0.022022,    0.023023,\n",
       "          0.024024,    0.025025,    0.026026,    0.027027,    0.028028,    0.029029,     0.03003,    0.031031,    0.032032,    0.033033,    0.034034,    0.035035,    0.036036,    0.037037,    0.038038,    0.039039,     0.04004,    0.041041,    0.042042,    0.043043,    0.044044,    0.045045,    0.046046,    0.047047,\n",
       "          0.048048,    0.049049,     0.05005,    0.051051,    0.052052,    0.053053,    0.054054,    0.055055,    0.056056,    0.057057,    0.058058,    0.059059,     0.06006,    0.061061,    0.062062,    0.063063,    0.064064,    0.065065,    0.066066,    0.067067,    0.068068,    0.069069,     0.07007,    0.071071,\n",
       "          0.072072,    0.073073,    0.074074,    0.075075,    0.076076,    0.077077,    0.078078,    0.079079,     0.08008,    0.081081,    0.082082,    0.083083,    0.084084,    0.085085,    0.086086,    0.087087,    0.088088,    0.089089,     0.09009,    0.091091,    0.092092,    0.093093,    0.094094,    0.095095,\n",
       "          0.096096,    0.097097,    0.098098,    0.099099,      0.1001,      0.1011,      0.1021,      0.1031,      0.1041,     0.10511,     0.10611,     0.10711,     0.10811,     0.10911,     0.11011,     0.11111,     0.11211,     0.11311,     0.11411,     0.11512,     0.11612,     0.11712,     0.11812,     0.11912,\n",
       "           0.12012,     0.12112,     0.12212,     0.12312,     0.12412,     0.12513,     0.12613,     0.12713,     0.12813,     0.12913,     0.13013,     0.13113,     0.13213,     0.13313,     0.13413,     0.13514,     0.13614,     0.13714,     0.13814,     0.13914,     0.14014,     0.14114,     0.14214,     0.14314,\n",
       "           0.14414,     0.14515,     0.14615,     0.14715,     0.14815,     0.14915,     0.15015,     0.15115,     0.15215,     0.15315,     0.15415,     0.15516,     0.15616,     0.15716,     0.15816,     0.15916,     0.16016,     0.16116,     0.16216,     0.16316,     0.16416,     0.16517,     0.16617,     0.16717,\n",
       "           0.16817,     0.16917,     0.17017,     0.17117,     0.17217,     0.17317,     0.17417,     0.17518,     0.17618,     0.17718,     0.17818,     0.17918,     0.18018,     0.18118,     0.18218,     0.18318,     0.18418,     0.18519,     0.18619,     0.18719,     0.18819,     0.18919,     0.19019,     0.19119,\n",
       "           0.19219,     0.19319,     0.19419,      0.1952,      0.1962,      0.1972,      0.1982,      0.1992,      0.2002,      0.2012,      0.2022,      0.2032,      0.2042,     0.20521,     0.20621,     0.20721,     0.20821,     0.20921,     0.21021,     0.21121,     0.21221,     0.21321,     0.21421,     0.21522,\n",
       "           0.21622,     0.21722,     0.21822,     0.21922,     0.22022,     0.22122,     0.22222,     0.22322,     0.22422,     0.22523,     0.22623,     0.22723,     0.22823,     0.22923,     0.23023,     0.23123,     0.23223,     0.23323,     0.23423,     0.23524,     0.23624,     0.23724,     0.23824,     0.23924,\n",
       "           0.24024,     0.24124,     0.24224,     0.24324,     0.24424,     0.24525,     0.24625,     0.24725,     0.24825,     0.24925,     0.25025,     0.25125,     0.25225,     0.25325,     0.25425,     0.25526,     0.25626,     0.25726,     0.25826,     0.25926,     0.26026,     0.26126,     0.26226,     0.26326,\n",
       "           0.26426,     0.26527,     0.26627,     0.26727,     0.26827,     0.26927,     0.27027,     0.27127,     0.27227,     0.27327,     0.27427,     0.27528,     0.27628,     0.27728,     0.27828,     0.27928,     0.28028,     0.28128,     0.28228,     0.28328,     0.28428,     0.28529,     0.28629,     0.28729,\n",
       "           0.28829,     0.28929,     0.29029,     0.29129,     0.29229,     0.29329,     0.29429,      0.2953,      0.2963,      0.2973,      0.2983,      0.2993,      0.3003,      0.3013,      0.3023,      0.3033,      0.3043,     0.30531,     0.30631,     0.30731,     0.30831,     0.30931,     0.31031,     0.31131,\n",
       "           0.31231,     0.31331,     0.31431,     0.31532,     0.31632,     0.31732,     0.31832,     0.31932,     0.32032,     0.32132,     0.32232,     0.32332,     0.32432,     0.32533,     0.32633,     0.32733,     0.32833,     0.32933,     0.33033,     0.33133,     0.33233,     0.33333,     0.33433,     0.33534,\n",
       "           0.33634,     0.33734,     0.33834,     0.33934,     0.34034,     0.34134,     0.34234,     0.34334,     0.34434,     0.34535,     0.34635,     0.34735,     0.34835,     0.34935,     0.35035,     0.35135,     0.35235,     0.35335,     0.35435,     0.35536,     0.35636,     0.35736,     0.35836,     0.35936,\n",
       "           0.36036,     0.36136,     0.36236,     0.36336,     0.36436,     0.36537,     0.36637,     0.36737,     0.36837,     0.36937,     0.37037,     0.37137,     0.37237,     0.37337,     0.37437,     0.37538,     0.37638,     0.37738,     0.37838,     0.37938,     0.38038,     0.38138,     0.38238,     0.38338,\n",
       "           0.38438,     0.38539,     0.38639,     0.38739,     0.38839,     0.38939,     0.39039,     0.39139,     0.39239,     0.39339,     0.39439,      0.3954,      0.3964,      0.3974,      0.3984,      0.3994,      0.4004,      0.4014,      0.4024,      0.4034,      0.4044,     0.40541,     0.40641,     0.40741,\n",
       "           0.40841,     0.40941,     0.41041,     0.41141,     0.41241,     0.41341,     0.41441,     0.41542,     0.41642,     0.41742,     0.41842,     0.41942,     0.42042,     0.42142,     0.42242,     0.42342,     0.42442,     0.42543,     0.42643,     0.42743,     0.42843,     0.42943,     0.43043,     0.43143,\n",
       "           0.43243,     0.43343,     0.43443,     0.43544,     0.43644,     0.43744,     0.43844,     0.43944,     0.44044,     0.44144,     0.44244,     0.44344,     0.44444,     0.44545,     0.44645,     0.44745,     0.44845,     0.44945,     0.45045,     0.45145,     0.45245,     0.45345,     0.45445,     0.45546,\n",
       "           0.45646,     0.45746,     0.45846,     0.45946,     0.46046,     0.46146,     0.46246,     0.46346,     0.46446,     0.46547,     0.46647,     0.46747,     0.46847,     0.46947,     0.47047,     0.47147,     0.47247,     0.47347,     0.47447,     0.47548,     0.47648,     0.47748,     0.47848,     0.47948,\n",
       "           0.48048,     0.48148,     0.48248,     0.48348,     0.48448,     0.48549,     0.48649,     0.48749,     0.48849,     0.48949,     0.49049,     0.49149,     0.49249,     0.49349,     0.49449,      0.4955,      0.4965,      0.4975,      0.4985,      0.4995,      0.5005,      0.5015,      0.5025,      0.5035,\n",
       "            0.5045,     0.50551,     0.50651,     0.50751,     0.50851,     0.50951,     0.51051,     0.51151,     0.51251,     0.51351,     0.51451,     0.51552,     0.51652,     0.51752,     0.51852,     0.51952,     0.52052,     0.52152,     0.52252,     0.52352,     0.52452,     0.52553,     0.52653,     0.52753,\n",
       "           0.52853,     0.52953,     0.53053,     0.53153,     0.53253,     0.53353,     0.53453,     0.53554,     0.53654,     0.53754,     0.53854,     0.53954,     0.54054,     0.54154,     0.54254,     0.54354,     0.54454,     0.54555,     0.54655,     0.54755,     0.54855,     0.54955,     0.55055,     0.55155,\n",
       "           0.55255,     0.55355,     0.55455,     0.55556,     0.55656,     0.55756,     0.55856,     0.55956,     0.56056,     0.56156,     0.56256,     0.56356,     0.56456,     0.56557,     0.56657,     0.56757,     0.56857,     0.56957,     0.57057,     0.57157,     0.57257,     0.57357,     0.57457,     0.57558,\n",
       "           0.57658,     0.57758,     0.57858,     0.57958,     0.58058,     0.58158,     0.58258,     0.58358,     0.58458,     0.58559,     0.58659,     0.58759,     0.58859,     0.58959,     0.59059,     0.59159,     0.59259,     0.59359,     0.59459,      0.5956,      0.5966,      0.5976,      0.5986,      0.5996,\n",
       "            0.6006,      0.6016,      0.6026,      0.6036,      0.6046,     0.60561,     0.60661,     0.60761,     0.60861,     0.60961,     0.61061,     0.61161,     0.61261,     0.61361,     0.61461,     0.61562,     0.61662,     0.61762,     0.61862,     0.61962,     0.62062,     0.62162,     0.62262,     0.62362,\n",
       "           0.62462,     0.62563,     0.62663,     0.62763,     0.62863,     0.62963,     0.63063,     0.63163,     0.63263,     0.63363,     0.63463,     0.63564,     0.63664,     0.63764,     0.63864,     0.63964,     0.64064,     0.64164,     0.64264,     0.64364,     0.64464,     0.64565,     0.64665,     0.64765,\n",
       "           0.64865,     0.64965,     0.65065,     0.65165,     0.65265,     0.65365,     0.65465,     0.65566,     0.65666,     0.65766,     0.65866,     0.65966,     0.66066,     0.66166,     0.66266,     0.66366,     0.66466,     0.66567,     0.66667,     0.66767,     0.66867,     0.66967,     0.67067,     0.67167,\n",
       "           0.67267,     0.67367,     0.67467,     0.67568,     0.67668,     0.67768,     0.67868,     0.67968,     0.68068,     0.68168,     0.68268,     0.68368,     0.68468,     0.68569,     0.68669,     0.68769,     0.68869,     0.68969,     0.69069,     0.69169,     0.69269,     0.69369,     0.69469,      0.6957,\n",
       "            0.6967,      0.6977,      0.6987,      0.6997,      0.7007,      0.7017,      0.7027,      0.7037,      0.7047,     0.70571,     0.70671,     0.70771,     0.70871,     0.70971,     0.71071,     0.71171,     0.71271,     0.71371,     0.71471,     0.71572,     0.71672,     0.71772,     0.71872,     0.71972,\n",
       "           0.72072,     0.72172,     0.72272,     0.72372,     0.72472,     0.72573,     0.72673,     0.72773,     0.72873,     0.72973,     0.73073,     0.73173,     0.73273,     0.73373,     0.73473,     0.73574,     0.73674,     0.73774,     0.73874,     0.73974,     0.74074,     0.74174,     0.74274,     0.74374,\n",
       "           0.74474,     0.74575,     0.74675,     0.74775,     0.74875,     0.74975,     0.75075,     0.75175,     0.75275,     0.75375,     0.75475,     0.75576,     0.75676,     0.75776,     0.75876,     0.75976,     0.76076,     0.76176,     0.76276,     0.76376,     0.76476,     0.76577,     0.76677,     0.76777,\n",
       "           0.76877,     0.76977,     0.77077,     0.77177,     0.77277,     0.77377,     0.77477,     0.77578,     0.77678,     0.77778,     0.77878,     0.77978,     0.78078,     0.78178,     0.78278,     0.78378,     0.78478,     0.78579,     0.78679,     0.78779,     0.78879,     0.78979,     0.79079,     0.79179,\n",
       "           0.79279,     0.79379,     0.79479,      0.7958,      0.7968,      0.7978,      0.7988,      0.7998,      0.8008,      0.8018,      0.8028,      0.8038,      0.8048,     0.80581,     0.80681,     0.80781,     0.80881,     0.80981,     0.81081,     0.81181,     0.81281,     0.81381,     0.81481,     0.81582,\n",
       "           0.81682,     0.81782,     0.81882,     0.81982,     0.82082,     0.82182,     0.82282,     0.82382,     0.82482,     0.82583,     0.82683,     0.82783,     0.82883,     0.82983,     0.83083,     0.83183,     0.83283,     0.83383,     0.83483,     0.83584,     0.83684,     0.83784,     0.83884,     0.83984,\n",
       "           0.84084,     0.84184,     0.84284,     0.84384,     0.84484,     0.84585,     0.84685,     0.84785,     0.84885,     0.84985,     0.85085,     0.85185,     0.85285,     0.85385,     0.85485,     0.85586,     0.85686,     0.85786,     0.85886,     0.85986,     0.86086,     0.86186,     0.86286,     0.86386,\n",
       "           0.86486,     0.86587,     0.86687,     0.86787,     0.86887,     0.86987,     0.87087,     0.87187,     0.87287,     0.87387,     0.87487,     0.87588,     0.87688,     0.87788,     0.87888,     0.87988,     0.88088,     0.88188,     0.88288,     0.88388,     0.88488,     0.88589,     0.88689,     0.88789,\n",
       "           0.88889,     0.88989,     0.89089,     0.89189,     0.89289,     0.89389,     0.89489,      0.8959,      0.8969,      0.8979,      0.8989,      0.8999,      0.9009,      0.9019,      0.9029,      0.9039,      0.9049,     0.90591,     0.90691,     0.90791,     0.90891,     0.90991,     0.91091,     0.91191,\n",
       "           0.91291,     0.91391,     0.91491,     0.91592,     0.91692,     0.91792,     0.91892,     0.91992,     0.92092,     0.92192,     0.92292,     0.92392,     0.92492,     0.92593,     0.92693,     0.92793,     0.92893,     0.92993,     0.93093,     0.93193,     0.93293,     0.93393,     0.93493,     0.93594,\n",
       "           0.93694,     0.93794,     0.93894,     0.93994,     0.94094,     0.94194,     0.94294,     0.94394,     0.94494,     0.94595,     0.94695,     0.94795,     0.94895,     0.94995,     0.95095,     0.95195,     0.95295,     0.95395,     0.95495,     0.95596,     0.95696,     0.95796,     0.95896,     0.95996,\n",
       "           0.96096,     0.96196,     0.96296,     0.96396,     0.96496,     0.96597,     0.96697,     0.96797,     0.96897,     0.96997,     0.97097,     0.97197,     0.97297,     0.97397,     0.97497,     0.97598,     0.97698,     0.97798,     0.97898,     0.97998,     0.98098,     0.98198,     0.98298,     0.98398,\n",
       "           0.98498,     0.98599,     0.98699,     0.98799,     0.98899,     0.98999,     0.99099,     0.99199,     0.99299,     0.99399,     0.99499,       0.996,       0.997,       0.998,       0.999,           1]), array([[          1,           1,           1,           1,           1,           1,           1,           1,           1,           1,           1,           1,           1,           1,           1,           1,           1,           1,           1,           1,           1,           1,           1,\n",
       "                  1,           1,           1,           1,           1,           1,           1,           1,           1,           1,           1,           1,           1,           1,           1,           1,           1,           1,           1,           1,           1,           1,           1,\n",
       "                  1,           1,           1,           1,           1,           1,           1,           1,           1,           1,           1,           1,           1,           1,           1,           1,           1,           1,           1,           1,           1,           1,           1,\n",
       "                  1,           1,           1,           1,           1,           1,           1,           1,           1,           1,           1,           1,           1,           1,           1,           1,           1,           1,           1,           1,           1,           1,           1,\n",
       "                  1,           1,           1,           1,           1,           1,           1,           1,           1,           1,           1,           1,           1,           1,           1,           1,           1,           1,           1,           1,           1,           1,           1,\n",
       "                  1,           1,           1,           1,           1,           1,           1,           1,           1,           1,           1,           1,           1,           1,           1,           1,           1,           1,           1,           1,           1,           1,           1,\n",
       "                  1,           1,           1,           1,           1,           1,           1,           1,           1,           1,           1,           1,           1,           1,           1,           1,           1,           1,           1,           1,           1,           1,           1,\n",
       "                  1,           1,           1,           1,           1,           1,           1,           1,           1,           1,           1,           1,           1,           1,           1,           1,           1,           1,           1,           1,           1,           1,           1,\n",
       "                  1,           1,           1,           1,           1,           1,           1,           1,           1,           1,           1,           1,           1,           1,           1,           1,           1,           1,           1,           1,           1,           1,           1,\n",
       "                  1,           1,           1,           1,           1,           1,           1,           1,           1,           1,           1,           1,           1,           1,           1,           1,           1,           1,           1,           1,           1,           1,           1,\n",
       "                  1,           1,           1,           1,           1,           1,           1,           1,           1,           1,           1,           1,           1,           1,           1,           1,           1,           1,           1,           1,           1,           1,           1,\n",
       "                  1,           1,           1,           1,           1,           1,           1,           1,           1,           1,           1,           1,           1,           1,           1,           1,           1,           1,           1,           1,           1,           1,           1,\n",
       "                  1,           1,           1,           1,           1,           1,           1,           1,           1,           1,           1,           1,           1,           1,           1,           1,           1,           1,           1,           1,           1,           1,     0.99838,\n",
       "            0.99838,     0.99685,     0.99685,     0.99685,     0.99685,     0.99685,     0.99685,     0.99685,     0.99543,     0.99543,     0.99543,     0.99543,     0.99543,     0.99543,     0.99543,     0.99543,     0.99543,     0.99543,     0.99447,     0.99447,     0.99447,     0.99447,     0.99447,\n",
       "            0.99447,     0.99447,     0.99447,     0.99447,     0.99447,     0.99447,     0.99447,     0.99447,     0.99447,     0.99447,     0.99447,     0.99447,     0.99447,     0.99447,     0.99447,     0.99447,     0.99447,     0.99447,     0.99447,     0.99447,     0.99447,     0.99447,     0.99447,\n",
       "            0.99447,     0.99447,     0.99447,     0.99447,     0.99319,     0.99319,     0.99319,     0.99319,     0.99319,     0.99314,     0.99314,     0.99314,     0.99314,     0.99314,     0.99314,     0.99314,     0.99314,     0.99314,     0.99314,     0.99314,     0.99314,     0.99314,     0.99314,\n",
       "            0.99314,     0.99314,     0.99314,     0.99314,     0.99314,     0.99314,     0.99314,     0.99314,     0.99314,     0.99314,     0.99314,     0.99314,     0.99314,     0.99314,     0.99314,     0.99314,     0.99314,     0.99314,     0.99314,     0.99314,     0.99314,     0.99314,     0.99314,\n",
       "            0.99314,     0.99314,     0.99314,     0.99314,     0.99314,     0.99314,     0.99314,     0.99314,     0.99314,     0.99314,     0.99314,     0.99314,     0.99314,     0.99314,     0.99314,     0.99314,     0.99314,     0.99314,     0.99314,     0.99314,     0.99314,     0.99314,     0.99314,\n",
       "            0.99314,     0.99314,     0.99314,     0.99314,     0.99314,     0.99314,     0.99314,     0.99225,     0.99225,     0.99225,     0.99225,     0.99225,     0.99225,     0.99225,     0.99225,     0.99225,     0.99225,     0.99225,     0.99225,     0.99225,     0.99171,     0.99171,     0.99171,\n",
       "            0.99171,     0.99171,     0.99171,     0.99171,     0.99171,     0.99171,     0.99171,     0.99171,     0.99171,     0.99171,     0.99171,     0.99171,     0.99171,     0.99171,     0.99171,     0.99171,     0.99171,     0.99171,     0.99171,     0.99171,     0.99171,     0.99171,     0.99171,\n",
       "            0.99171,     0.99171,     0.99171,     0.99171,     0.99155,     0.99155,     0.99155,     0.99155,     0.99155,     0.99155,     0.99155,     0.99155,     0.99155,     0.99155,     0.99155,     0.99155,     0.99155,     0.99155,     0.99155,     0.99155,     0.99155,     0.99155,     0.99155,\n",
       "            0.99155,     0.99155,     0.99155,     0.99155,     0.99155,     0.99155,     0.99155,     0.99155,     0.99155,     0.99155,     0.99155,     0.99155,     0.99155,     0.99155,     0.99155,     0.99155,     0.99155,     0.99155,     0.99155,     0.99155,     0.99155,     0.99155,     0.99155,\n",
       "            0.99155,     0.99155,     0.99155,     0.99155,     0.99155,     0.99155,     0.99155,     0.99155,     0.99155,     0.99155,     0.99155,     0.99155,     0.99155,     0.99155,     0.99155,     0.99155,     0.99155,     0.99155,     0.99155,     0.99155,     0.99155,     0.99155,     0.99155,\n",
       "            0.99155,     0.99155,     0.99155,     0.99155,     0.99155,     0.99155,     0.99155,     0.99155,     0.99155,     0.99155,     0.99155,     0.99155,     0.99155,     0.99155,     0.99155,     0.99155,     0.99155,     0.99155,     0.99155,     0.99155,     0.99155,     0.99155,     0.99155,\n",
       "            0.99155,     0.99155,     0.99155,     0.99155,     0.99155,     0.99155,     0.99155,     0.99155,     0.99155,     0.99155,     0.99155,     0.99155,     0.99155,     0.99155,     0.99155,     0.99155,     0.99155,     0.99083,     0.99083,     0.99083,     0.99083,     0.99083,     0.99083,\n",
       "            0.99083,     0.99003,     0.99003,     0.98943,     0.98943,     0.98943,     0.98943,     0.98943,     0.98943,     0.98943,     0.98943,     0.98943,     0.98943,     0.98943,     0.98943,     0.98866,     0.98866,     0.98821,     0.98821,     0.98821,     0.98821,     0.98821,     0.98821,\n",
       "            0.98821,     0.98821,     0.98821,     0.98821,     0.98821,     0.98821,     0.98821,     0.98821,     0.98821,     0.98821,     0.98821,     0.98773,     0.98773,     0.98773,     0.98773,     0.98773,     0.98773,     0.98773,     0.98773,     0.98773,     0.98773,     0.98773,     0.98773,\n",
       "            0.98773,     0.98773,     0.98773,     0.98723,     0.98723,     0.98723,     0.98723,     0.98723,     0.98723,     0.98723,     0.98723,     0.98723,     0.98723,     0.98723,     0.98723,     0.98723,     0.98657,     0.98657,     0.98657,     0.98657,     0.98602,     0.98602,     0.98602,\n",
       "            0.98602,     0.98602,     0.98602,     0.98602,     0.98602,     0.98538,     0.98538,     0.98538,     0.98538,     0.98489,     0.98489,     0.98489,     0.98489,     0.98489,     0.98489,     0.98489,     0.98489,     0.98489,     0.98489,     0.98421,     0.98351,     0.98223,     0.98223,\n",
       "            0.98223,     0.98223,     0.98223,     0.98192,     0.98192,     0.98192,     0.98192,     0.98192,     0.98192,     0.98192,     0.98192,     0.98192,     0.98192,     0.98192,     0.98192,     0.98192,     0.98192,     0.98192,     0.98192,     0.98192,     0.98192,     0.98192,     0.98192,\n",
       "            0.98192,     0.98192,     0.98192,     0.98192,     0.98192,     0.98192,     0.98192,     0.98192,     0.98192,     0.98192,     0.98192,     0.98192,     0.98192,     0.98192,     0.98192,     0.98192,     0.98192,     0.98192,     0.98192,     0.98192,     0.98136,     0.98136,     0.98136,\n",
       "            0.98136,     0.98074,     0.98074,     0.98031,     0.98031,     0.98031,     0.98031,     0.98031,     0.98031,     0.98031,     0.98031,     0.97986,     0.97986,     0.97986,     0.97986,     0.97986,     0.97986,     0.97986,     0.97941,     0.97941,     0.97941,     0.97941,     0.97941,\n",
       "            0.97941,     0.97941,     0.97843,     0.97843,     0.97843,     0.97843,     0.97843,     0.97843,     0.97843,     0.97843,     0.97843,     0.97786,     0.97786,     0.97749,     0.97749,     0.97749,     0.97749,     0.97749,     0.97749,     0.97749,     0.97749,     0.97696,     0.97696,\n",
       "            0.97696,     0.97596,     0.97596,     0.97596,     0.97596,     0.97596,     0.97596,     0.97596,     0.97495,     0.97495,     0.97495,     0.97495,     0.97495,     0.97495,     0.97442,     0.97442,     0.97391,     0.97391,     0.97391,     0.97294,     0.97294,     0.97294,     0.97294,\n",
       "            0.97294,     0.97294,     0.97268,     0.97268,     0.97268,     0.97268,     0.97268,     0.97268,     0.97268,     0.97268,     0.97268,     0.97268,     0.97229,     0.97229,     0.97229,     0.97229,     0.97229,     0.97173,     0.97128,     0.97128,     0.97128,     0.96973,     0.96973,\n",
       "            0.96973,     0.96973,     0.96929,     0.96929,     0.96929,     0.96929,     0.96879,     0.96857,     0.96857,     0.96857,     0.96857,     0.96857,     0.96857,     0.96857,     0.96857,     0.96857,     0.96804,     0.96754,     0.96646,     0.96602,     0.96602,     0.96602,     0.96453,\n",
       "            0.96453,     0.96453,     0.96409,     0.96409,     0.96357,     0.96265,     0.96265,     0.96265,     0.96265,     0.96226,     0.96226,     0.96226,     0.96128,     0.96128,      0.9608,     0.96055,     0.96055,     0.96055,     0.96055,     0.96055,     0.96055,     0.95974,     0.95974,\n",
       "            0.95974,     0.95974,     0.95974,     0.95974,     0.95935,     0.95935,     0.95935,     0.95836,     0.95748,     0.95748,     0.95748,     0.95661,     0.95661,     0.95661,      0.9551,     0.95418,     0.95418,     0.95382,     0.95382,     0.95382,     0.95337,     0.95243,     0.95221,\n",
       "            0.95221,     0.95221,     0.95221,     0.95221,     0.95173,     0.95107,     0.95107,     0.95107,     0.95107,     0.95107,     0.95107,     0.94982,     0.94982,     0.94982,     0.94982,     0.94982,     0.94889,     0.94853,     0.94853,     0.94767,     0.94767,      0.9468,      0.9468,\n",
       "            0.94643,     0.94643,     0.94552,     0.94467,     0.94467,     0.94377,     0.94341,     0.94341,     0.94299,     0.94209,     0.94177,     0.94177,     0.94153,     0.94153,     0.94153,     0.94153,     0.94068,     0.93977,     0.93939,     0.93806,     0.93762,     0.93725,     0.93682,\n",
       "            0.93183,     0.93144,     0.93109,     0.93077,     0.93077,     0.92993,     0.92958,     0.92791,     0.92791,     0.92705,     0.92623,     0.92596,     0.92596,     0.92389,     0.92389,     0.92304,     0.92271,     0.92103,     0.91939,     0.91813,     0.91734,     0.91486,     0.91276,\n",
       "            0.91079,     0.91079,     0.90706,     0.90551,     0.90268,     0.89991,     0.89991,     0.89835,      0.8903,     0.88799,       0.885,     0.88386,     0.87845,     0.87356,     0.87329,     0.87296,        0.87,     0.86833,     0.86833,     0.86129,     0.85992,     0.84508,     0.84313,\n",
       "            0.83859,     0.83174,     0.82809,     0.82251,      0.8153,     0.80789,     0.80192,      0.8008,      0.7981,      0.7861,     0.78444,     0.78036,     0.77842,     0.77471,      0.7687,     0.75569,     0.74834,     0.73818,     0.71939,     0.70955,     0.69641,     0.69212,     0.67795,\n",
       "            0.66439,     0.65045,     0.63062,     0.58343,     0.53733,     0.44904,      0.3422,     0.25665,      0.1711,     0.08555,           0]]), 'Recall', 'Precision'], [array([          0,    0.001001,    0.002002,    0.003003,    0.004004,    0.005005,    0.006006,    0.007007,    0.008008,    0.009009,     0.01001,    0.011011,    0.012012,    0.013013,    0.014014,    0.015015,    0.016016,    0.017017,    0.018018,    0.019019,     0.02002,    0.021021,    0.022022,    0.023023,\n",
       "          0.024024,    0.025025,    0.026026,    0.027027,    0.028028,    0.029029,     0.03003,    0.031031,    0.032032,    0.033033,    0.034034,    0.035035,    0.036036,    0.037037,    0.038038,    0.039039,     0.04004,    0.041041,    0.042042,    0.043043,    0.044044,    0.045045,    0.046046,    0.047047,\n",
       "          0.048048,    0.049049,     0.05005,    0.051051,    0.052052,    0.053053,    0.054054,    0.055055,    0.056056,    0.057057,    0.058058,    0.059059,     0.06006,    0.061061,    0.062062,    0.063063,    0.064064,    0.065065,    0.066066,    0.067067,    0.068068,    0.069069,     0.07007,    0.071071,\n",
       "          0.072072,    0.073073,    0.074074,    0.075075,    0.076076,    0.077077,    0.078078,    0.079079,     0.08008,    0.081081,    0.082082,    0.083083,    0.084084,    0.085085,    0.086086,    0.087087,    0.088088,    0.089089,     0.09009,    0.091091,    0.092092,    0.093093,    0.094094,    0.095095,\n",
       "          0.096096,    0.097097,    0.098098,    0.099099,      0.1001,      0.1011,      0.1021,      0.1031,      0.1041,     0.10511,     0.10611,     0.10711,     0.10811,     0.10911,     0.11011,     0.11111,     0.11211,     0.11311,     0.11411,     0.11512,     0.11612,     0.11712,     0.11812,     0.11912,\n",
       "           0.12012,     0.12112,     0.12212,     0.12312,     0.12412,     0.12513,     0.12613,     0.12713,     0.12813,     0.12913,     0.13013,     0.13113,     0.13213,     0.13313,     0.13413,     0.13514,     0.13614,     0.13714,     0.13814,     0.13914,     0.14014,     0.14114,     0.14214,     0.14314,\n",
       "           0.14414,     0.14515,     0.14615,     0.14715,     0.14815,     0.14915,     0.15015,     0.15115,     0.15215,     0.15315,     0.15415,     0.15516,     0.15616,     0.15716,     0.15816,     0.15916,     0.16016,     0.16116,     0.16216,     0.16316,     0.16416,     0.16517,     0.16617,     0.16717,\n",
       "           0.16817,     0.16917,     0.17017,     0.17117,     0.17217,     0.17317,     0.17417,     0.17518,     0.17618,     0.17718,     0.17818,     0.17918,     0.18018,     0.18118,     0.18218,     0.18318,     0.18418,     0.18519,     0.18619,     0.18719,     0.18819,     0.18919,     0.19019,     0.19119,\n",
       "           0.19219,     0.19319,     0.19419,      0.1952,      0.1962,      0.1972,      0.1982,      0.1992,      0.2002,      0.2012,      0.2022,      0.2032,      0.2042,     0.20521,     0.20621,     0.20721,     0.20821,     0.20921,     0.21021,     0.21121,     0.21221,     0.21321,     0.21421,     0.21522,\n",
       "           0.21622,     0.21722,     0.21822,     0.21922,     0.22022,     0.22122,     0.22222,     0.22322,     0.22422,     0.22523,     0.22623,     0.22723,     0.22823,     0.22923,     0.23023,     0.23123,     0.23223,     0.23323,     0.23423,     0.23524,     0.23624,     0.23724,     0.23824,     0.23924,\n",
       "           0.24024,     0.24124,     0.24224,     0.24324,     0.24424,     0.24525,     0.24625,     0.24725,     0.24825,     0.24925,     0.25025,     0.25125,     0.25225,     0.25325,     0.25425,     0.25526,     0.25626,     0.25726,     0.25826,     0.25926,     0.26026,     0.26126,     0.26226,     0.26326,\n",
       "           0.26426,     0.26527,     0.26627,     0.26727,     0.26827,     0.26927,     0.27027,     0.27127,     0.27227,     0.27327,     0.27427,     0.27528,     0.27628,     0.27728,     0.27828,     0.27928,     0.28028,     0.28128,     0.28228,     0.28328,     0.28428,     0.28529,     0.28629,     0.28729,\n",
       "           0.28829,     0.28929,     0.29029,     0.29129,     0.29229,     0.29329,     0.29429,      0.2953,      0.2963,      0.2973,      0.2983,      0.2993,      0.3003,      0.3013,      0.3023,      0.3033,      0.3043,     0.30531,     0.30631,     0.30731,     0.30831,     0.30931,     0.31031,     0.31131,\n",
       "           0.31231,     0.31331,     0.31431,     0.31532,     0.31632,     0.31732,     0.31832,     0.31932,     0.32032,     0.32132,     0.32232,     0.32332,     0.32432,     0.32533,     0.32633,     0.32733,     0.32833,     0.32933,     0.33033,     0.33133,     0.33233,     0.33333,     0.33433,     0.33534,\n",
       "           0.33634,     0.33734,     0.33834,     0.33934,     0.34034,     0.34134,     0.34234,     0.34334,     0.34434,     0.34535,     0.34635,     0.34735,     0.34835,     0.34935,     0.35035,     0.35135,     0.35235,     0.35335,     0.35435,     0.35536,     0.35636,     0.35736,     0.35836,     0.35936,\n",
       "           0.36036,     0.36136,     0.36236,     0.36336,     0.36436,     0.36537,     0.36637,     0.36737,     0.36837,     0.36937,     0.37037,     0.37137,     0.37237,     0.37337,     0.37437,     0.37538,     0.37638,     0.37738,     0.37838,     0.37938,     0.38038,     0.38138,     0.38238,     0.38338,\n",
       "           0.38438,     0.38539,     0.38639,     0.38739,     0.38839,     0.38939,     0.39039,     0.39139,     0.39239,     0.39339,     0.39439,      0.3954,      0.3964,      0.3974,      0.3984,      0.3994,      0.4004,      0.4014,      0.4024,      0.4034,      0.4044,     0.40541,     0.40641,     0.40741,\n",
       "           0.40841,     0.40941,     0.41041,     0.41141,     0.41241,     0.41341,     0.41441,     0.41542,     0.41642,     0.41742,     0.41842,     0.41942,     0.42042,     0.42142,     0.42242,     0.42342,     0.42442,     0.42543,     0.42643,     0.42743,     0.42843,     0.42943,     0.43043,     0.43143,\n",
       "           0.43243,     0.43343,     0.43443,     0.43544,     0.43644,     0.43744,     0.43844,     0.43944,     0.44044,     0.44144,     0.44244,     0.44344,     0.44444,     0.44545,     0.44645,     0.44745,     0.44845,     0.44945,     0.45045,     0.45145,     0.45245,     0.45345,     0.45445,     0.45546,\n",
       "           0.45646,     0.45746,     0.45846,     0.45946,     0.46046,     0.46146,     0.46246,     0.46346,     0.46446,     0.46547,     0.46647,     0.46747,     0.46847,     0.46947,     0.47047,     0.47147,     0.47247,     0.47347,     0.47447,     0.47548,     0.47648,     0.47748,     0.47848,     0.47948,\n",
       "           0.48048,     0.48148,     0.48248,     0.48348,     0.48448,     0.48549,     0.48649,     0.48749,     0.48849,     0.48949,     0.49049,     0.49149,     0.49249,     0.49349,     0.49449,      0.4955,      0.4965,      0.4975,      0.4985,      0.4995,      0.5005,      0.5015,      0.5025,      0.5035,\n",
       "            0.5045,     0.50551,     0.50651,     0.50751,     0.50851,     0.50951,     0.51051,     0.51151,     0.51251,     0.51351,     0.51451,     0.51552,     0.51652,     0.51752,     0.51852,     0.51952,     0.52052,     0.52152,     0.52252,     0.52352,     0.52452,     0.52553,     0.52653,     0.52753,\n",
       "           0.52853,     0.52953,     0.53053,     0.53153,     0.53253,     0.53353,     0.53453,     0.53554,     0.53654,     0.53754,     0.53854,     0.53954,     0.54054,     0.54154,     0.54254,     0.54354,     0.54454,     0.54555,     0.54655,     0.54755,     0.54855,     0.54955,     0.55055,     0.55155,\n",
       "           0.55255,     0.55355,     0.55455,     0.55556,     0.55656,     0.55756,     0.55856,     0.55956,     0.56056,     0.56156,     0.56256,     0.56356,     0.56456,     0.56557,     0.56657,     0.56757,     0.56857,     0.56957,     0.57057,     0.57157,     0.57257,     0.57357,     0.57457,     0.57558,\n",
       "           0.57658,     0.57758,     0.57858,     0.57958,     0.58058,     0.58158,     0.58258,     0.58358,     0.58458,     0.58559,     0.58659,     0.58759,     0.58859,     0.58959,     0.59059,     0.59159,     0.59259,     0.59359,     0.59459,      0.5956,      0.5966,      0.5976,      0.5986,      0.5996,\n",
       "            0.6006,      0.6016,      0.6026,      0.6036,      0.6046,     0.60561,     0.60661,     0.60761,     0.60861,     0.60961,     0.61061,     0.61161,     0.61261,     0.61361,     0.61461,     0.61562,     0.61662,     0.61762,     0.61862,     0.61962,     0.62062,     0.62162,     0.62262,     0.62362,\n",
       "           0.62462,     0.62563,     0.62663,     0.62763,     0.62863,     0.62963,     0.63063,     0.63163,     0.63263,     0.63363,     0.63463,     0.63564,     0.63664,     0.63764,     0.63864,     0.63964,     0.64064,     0.64164,     0.64264,     0.64364,     0.64464,     0.64565,     0.64665,     0.64765,\n",
       "           0.64865,     0.64965,     0.65065,     0.65165,     0.65265,     0.65365,     0.65465,     0.65566,     0.65666,     0.65766,     0.65866,     0.65966,     0.66066,     0.66166,     0.66266,     0.66366,     0.66466,     0.66567,     0.66667,     0.66767,     0.66867,     0.66967,     0.67067,     0.67167,\n",
       "           0.67267,     0.67367,     0.67467,     0.67568,     0.67668,     0.67768,     0.67868,     0.67968,     0.68068,     0.68168,     0.68268,     0.68368,     0.68468,     0.68569,     0.68669,     0.68769,     0.68869,     0.68969,     0.69069,     0.69169,     0.69269,     0.69369,     0.69469,      0.6957,\n",
       "            0.6967,      0.6977,      0.6987,      0.6997,      0.7007,      0.7017,      0.7027,      0.7037,      0.7047,     0.70571,     0.70671,     0.70771,     0.70871,     0.70971,     0.71071,     0.71171,     0.71271,     0.71371,     0.71471,     0.71572,     0.71672,     0.71772,     0.71872,     0.71972,\n",
       "           0.72072,     0.72172,     0.72272,     0.72372,     0.72472,     0.72573,     0.72673,     0.72773,     0.72873,     0.72973,     0.73073,     0.73173,     0.73273,     0.73373,     0.73473,     0.73574,     0.73674,     0.73774,     0.73874,     0.73974,     0.74074,     0.74174,     0.74274,     0.74374,\n",
       "           0.74474,     0.74575,     0.74675,     0.74775,     0.74875,     0.74975,     0.75075,     0.75175,     0.75275,     0.75375,     0.75475,     0.75576,     0.75676,     0.75776,     0.75876,     0.75976,     0.76076,     0.76176,     0.76276,     0.76376,     0.76476,     0.76577,     0.76677,     0.76777,\n",
       "           0.76877,     0.76977,     0.77077,     0.77177,     0.77277,     0.77377,     0.77477,     0.77578,     0.77678,     0.77778,     0.77878,     0.77978,     0.78078,     0.78178,     0.78278,     0.78378,     0.78478,     0.78579,     0.78679,     0.78779,     0.78879,     0.78979,     0.79079,     0.79179,\n",
       "           0.79279,     0.79379,     0.79479,      0.7958,      0.7968,      0.7978,      0.7988,      0.7998,      0.8008,      0.8018,      0.8028,      0.8038,      0.8048,     0.80581,     0.80681,     0.80781,     0.80881,     0.80981,     0.81081,     0.81181,     0.81281,     0.81381,     0.81481,     0.81582,\n",
       "           0.81682,     0.81782,     0.81882,     0.81982,     0.82082,     0.82182,     0.82282,     0.82382,     0.82482,     0.82583,     0.82683,     0.82783,     0.82883,     0.82983,     0.83083,     0.83183,     0.83283,     0.83383,     0.83483,     0.83584,     0.83684,     0.83784,     0.83884,     0.83984,\n",
       "           0.84084,     0.84184,     0.84284,     0.84384,     0.84484,     0.84585,     0.84685,     0.84785,     0.84885,     0.84985,     0.85085,     0.85185,     0.85285,     0.85385,     0.85485,     0.85586,     0.85686,     0.85786,     0.85886,     0.85986,     0.86086,     0.86186,     0.86286,     0.86386,\n",
       "           0.86486,     0.86587,     0.86687,     0.86787,     0.86887,     0.86987,     0.87087,     0.87187,     0.87287,     0.87387,     0.87487,     0.87588,     0.87688,     0.87788,     0.87888,     0.87988,     0.88088,     0.88188,     0.88288,     0.88388,     0.88488,     0.88589,     0.88689,     0.88789,\n",
       "           0.88889,     0.88989,     0.89089,     0.89189,     0.89289,     0.89389,     0.89489,      0.8959,      0.8969,      0.8979,      0.8989,      0.8999,      0.9009,      0.9019,      0.9029,      0.9039,      0.9049,     0.90591,     0.90691,     0.90791,     0.90891,     0.90991,     0.91091,     0.91191,\n",
       "           0.91291,     0.91391,     0.91491,     0.91592,     0.91692,     0.91792,     0.91892,     0.91992,     0.92092,     0.92192,     0.92292,     0.92392,     0.92492,     0.92593,     0.92693,     0.92793,     0.92893,     0.92993,     0.93093,     0.93193,     0.93293,     0.93393,     0.93493,     0.93594,\n",
       "           0.93694,     0.93794,     0.93894,     0.93994,     0.94094,     0.94194,     0.94294,     0.94394,     0.94494,     0.94595,     0.94695,     0.94795,     0.94895,     0.94995,     0.95095,     0.95195,     0.95295,     0.95395,     0.95495,     0.95596,     0.95696,     0.95796,     0.95896,     0.95996,\n",
       "           0.96096,     0.96196,     0.96296,     0.96396,     0.96496,     0.96597,     0.96697,     0.96797,     0.96897,     0.96997,     0.97097,     0.97197,     0.97297,     0.97397,     0.97497,     0.97598,     0.97698,     0.97798,     0.97898,     0.97998,     0.98098,     0.98198,     0.98298,     0.98398,\n",
       "           0.98498,     0.98599,     0.98699,     0.98799,     0.98899,     0.98999,     0.99099,     0.99199,     0.99299,     0.99399,     0.99499,       0.996,       0.997,       0.998,       0.999,           1]), array([[    0.54253,     0.54253,     0.58191,     0.60183,     0.61605,     0.62515,     0.63236,     0.63944,     0.64642,     0.65176,     0.65727,      0.6621,     0.66559,     0.66905,     0.67263,     0.67567,     0.67902,     0.68271,      0.6856,     0.68816,     0.69139,     0.69412,     0.69652,\n",
       "            0.69922,     0.70115,     0.70297,     0.70415,     0.70618,     0.70742,     0.70915,     0.71117,     0.71283,     0.71455,     0.71671,      0.7182,     0.71998,     0.72175,       0.723,     0.72391,     0.72515,     0.72636,     0.72704,     0.72845,     0.72971,     0.73129,     0.73276,\n",
       "            0.73324,     0.73448,     0.73571,     0.73669,     0.73716,     0.73863,      0.7403,     0.74204,     0.74359,      0.7449,     0.74599,     0.74771,     0.74928,     0.75034,      0.7514,     0.75203,     0.75305,     0.75337,     0.75457,     0.75528,     0.75659,     0.75744,     0.75816,\n",
       "             0.7593,     0.76054,     0.76169,     0.76309,     0.76406,     0.76549,      0.7667,     0.76751,     0.76875,     0.76999,     0.77035,     0.77179,     0.77233,     0.77324,     0.77403,     0.77458,      0.7755,     0.77599,     0.77719,     0.77881,     0.77963,     0.78098,     0.78204,\n",
       "            0.78282,     0.78386,     0.78447,     0.78533,     0.78632,       0.787,     0.78843,     0.78903,     0.79017,      0.7905,     0.79186,     0.79397,     0.79486,     0.79505,     0.79585,      0.7969,     0.79746,     0.79826,     0.79906,     0.79979,     0.80051,     0.80108,     0.80182,\n",
       "            0.80235,     0.80318,     0.80387,     0.80469,     0.80456,     0.80566,     0.80635,     0.80688,     0.80765,     0.80852,     0.80929,     0.81016,     0.81119,     0.81238,     0.81356,     0.81397,      0.8142,     0.81505,     0.81559,     0.81588,     0.81714,     0.81784,      0.8185,\n",
       "            0.81896,     0.81936,     0.81982,     0.82069,      0.8212,     0.82154,     0.82247,     0.82322,     0.82473,     0.82507,     0.82551,     0.82668,     0.82702,     0.82739,     0.82799,      0.8282,     0.82949,     0.83102,     0.83165,     0.83212,     0.83277,     0.83312,     0.83428,\n",
       "            0.83447,     0.83532,     0.83581,     0.83636,      0.8368,     0.83746,     0.83762,     0.83862,     0.83911,      0.8403,     0.84095,     0.84164,     0.84245,     0.84343,     0.84356,     0.84378,     0.84445,     0.84512,     0.84559,     0.84661,     0.84675,     0.84758,     0.84856,\n",
       "            0.84871,     0.84931,     0.84967,     0.85027,     0.85049,     0.85067,     0.85124,     0.85147,     0.85262,     0.85272,     0.85301,     0.85367,     0.85398,     0.85449,     0.85499,     0.85547,     0.85643,     0.85764,      0.8583,     0.85911,     0.85995,     0.86025,      0.8607,\n",
       "            0.86173,     0.86197,     0.86224,      0.8629,     0.86317,     0.86402,     0.86441,     0.86527,      0.8652,     0.86613,     0.86637,     0.86725,     0.86779,     0.86806,     0.86819,     0.86939,     0.86967,     0.87015,     0.87016,     0.87021,     0.87099,     0.87145,     0.87229,\n",
       "            0.87294,     0.87359,     0.87463,     0.87546,     0.87594,     0.87639,     0.87685,     0.87747,     0.87743,     0.87788,     0.87804,     0.87902,     0.87917,     0.87958,     0.87984,     0.88044,     0.88148,     0.88252,     0.88332,     0.88439,      0.8856,      0.8861,     0.88648,\n",
       "             0.8865,     0.88751,     0.88764,     0.88888,      0.8893,     0.88967,      0.8903,     0.89065,     0.89102,     0.89123,      0.8915,     0.89178,     0.89245,     0.89292,     0.89334,     0.89395,     0.89464,      0.8952,     0.89577,     0.89615,     0.89699,     0.89724,     0.89772,\n",
       "            0.89815,     0.89813,      0.8994,     0.90049,     0.90022,     0.90091,     0.90109,     0.90156,     0.90262,     0.90349,     0.90395,     0.90407,     0.90467,     0.90536,     0.90578,     0.90592,     0.90713,     0.90777,     0.90846,     0.90871,     0.90929,     0.90928,      0.9095,\n",
       "            0.91062,     0.91087,     0.91112,     0.91197,     0.91283,     0.91251,     0.91223,     0.91215,     0.91288,     0.91266,     0.91331,     0.91373,     0.91385,     0.91374,      0.9137,     0.91396,     0.91438,     0.91462,      0.9151,     0.91524,      0.9157,     0.91558,     0.91647,\n",
       "            0.91758,      0.9177,     0.91783,     0.91858,     0.91821,     0.91889,     0.91931,     0.91972,      0.9203,     0.92043,     0.92084,     0.92082,     0.92109,     0.92218,     0.92327,     0.92401,     0.92401,     0.92414,     0.92431,      0.9248,       0.925,     0.92491,     0.92502,\n",
       "            0.92515,     0.92528,      0.9254,     0.92604,     0.92575,     0.92603,     0.92597,     0.92686,     0.92754,     0.92709,     0.92726,     0.92751,      0.9277,     0.92839,     0.92811,     0.92918,     0.92896,     0.92938,     0.92934,     0.92953,     0.92928,     0.92951,     0.93001,\n",
       "            0.92927,     0.92945,     0.92909,     0.92893,     0.92961,     0.92965,     0.92891,     0.92877,     0.92856,     0.92846,     0.92841,     0.92856,     0.92814,     0.92806,     0.92859,     0.92793,     0.92805,     0.92798,     0.92736,     0.92716,     0.92649,     0.92622,     0.92586,\n",
       "            0.92654,       0.927,     0.92791,     0.92812,     0.92761,     0.92751,     0.92774,     0.92719,     0.92718,     0.92706,     0.92696,     0.92589,      0.9252,     0.92507,     0.92451,     0.92424,     0.92392,     0.92405,     0.92363,     0.92293,     0.92262,     0.92273,     0.92226,\n",
       "            0.92216,     0.92203,     0.92148,     0.92121,     0.92126,     0.92112,     0.92061,     0.91999,     0.92008,     0.91929,     0.91901,     0.91896,      0.9185,     0.91873,     0.91805,     0.91777,     0.91695,     0.91677,     0.91681,     0.91599,     0.91435,     0.91399,     0.91359,\n",
       "            0.91285,     0.91271,     0.91192,     0.91136,     0.91048,     0.91066,     0.91006,     0.90894,     0.90911,     0.90861,     0.90832,     0.90817,     0.90803,     0.90845,     0.90868,     0.90778,     0.90749,     0.90699,     0.90676,     0.90647,     0.90575,     0.90587,     0.90548,\n",
       "            0.90541,     0.90456,     0.90423,     0.90338,     0.90224,     0.90139,     0.90015,     0.89929,     0.89843,     0.89814,     0.89774,     0.89723,     0.89534,     0.89527,     0.89441,     0.89354,     0.89308,     0.89221,     0.89099,     0.89092,     0.89051,     0.88992,     0.88945,\n",
       "            0.88885,     0.88845,     0.88727,      0.8861,     0.88433,     0.88355,     0.88337,     0.88242,     0.88108,     0.88116,     0.87888,     0.87798,     0.87731,     0.87724,     0.87573,     0.87423,     0.87265,     0.87204,     0.87082,      0.8696,     0.86899,     0.86868,     0.86769,\n",
       "            0.86646,     0.86524,     0.86348,     0.86217,     0.86093,     0.85907,      0.8586,     0.85704,     0.85501,     0.85406,     0.85241,     0.85083,     0.84893,     0.84852,     0.84804,     0.84726,     0.84461,     0.84301,     0.84138,     0.84122,     0.83928,     0.83766,     0.83724,\n",
       "            0.83594,     0.83561,     0.83398,      0.8316,     0.82996,     0.82897,     0.82765,     0.82689,     0.82678,     0.82546,     0.82479,     0.82303,     0.82169,     0.82102,     0.81935,       0.818,     0.81666,     0.81631,     0.81496,     0.81462,      0.8136,     0.81157,     0.81021,\n",
       "            0.80952,     0.80747,     0.80644,     0.80507,     0.80335,     0.80203,     0.80168,     0.80064,     0.79994,     0.79889,      0.7975,     0.79645,     0.79633,     0.79493,     0.79423,     0.79357,     0.79334,     0.79092,     0.79056,     0.78739,     0.78561,     0.78548,     0.78299,\n",
       "            0.78214,     0.77856,     0.77676,     0.77695,     0.77625,     0.77358,     0.77333,     0.77266,     0.77156,     0.76864,     0.76644,     0.76483,     0.76188,     0.76113,     0.76001,     0.75852,     0.75777,     0.75702,     0.75589,     0.75402,     0.75274,     0.74917,     0.74803,\n",
       "            0.74651,     0.74498,      0.7427,     0.74193,     0.74039,     0.73908,     0.73814,     0.73698,     0.73582,      0.7333,      0.7329,     0.73173,     0.73017,     0.72788,     0.72553,     0.72317,     0.72259,     0.72219,     0.72083,        0.72,     0.71899,     0.71879,      0.7172,\n",
       "             0.7148,     0.71439,     0.71239,     0.71033,     0.70775,     0.70693,     0.70531,     0.70327,     0.70123,     0.69959,     0.69877,      0.6961,     0.69568,     0.69279,     0.69154,     0.68863,     0.68636,     0.68424,     0.68298,     0.68087,     0.67918,     0.67664,     0.67448,\n",
       "            0.67387,     0.67173,     0.67002,     0.66701,     0.66572,     0.66248,      0.6616,     0.66073,     0.65812,     0.65491,     0.65089,     0.64868,     0.64646,     0.64557,     0.64312,     0.64177,     0.63775,     0.63639,     0.63502,      0.6319,     0.63201,     0.63023,     0.62833,\n",
       "            0.62634,     0.62359,     0.62083,     0.61691,     0.61412,     0.61364,     0.61208,      0.6094,     0.60916,     0.60683,     0.60303,     0.60066,     0.59828,      0.5947,     0.59325,     0.59137,     0.58955,     0.58742,     0.58547,     0.58304,     0.57791,     0.57496,     0.57287,\n",
       "            0.57075,     0.56876,     0.56627,     0.56252,     0.56001,     0.55326,     0.55116,      0.5481,     0.54528,     0.54271,     0.53521,     0.53208,     0.52838,     0.52709,     0.52298,     0.51961,     0.51854,     0.51736,      0.5161,     0.51255,     0.50582,     0.50526,     0.50129,\n",
       "            0.49845,     0.49571,     0.49158,     0.48913,     0.48352,     0.48295,     0.47939,     0.47611,     0.47243,     0.47069,     0.46833,     0.46718,      0.4633,     0.45951,     0.45832,     0.45629,     0.45164,     0.45089,     0.44724,     0.44107,     0.43967,     0.43364,     0.43303,\n",
       "            0.42854,     0.42225,      0.4216,     0.42057,     0.41307,     0.40874,     0.40783,     0.40103,     0.39635,       0.395,     0.39177,     0.38627,     0.38422,     0.37831,     0.37478,     0.37393,     0.37057,     0.36442,     0.36222,     0.35362,     0.34507,     0.34434,     0.33932,\n",
       "            0.33496,     0.32955,     0.32908,     0.32272,     0.31853,     0.31308,     0.31158,     0.30647,     0.29982,     0.29895,     0.28992,     0.28687,     0.28527,     0.28275,     0.27891,      0.2712,     0.26945,     0.26499,     0.25989,     0.25762,     0.25318,     0.25018,     0.24758,\n",
       "            0.24191,     0.23931,      0.2328,      0.2281,     0.22206,     0.21948,     0.21583,     0.21173,     0.20723,     0.20625,     0.20246,     0.20073,     0.19452,      0.1936,     0.18883,     0.18442,      0.1796,     0.17649,     0.16863,     0.16293,     0.16237,      0.1587,     0.15605,\n",
       "             0.1545,     0.15051,     0.14994,     0.14752,     0.14249,     0.13618,     0.13363,     0.13164,     0.12736,     0.12167,     0.11788,     0.11181,     0.10795,     0.10736,     0.10387,    0.099481,    0.098883,    0.095861,    0.093177,    0.089449,    0.084235,    0.078991,    0.074544,\n",
       "            0.07393,    0.073092,     0.06967,    0.067632,    0.065139,     0.06361,    0.062989,     0.06164,    0.058497,    0.055199,    0.053827,     0.04918,    0.047307,    0.046359,    0.045443,    0.044969,     0.04247,    0.040535,    0.040058,    0.039257,    0.038301,     0.03641,    0.033794,\n",
       "            0.03168,    0.030034,    0.028956,    0.023243,     0.02215,    0.021615,    0.021129,    0.015446,    0.015011,     0.01462,    0.012958,    0.011977,    0.010994,   0.0090508,   0.0076317,    0.006974,   0.0066738,   0.0065422,   0.0064106,   0.0062789,   0.0061472,   0.0060155,   0.0058838,\n",
       "          0.0057202,   0.0055007,    0.005281,   0.0050613,   0.0048416,   0.0045607,   0.0042781,   0.0039953,   0.0037598,   0.0035618,   0.0033638,   0.0031657,   0.0029675,   0.0027116,   0.0024284,   0.0021451,    0.001912,   0.0018175,    0.001723,   0.0016285,    0.001534,   0.0014395,    0.001345,\n",
       "          0.0012505,    0.001156,   0.0010615,           0,           0,           0,           0,           0,           0,           0,           0,           0,           0,           0,           0,           0,           0,           0,           0,           0,           0,           0,           0,\n",
       "                  0,           0,           0,           0,           0,           0,           0,           0,           0,           0,           0,           0,           0,           0,           0,           0,           0,           0,           0,           0,           0,           0,           0,\n",
       "                  0,           0,           0,           0,           0,           0,           0,           0,           0,           0,           0,           0,           0,           0,           0,           0,           0,           0,           0,           0,           0,           0,           0,\n",
       "                  0,           0,           0,           0,           0,           0,           0,           0,           0,           0,           0,           0,           0,           0,           0,           0,           0,           0,           0,           0,           0,           0,           0,\n",
       "                  0,           0,           0,           0,           0,           0,           0,           0,           0,           0,           0]]), 'Confidence', 'F1'], [array([          0,    0.001001,    0.002002,    0.003003,    0.004004,    0.005005,    0.006006,    0.007007,    0.008008,    0.009009,     0.01001,    0.011011,    0.012012,    0.013013,    0.014014,    0.015015,    0.016016,    0.017017,    0.018018,    0.019019,     0.02002,    0.021021,    0.022022,    0.023023,\n",
       "          0.024024,    0.025025,    0.026026,    0.027027,    0.028028,    0.029029,     0.03003,    0.031031,    0.032032,    0.033033,    0.034034,    0.035035,    0.036036,    0.037037,    0.038038,    0.039039,     0.04004,    0.041041,    0.042042,    0.043043,    0.044044,    0.045045,    0.046046,    0.047047,\n",
       "          0.048048,    0.049049,     0.05005,    0.051051,    0.052052,    0.053053,    0.054054,    0.055055,    0.056056,    0.057057,    0.058058,    0.059059,     0.06006,    0.061061,    0.062062,    0.063063,    0.064064,    0.065065,    0.066066,    0.067067,    0.068068,    0.069069,     0.07007,    0.071071,\n",
       "          0.072072,    0.073073,    0.074074,    0.075075,    0.076076,    0.077077,    0.078078,    0.079079,     0.08008,    0.081081,    0.082082,    0.083083,    0.084084,    0.085085,    0.086086,    0.087087,    0.088088,    0.089089,     0.09009,    0.091091,    0.092092,    0.093093,    0.094094,    0.095095,\n",
       "          0.096096,    0.097097,    0.098098,    0.099099,      0.1001,      0.1011,      0.1021,      0.1031,      0.1041,     0.10511,     0.10611,     0.10711,     0.10811,     0.10911,     0.11011,     0.11111,     0.11211,     0.11311,     0.11411,     0.11512,     0.11612,     0.11712,     0.11812,     0.11912,\n",
       "           0.12012,     0.12112,     0.12212,     0.12312,     0.12412,     0.12513,     0.12613,     0.12713,     0.12813,     0.12913,     0.13013,     0.13113,     0.13213,     0.13313,     0.13413,     0.13514,     0.13614,     0.13714,     0.13814,     0.13914,     0.14014,     0.14114,     0.14214,     0.14314,\n",
       "           0.14414,     0.14515,     0.14615,     0.14715,     0.14815,     0.14915,     0.15015,     0.15115,     0.15215,     0.15315,     0.15415,     0.15516,     0.15616,     0.15716,     0.15816,     0.15916,     0.16016,     0.16116,     0.16216,     0.16316,     0.16416,     0.16517,     0.16617,     0.16717,\n",
       "           0.16817,     0.16917,     0.17017,     0.17117,     0.17217,     0.17317,     0.17417,     0.17518,     0.17618,     0.17718,     0.17818,     0.17918,     0.18018,     0.18118,     0.18218,     0.18318,     0.18418,     0.18519,     0.18619,     0.18719,     0.18819,     0.18919,     0.19019,     0.19119,\n",
       "           0.19219,     0.19319,     0.19419,      0.1952,      0.1962,      0.1972,      0.1982,      0.1992,      0.2002,      0.2012,      0.2022,      0.2032,      0.2042,     0.20521,     0.20621,     0.20721,     0.20821,     0.20921,     0.21021,     0.21121,     0.21221,     0.21321,     0.21421,     0.21522,\n",
       "           0.21622,     0.21722,     0.21822,     0.21922,     0.22022,     0.22122,     0.22222,     0.22322,     0.22422,     0.22523,     0.22623,     0.22723,     0.22823,     0.22923,     0.23023,     0.23123,     0.23223,     0.23323,     0.23423,     0.23524,     0.23624,     0.23724,     0.23824,     0.23924,\n",
       "           0.24024,     0.24124,     0.24224,     0.24324,     0.24424,     0.24525,     0.24625,     0.24725,     0.24825,     0.24925,     0.25025,     0.25125,     0.25225,     0.25325,     0.25425,     0.25526,     0.25626,     0.25726,     0.25826,     0.25926,     0.26026,     0.26126,     0.26226,     0.26326,\n",
       "           0.26426,     0.26527,     0.26627,     0.26727,     0.26827,     0.26927,     0.27027,     0.27127,     0.27227,     0.27327,     0.27427,     0.27528,     0.27628,     0.27728,     0.27828,     0.27928,     0.28028,     0.28128,     0.28228,     0.28328,     0.28428,     0.28529,     0.28629,     0.28729,\n",
       "           0.28829,     0.28929,     0.29029,     0.29129,     0.29229,     0.29329,     0.29429,      0.2953,      0.2963,      0.2973,      0.2983,      0.2993,      0.3003,      0.3013,      0.3023,      0.3033,      0.3043,     0.30531,     0.30631,     0.30731,     0.30831,     0.30931,     0.31031,     0.31131,\n",
       "           0.31231,     0.31331,     0.31431,     0.31532,     0.31632,     0.31732,     0.31832,     0.31932,     0.32032,     0.32132,     0.32232,     0.32332,     0.32432,     0.32533,     0.32633,     0.32733,     0.32833,     0.32933,     0.33033,     0.33133,     0.33233,     0.33333,     0.33433,     0.33534,\n",
       "           0.33634,     0.33734,     0.33834,     0.33934,     0.34034,     0.34134,     0.34234,     0.34334,     0.34434,     0.34535,     0.34635,     0.34735,     0.34835,     0.34935,     0.35035,     0.35135,     0.35235,     0.35335,     0.35435,     0.35536,     0.35636,     0.35736,     0.35836,     0.35936,\n",
       "           0.36036,     0.36136,     0.36236,     0.36336,     0.36436,     0.36537,     0.36637,     0.36737,     0.36837,     0.36937,     0.37037,     0.37137,     0.37237,     0.37337,     0.37437,     0.37538,     0.37638,     0.37738,     0.37838,     0.37938,     0.38038,     0.38138,     0.38238,     0.38338,\n",
       "           0.38438,     0.38539,     0.38639,     0.38739,     0.38839,     0.38939,     0.39039,     0.39139,     0.39239,     0.39339,     0.39439,      0.3954,      0.3964,      0.3974,      0.3984,      0.3994,      0.4004,      0.4014,      0.4024,      0.4034,      0.4044,     0.40541,     0.40641,     0.40741,\n",
       "           0.40841,     0.40941,     0.41041,     0.41141,     0.41241,     0.41341,     0.41441,     0.41542,     0.41642,     0.41742,     0.41842,     0.41942,     0.42042,     0.42142,     0.42242,     0.42342,     0.42442,     0.42543,     0.42643,     0.42743,     0.42843,     0.42943,     0.43043,     0.43143,\n",
       "           0.43243,     0.43343,     0.43443,     0.43544,     0.43644,     0.43744,     0.43844,     0.43944,     0.44044,     0.44144,     0.44244,     0.44344,     0.44444,     0.44545,     0.44645,     0.44745,     0.44845,     0.44945,     0.45045,     0.45145,     0.45245,     0.45345,     0.45445,     0.45546,\n",
       "           0.45646,     0.45746,     0.45846,     0.45946,     0.46046,     0.46146,     0.46246,     0.46346,     0.46446,     0.46547,     0.46647,     0.46747,     0.46847,     0.46947,     0.47047,     0.47147,     0.47247,     0.47347,     0.47447,     0.47548,     0.47648,     0.47748,     0.47848,     0.47948,\n",
       "           0.48048,     0.48148,     0.48248,     0.48348,     0.48448,     0.48549,     0.48649,     0.48749,     0.48849,     0.48949,     0.49049,     0.49149,     0.49249,     0.49349,     0.49449,      0.4955,      0.4965,      0.4975,      0.4985,      0.4995,      0.5005,      0.5015,      0.5025,      0.5035,\n",
       "            0.5045,     0.50551,     0.50651,     0.50751,     0.50851,     0.50951,     0.51051,     0.51151,     0.51251,     0.51351,     0.51451,     0.51552,     0.51652,     0.51752,     0.51852,     0.51952,     0.52052,     0.52152,     0.52252,     0.52352,     0.52452,     0.52553,     0.52653,     0.52753,\n",
       "           0.52853,     0.52953,     0.53053,     0.53153,     0.53253,     0.53353,     0.53453,     0.53554,     0.53654,     0.53754,     0.53854,     0.53954,     0.54054,     0.54154,     0.54254,     0.54354,     0.54454,     0.54555,     0.54655,     0.54755,     0.54855,     0.54955,     0.55055,     0.55155,\n",
       "           0.55255,     0.55355,     0.55455,     0.55556,     0.55656,     0.55756,     0.55856,     0.55956,     0.56056,     0.56156,     0.56256,     0.56356,     0.56456,     0.56557,     0.56657,     0.56757,     0.56857,     0.56957,     0.57057,     0.57157,     0.57257,     0.57357,     0.57457,     0.57558,\n",
       "           0.57658,     0.57758,     0.57858,     0.57958,     0.58058,     0.58158,     0.58258,     0.58358,     0.58458,     0.58559,     0.58659,     0.58759,     0.58859,     0.58959,     0.59059,     0.59159,     0.59259,     0.59359,     0.59459,      0.5956,      0.5966,      0.5976,      0.5986,      0.5996,\n",
       "            0.6006,      0.6016,      0.6026,      0.6036,      0.6046,     0.60561,     0.60661,     0.60761,     0.60861,     0.60961,     0.61061,     0.61161,     0.61261,     0.61361,     0.61461,     0.61562,     0.61662,     0.61762,     0.61862,     0.61962,     0.62062,     0.62162,     0.62262,     0.62362,\n",
       "           0.62462,     0.62563,     0.62663,     0.62763,     0.62863,     0.62963,     0.63063,     0.63163,     0.63263,     0.63363,     0.63463,     0.63564,     0.63664,     0.63764,     0.63864,     0.63964,     0.64064,     0.64164,     0.64264,     0.64364,     0.64464,     0.64565,     0.64665,     0.64765,\n",
       "           0.64865,     0.64965,     0.65065,     0.65165,     0.65265,     0.65365,     0.65465,     0.65566,     0.65666,     0.65766,     0.65866,     0.65966,     0.66066,     0.66166,     0.66266,     0.66366,     0.66466,     0.66567,     0.66667,     0.66767,     0.66867,     0.66967,     0.67067,     0.67167,\n",
       "           0.67267,     0.67367,     0.67467,     0.67568,     0.67668,     0.67768,     0.67868,     0.67968,     0.68068,     0.68168,     0.68268,     0.68368,     0.68468,     0.68569,     0.68669,     0.68769,     0.68869,     0.68969,     0.69069,     0.69169,     0.69269,     0.69369,     0.69469,      0.6957,\n",
       "            0.6967,      0.6977,      0.6987,      0.6997,      0.7007,      0.7017,      0.7027,      0.7037,      0.7047,     0.70571,     0.70671,     0.70771,     0.70871,     0.70971,     0.71071,     0.71171,     0.71271,     0.71371,     0.71471,     0.71572,     0.71672,     0.71772,     0.71872,     0.71972,\n",
       "           0.72072,     0.72172,     0.72272,     0.72372,     0.72472,     0.72573,     0.72673,     0.72773,     0.72873,     0.72973,     0.73073,     0.73173,     0.73273,     0.73373,     0.73473,     0.73574,     0.73674,     0.73774,     0.73874,     0.73974,     0.74074,     0.74174,     0.74274,     0.74374,\n",
       "           0.74474,     0.74575,     0.74675,     0.74775,     0.74875,     0.74975,     0.75075,     0.75175,     0.75275,     0.75375,     0.75475,     0.75576,     0.75676,     0.75776,     0.75876,     0.75976,     0.76076,     0.76176,     0.76276,     0.76376,     0.76476,     0.76577,     0.76677,     0.76777,\n",
       "           0.76877,     0.76977,     0.77077,     0.77177,     0.77277,     0.77377,     0.77477,     0.77578,     0.77678,     0.77778,     0.77878,     0.77978,     0.78078,     0.78178,     0.78278,     0.78378,     0.78478,     0.78579,     0.78679,     0.78779,     0.78879,     0.78979,     0.79079,     0.79179,\n",
       "           0.79279,     0.79379,     0.79479,      0.7958,      0.7968,      0.7978,      0.7988,      0.7998,      0.8008,      0.8018,      0.8028,      0.8038,      0.8048,     0.80581,     0.80681,     0.80781,     0.80881,     0.80981,     0.81081,     0.81181,     0.81281,     0.81381,     0.81481,     0.81582,\n",
       "           0.81682,     0.81782,     0.81882,     0.81982,     0.82082,     0.82182,     0.82282,     0.82382,     0.82482,     0.82583,     0.82683,     0.82783,     0.82883,     0.82983,     0.83083,     0.83183,     0.83283,     0.83383,     0.83483,     0.83584,     0.83684,     0.83784,     0.83884,     0.83984,\n",
       "           0.84084,     0.84184,     0.84284,     0.84384,     0.84484,     0.84585,     0.84685,     0.84785,     0.84885,     0.84985,     0.85085,     0.85185,     0.85285,     0.85385,     0.85485,     0.85586,     0.85686,     0.85786,     0.85886,     0.85986,     0.86086,     0.86186,     0.86286,     0.86386,\n",
       "           0.86486,     0.86587,     0.86687,     0.86787,     0.86887,     0.86987,     0.87087,     0.87187,     0.87287,     0.87387,     0.87487,     0.87588,     0.87688,     0.87788,     0.87888,     0.87988,     0.88088,     0.88188,     0.88288,     0.88388,     0.88488,     0.88589,     0.88689,     0.88789,\n",
       "           0.88889,     0.88989,     0.89089,     0.89189,     0.89289,     0.89389,     0.89489,      0.8959,      0.8969,      0.8979,      0.8989,      0.8999,      0.9009,      0.9019,      0.9029,      0.9039,      0.9049,     0.90591,     0.90691,     0.90791,     0.90891,     0.90991,     0.91091,     0.91191,\n",
       "           0.91291,     0.91391,     0.91491,     0.91592,     0.91692,     0.91792,     0.91892,     0.91992,     0.92092,     0.92192,     0.92292,     0.92392,     0.92492,     0.92593,     0.92693,     0.92793,     0.92893,     0.92993,     0.93093,     0.93193,     0.93293,     0.93393,     0.93493,     0.93594,\n",
       "           0.93694,     0.93794,     0.93894,     0.93994,     0.94094,     0.94194,     0.94294,     0.94394,     0.94494,     0.94595,     0.94695,     0.94795,     0.94895,     0.94995,     0.95095,     0.95195,     0.95295,     0.95395,     0.95495,     0.95596,     0.95696,     0.95796,     0.95896,     0.95996,\n",
       "           0.96096,     0.96196,     0.96296,     0.96396,     0.96496,     0.96597,     0.96697,     0.96797,     0.96897,     0.96997,     0.97097,     0.97197,     0.97297,     0.97397,     0.97497,     0.97598,     0.97698,     0.97798,     0.97898,     0.97998,     0.98098,     0.98198,     0.98298,     0.98398,\n",
       "           0.98498,     0.98599,     0.98699,     0.98799,     0.98899,     0.98999,     0.99099,     0.99199,     0.99299,     0.99399,     0.99499,       0.996,       0.997,       0.998,       0.999,           1]), array([[    0.37284,     0.37284,     0.41117,     0.43134,      0.4461,     0.45582,     0.46352,     0.47116,     0.47879,     0.48467,     0.49079,      0.4962,     0.50013,     0.50404,     0.50825,     0.51173,     0.51558,     0.51984,      0.5232,     0.52619,     0.52998,     0.53319,     0.53603,\n",
       "            0.53938,     0.54168,     0.54385,     0.54526,      0.5477,      0.5492,     0.55143,     0.55388,      0.5559,     0.55799,     0.56063,     0.56246,     0.56465,     0.56682,     0.56837,      0.5695,     0.57103,     0.57254,     0.57338,     0.57514,     0.57671,     0.57868,     0.58053,\n",
       "            0.58113,     0.58269,      0.5844,     0.58565,     0.58623,      0.5881,     0.59022,     0.59244,     0.59441,     0.59609,     0.59748,      0.5997,     0.60172,     0.60309,     0.60446,     0.60527,      0.6066,     0.60701,     0.60876,     0.60968,     0.61138,      0.6125,     0.61344,\n",
       "            0.61493,     0.61657,     0.61807,     0.61992,     0.62121,      0.6231,      0.6247,     0.62578,     0.62742,     0.62908,     0.62956,     0.63168,     0.63241,     0.63363,      0.6347,     0.63563,     0.63687,     0.63753,     0.63916,     0.64135,     0.64246,      0.6443,     0.64574,\n",
       "             0.6468,     0.64823,     0.64906,     0.65044,     0.65181,     0.65274,     0.65472,     0.65554,     0.65711,     0.65757,     0.65946,     0.66239,     0.66362,      0.6641,     0.66545,     0.66691,      0.6677,     0.66882,     0.66995,     0.67097,     0.67199,     0.67279,     0.67383,\n",
       "            0.67458,     0.67575,     0.67674,      0.6779,     0.67817,     0.67996,     0.68095,     0.68171,     0.68281,     0.68405,     0.68515,      0.6864,     0.68788,     0.68959,     0.69129,     0.69205,     0.69246,     0.69369,     0.69447,     0.69513,      0.6972,     0.69823,     0.69919,\n",
       "            0.69985,     0.70069,     0.70136,     0.70263,     0.70339,     0.70389,     0.70525,     0.70635,     0.70858,     0.70909,     0.70999,     0.71171,     0.71222,     0.71276,     0.71391,     0.71423,     0.71615,     0.71843,     0.71939,     0.72033,     0.72131,     0.72184,     0.72358,\n",
       "            0.72439,     0.72568,      0.7264,     0.72725,     0.72791,     0.72891,     0.72915,     0.73067,     0.73142,     0.73322,     0.73421,     0.73526,      0.7365,       0.738,     0.73859,     0.73908,     0.74012,     0.74114,     0.74187,     0.74343,     0.74365,     0.74493,     0.74646,\n",
       "            0.74668,      0.7476,      0.7483,     0.74938,     0.74973,     0.75001,      0.7509,     0.75125,     0.75304,     0.75348,     0.75394,     0.75496,     0.75574,     0.75653,     0.75733,     0.75808,     0.75988,     0.76178,     0.76282,      0.7641,     0.76544,     0.76591,     0.76663,\n",
       "            0.76826,     0.76894,     0.76937,     0.77042,     0.77086,     0.77221,     0.77283,     0.77451,     0.77464,     0.77619,     0.77689,     0.77839,     0.77948,     0.78033,     0.78105,       0.783,     0.78345,     0.78422,     0.78456,     0.78494,     0.78654,     0.78728,     0.78866,\n",
       "            0.78972,     0.79079,     0.79249,     0.79386,     0.79464,     0.79539,     0.79614,     0.79749,     0.79808,     0.79883,     0.79909,      0.8007,     0.80162,     0.80262,     0.80306,     0.80439,     0.80612,     0.80786,     0.80955,     0.81135,     0.81339,     0.81435,     0.81521,\n",
       "            0.81559,      0.8173,     0.81752,     0.81963,     0.82069,     0.82132,     0.82249,     0.82335,     0.82468,     0.82504,      0.8255,     0.82597,     0.82712,     0.82793,     0.82901,     0.83042,     0.83172,     0.83294,     0.83393,     0.83459,     0.83605,     0.83648,     0.83731,\n",
       "            0.83843,     0.83876,     0.84098,     0.84288,     0.84302,     0.84435,     0.84507,     0.84625,     0.84811,     0.84964,     0.85046,     0.85067,     0.85174,     0.85297,     0.85371,     0.85396,     0.85649,     0.85764,     0.85886,     0.85932,     0.86112,     0.86189,     0.86228,\n",
       "            0.86429,     0.86474,     0.86519,     0.86674,     0.86832,     0.86825,     0.86818,      0.8685,     0.86997,     0.87035,     0.87154,      0.8723,     0.87253,     0.87356,     0.87427,     0.87475,     0.87592,     0.87637,     0.87724,     0.87749,     0.87844,     0.87853,     0.88017,\n",
       "            0.88223,     0.88286,     0.88311,     0.88499,     0.88505,     0.88632,     0.88752,     0.88913,     0.89106,      0.8913,     0.89225,     0.89246,     0.89296,     0.89503,     0.89708,     0.89985,     0.90065,     0.90089,     0.90122,     0.90214,     0.90266,     0.90265,     0.90345,\n",
       "            0.90369,     0.90393,     0.90418,     0.90539,     0.90573,     0.90627,     0.90703,     0.90874,     0.91051,     0.91069,     0.91131,      0.9118,     0.91262,     0.91441,     0.91478,     0.91734,     0.91781,     0.91909,     0.91995,      0.9206,     0.92123,     0.92168,     0.92267,\n",
       "             0.9226,     0.92344,      0.9238,     0.92431,     0.92565,     0.92595,     0.92584,     0.92583,      0.9258,      0.9262,     0.92661,     0.92788,     0.92782,     0.92835,     0.92957,     0.92955,     0.92978,     0.93013,     0.93068,     0.93094,     0.93142,     0.93138,     0.93177,\n",
       "            0.93315,     0.93408,     0.93594,     0.93686,     0.93734,     0.93865,     0.93913,     0.93952,     0.93976,     0.94063,     0.94151,     0.94139,     0.94131,      0.9413,     0.94168,     0.94165,      0.9426,     0.94298,     0.94304,     0.94331,     0.94373,     0.94434,      0.9446,\n",
       "            0.94527,     0.94641,     0.94636,     0.94633,     0.94679,     0.94678,     0.94673,     0.94759,     0.94844,     0.94845,     0.94842,     0.94889,     0.94892,     0.94942,     0.94974,     0.94971,     0.94963,     0.95022,     0.95103,     0.95096,      0.9508,     0.95124,     0.95216,\n",
       "             0.9521,     0.95208,     0.95201,     0.95196,     0.95236,     0.95335,     0.95378,     0.95368,     0.95412,     0.95414,     0.95411,      0.9541,     0.95408,      0.9556,     0.95612,     0.95652,      0.9565,     0.95653,     0.95743,      0.9574,     0.95795,     0.95822,     0.95856,\n",
       "            0.95932,     0.95925,     0.95973,     0.95966,     0.95957,      0.9595,     0.96043,     0.96036,     0.96029,     0.96027,     0.96127,     0.96215,     0.96212,     0.96264,     0.96257,     0.96251,     0.96405,     0.96399,     0.96443,     0.96494,     0.96599,     0.96595,     0.96752,\n",
       "            0.96807,     0.96853,     0.96846,     0.96839,     0.96828,     0.96835,     0.96876,     0.96925,     0.96933,     0.96973,     0.97126,      0.9712,     0.97172,     0.97228,      0.9722,     0.97212,     0.97259,     0.97256,      0.9725,     0.97243,      0.9724,     0.97238,      0.9729,\n",
       "            0.97283,     0.97277,     0.97441,     0.97493,     0.97487,     0.97477,     0.97593,     0.97585,     0.97627,     0.97691,     0.97743,     0.97736,     0.97727,     0.97785,     0.97784,     0.97783,      0.9783,     0.97823,     0.97885,     0.97939,     0.97931,     0.97925,     0.97985,\n",
       "             0.9798,     0.97979,     0.97972,     0.98026,     0.98019,     0.98015,      0.9801,     0.98071,     0.98135,      0.9813,     0.98128,     0.98186,     0.98181,     0.98179,     0.98172,     0.98167,     0.98162,     0.98161,     0.98156,     0.98155,     0.98151,     0.98143,     0.98138,\n",
       "            0.98136,     0.98128,     0.98124,     0.98119,     0.98112,     0.98175,     0.98174,      0.9817,     0.98167,     0.98163,     0.98158,     0.98154,     0.98222,     0.98217,     0.98215,      0.9826,       0.984,     0.98483,     0.98482,     0.98472,     0.98466,     0.98537,      0.9853,\n",
       "            0.98599,     0.98588,     0.98583,     0.98654,     0.98655,     0.98721,      0.9872,     0.98718,     0.98715,     0.98708,     0.98702,     0.98772,     0.98765,     0.98763,      0.9876,     0.98756,     0.98754,     0.98752,     0.98749,     0.98744,     0.98818,     0.98809,     0.98806,\n",
       "            0.98802,     0.98799,     0.98793,     0.98791,     0.98787,     0.98863,     0.98941,     0.98938,     0.98936,      0.9893,     0.98929,     0.98926,     0.98923,     0.99082,     0.99077,     0.99072,     0.99154,     0.99154,     0.99151,      0.9915,     0.99148,     0.99147,     0.99145,\n",
       "             0.9914,     0.99139,     0.99136,     0.99132,     0.99127,     0.99125,     0.99122,     0.99118,     0.99114,     0.99111,      0.9911,     0.99104,     0.99104,     0.99098,     0.99096,      0.9909,     0.99085,     0.99081,     0.99078,     0.99074,     0.99071,     0.99065,     0.99061,\n",
       "             0.9906,     0.99055,     0.99052,     0.99045,     0.99042,     0.99035,     0.99034,     0.99032,     0.99026,     0.99019,      0.9901,     0.99005,        0.99,     0.98998,     0.98992,     0.98989,      0.9898,     0.98977,     0.99075,     0.99073,     0.99126,     0.99167,     0.99164,\n",
       "             0.9916,     0.99155,     0.99149,     0.99141,     0.99136,     0.99135,     0.99132,     0.99126,     0.99126,     0.99121,     0.99223,     0.99218,     0.99214,     0.99207,     0.99205,     0.99209,     0.99311,     0.99307,     0.99304,       0.993,     0.99291,     0.99286,     0.99283,\n",
       "            0.99279,     0.99276,     0.99271,     0.99264,      0.9926,     0.99247,     0.99243,     0.99238,     0.99232,     0.99227,     0.99213,     0.99206,     0.99199,     0.99196,     0.99188,     0.99316,     0.99314,     0.99312,     0.99408,     0.99442,     0.99432,     0.99431,     0.99425,\n",
       "             0.9942,     0.99416,      0.9941,     0.99406,     0.99397,     0.99396,     0.99542,     0.99537,     0.99533,      0.9953,     0.99684,     0.99683,      0.9968,     0.99838,           1,           1,           1,           1,           1,           1,           1,           1,           1,\n",
       "                  1,           1,           1,           1,           1,           1,           1,           1,           1,           1,           1,           1,           1,           1,           1,           1,           1,           1,           1,           1,           1,           1,           1,\n",
       "                  1,           1,           1,           1,           1,           1,           1,           1,           1,           1,           1,           1,           1,           1,           1,           1,           1,           1,           1,           1,           1,           1,           1,\n",
       "                  1,           1,           1,           1,           1,           1,           1,           1,           1,           1,           1,           1,           1,           1,           1,           1,           1,           1,           1,           1,           1,           1,           1,\n",
       "                  1,           1,           1,           1,           1,           1,           1,           1,           1,           1,           1,           1,           1,           1,           1,           1,           1,           1,           1,           1,           1,           1,           1,\n",
       "                  1,           1,           1,           1,           1,           1,           1,           1,           1,           1,           1,           1,           1,           1,           1,           1,           1,           1,           1,           1,           1,           1,           1,\n",
       "                  1,           1,           1,           1,           1,           1,           1,           1,           1,           1,           1,           1,           1,           1,           1,           1,           1,           1,           1,           1,           1,           1,           1,\n",
       "                  1,           1,           1,           1,           1,           1,           1,           1,           1,           1,           1,           1,           1,           1,           1,           1,           1,           1,           1,           1,           1,           1,           1,\n",
       "                  1,           1,           1,           1,           1,           1,           1,           1,           1,           1,           1,           1,           1,           1,           1,           1,           1,           1,           1,           1,           1,           1,           1,\n",
       "                  1,           1,           1,           1,           1,           1,           1,           1,           1,           1,           1,           1,           1,           1,           1,           1,           1,           1,           1,           1,           1,           1,           1,\n",
       "                  1,           1,           1,           1,           1,           1,           1,           1,           1,           1,           1,           1,           1,           1,           1,           1,           1,           1,           1,           1,           1,           1,           1,\n",
       "                  1,           1,           1,           1,           1,           1,           1,           1,           1,           1,           1,           1,           1,           1,           1,           1,           1,           1,           1,           1,           1,           1,           1,\n",
       "                  1,           1,           1,           1,           1,           1,           1,           1,           1,           1,           1]]), 'Confidence', 'Precision'], [array([          0,    0.001001,    0.002002,    0.003003,    0.004004,    0.005005,    0.006006,    0.007007,    0.008008,    0.009009,     0.01001,    0.011011,    0.012012,    0.013013,    0.014014,    0.015015,    0.016016,    0.017017,    0.018018,    0.019019,     0.02002,    0.021021,    0.022022,    0.023023,\n",
       "          0.024024,    0.025025,    0.026026,    0.027027,    0.028028,    0.029029,     0.03003,    0.031031,    0.032032,    0.033033,    0.034034,    0.035035,    0.036036,    0.037037,    0.038038,    0.039039,     0.04004,    0.041041,    0.042042,    0.043043,    0.044044,    0.045045,    0.046046,    0.047047,\n",
       "          0.048048,    0.049049,     0.05005,    0.051051,    0.052052,    0.053053,    0.054054,    0.055055,    0.056056,    0.057057,    0.058058,    0.059059,     0.06006,    0.061061,    0.062062,    0.063063,    0.064064,    0.065065,    0.066066,    0.067067,    0.068068,    0.069069,     0.07007,    0.071071,\n",
       "          0.072072,    0.073073,    0.074074,    0.075075,    0.076076,    0.077077,    0.078078,    0.079079,     0.08008,    0.081081,    0.082082,    0.083083,    0.084084,    0.085085,    0.086086,    0.087087,    0.088088,    0.089089,     0.09009,    0.091091,    0.092092,    0.093093,    0.094094,    0.095095,\n",
       "          0.096096,    0.097097,    0.098098,    0.099099,      0.1001,      0.1011,      0.1021,      0.1031,      0.1041,     0.10511,     0.10611,     0.10711,     0.10811,     0.10911,     0.11011,     0.11111,     0.11211,     0.11311,     0.11411,     0.11512,     0.11612,     0.11712,     0.11812,     0.11912,\n",
       "           0.12012,     0.12112,     0.12212,     0.12312,     0.12412,     0.12513,     0.12613,     0.12713,     0.12813,     0.12913,     0.13013,     0.13113,     0.13213,     0.13313,     0.13413,     0.13514,     0.13614,     0.13714,     0.13814,     0.13914,     0.14014,     0.14114,     0.14214,     0.14314,\n",
       "           0.14414,     0.14515,     0.14615,     0.14715,     0.14815,     0.14915,     0.15015,     0.15115,     0.15215,     0.15315,     0.15415,     0.15516,     0.15616,     0.15716,     0.15816,     0.15916,     0.16016,     0.16116,     0.16216,     0.16316,     0.16416,     0.16517,     0.16617,     0.16717,\n",
       "           0.16817,     0.16917,     0.17017,     0.17117,     0.17217,     0.17317,     0.17417,     0.17518,     0.17618,     0.17718,     0.17818,     0.17918,     0.18018,     0.18118,     0.18218,     0.18318,     0.18418,     0.18519,     0.18619,     0.18719,     0.18819,     0.18919,     0.19019,     0.19119,\n",
       "           0.19219,     0.19319,     0.19419,      0.1952,      0.1962,      0.1972,      0.1982,      0.1992,      0.2002,      0.2012,      0.2022,      0.2032,      0.2042,     0.20521,     0.20621,     0.20721,     0.20821,     0.20921,     0.21021,     0.21121,     0.21221,     0.21321,     0.21421,     0.21522,\n",
       "           0.21622,     0.21722,     0.21822,     0.21922,     0.22022,     0.22122,     0.22222,     0.22322,     0.22422,     0.22523,     0.22623,     0.22723,     0.22823,     0.22923,     0.23023,     0.23123,     0.23223,     0.23323,     0.23423,     0.23524,     0.23624,     0.23724,     0.23824,     0.23924,\n",
       "           0.24024,     0.24124,     0.24224,     0.24324,     0.24424,     0.24525,     0.24625,     0.24725,     0.24825,     0.24925,     0.25025,     0.25125,     0.25225,     0.25325,     0.25425,     0.25526,     0.25626,     0.25726,     0.25826,     0.25926,     0.26026,     0.26126,     0.26226,     0.26326,\n",
       "           0.26426,     0.26527,     0.26627,     0.26727,     0.26827,     0.26927,     0.27027,     0.27127,     0.27227,     0.27327,     0.27427,     0.27528,     0.27628,     0.27728,     0.27828,     0.27928,     0.28028,     0.28128,     0.28228,     0.28328,     0.28428,     0.28529,     0.28629,     0.28729,\n",
       "           0.28829,     0.28929,     0.29029,     0.29129,     0.29229,     0.29329,     0.29429,      0.2953,      0.2963,      0.2973,      0.2983,      0.2993,      0.3003,      0.3013,      0.3023,      0.3033,      0.3043,     0.30531,     0.30631,     0.30731,     0.30831,     0.30931,     0.31031,     0.31131,\n",
       "           0.31231,     0.31331,     0.31431,     0.31532,     0.31632,     0.31732,     0.31832,     0.31932,     0.32032,     0.32132,     0.32232,     0.32332,     0.32432,     0.32533,     0.32633,     0.32733,     0.32833,     0.32933,     0.33033,     0.33133,     0.33233,     0.33333,     0.33433,     0.33534,\n",
       "           0.33634,     0.33734,     0.33834,     0.33934,     0.34034,     0.34134,     0.34234,     0.34334,     0.34434,     0.34535,     0.34635,     0.34735,     0.34835,     0.34935,     0.35035,     0.35135,     0.35235,     0.35335,     0.35435,     0.35536,     0.35636,     0.35736,     0.35836,     0.35936,\n",
       "           0.36036,     0.36136,     0.36236,     0.36336,     0.36436,     0.36537,     0.36637,     0.36737,     0.36837,     0.36937,     0.37037,     0.37137,     0.37237,     0.37337,     0.37437,     0.37538,     0.37638,     0.37738,     0.37838,     0.37938,     0.38038,     0.38138,     0.38238,     0.38338,\n",
       "           0.38438,     0.38539,     0.38639,     0.38739,     0.38839,     0.38939,     0.39039,     0.39139,     0.39239,     0.39339,     0.39439,      0.3954,      0.3964,      0.3974,      0.3984,      0.3994,      0.4004,      0.4014,      0.4024,      0.4034,      0.4044,     0.40541,     0.40641,     0.40741,\n",
       "           0.40841,     0.40941,     0.41041,     0.41141,     0.41241,     0.41341,     0.41441,     0.41542,     0.41642,     0.41742,     0.41842,     0.41942,     0.42042,     0.42142,     0.42242,     0.42342,     0.42442,     0.42543,     0.42643,     0.42743,     0.42843,     0.42943,     0.43043,     0.43143,\n",
       "           0.43243,     0.43343,     0.43443,     0.43544,     0.43644,     0.43744,     0.43844,     0.43944,     0.44044,     0.44144,     0.44244,     0.44344,     0.44444,     0.44545,     0.44645,     0.44745,     0.44845,     0.44945,     0.45045,     0.45145,     0.45245,     0.45345,     0.45445,     0.45546,\n",
       "           0.45646,     0.45746,     0.45846,     0.45946,     0.46046,     0.46146,     0.46246,     0.46346,     0.46446,     0.46547,     0.46647,     0.46747,     0.46847,     0.46947,     0.47047,     0.47147,     0.47247,     0.47347,     0.47447,     0.47548,     0.47648,     0.47748,     0.47848,     0.47948,\n",
       "           0.48048,     0.48148,     0.48248,     0.48348,     0.48448,     0.48549,     0.48649,     0.48749,     0.48849,     0.48949,     0.49049,     0.49149,     0.49249,     0.49349,     0.49449,      0.4955,      0.4965,      0.4975,      0.4985,      0.4995,      0.5005,      0.5015,      0.5025,      0.5035,\n",
       "            0.5045,     0.50551,     0.50651,     0.50751,     0.50851,     0.50951,     0.51051,     0.51151,     0.51251,     0.51351,     0.51451,     0.51552,     0.51652,     0.51752,     0.51852,     0.51952,     0.52052,     0.52152,     0.52252,     0.52352,     0.52452,     0.52553,     0.52653,     0.52753,\n",
       "           0.52853,     0.52953,     0.53053,     0.53153,     0.53253,     0.53353,     0.53453,     0.53554,     0.53654,     0.53754,     0.53854,     0.53954,     0.54054,     0.54154,     0.54254,     0.54354,     0.54454,     0.54555,     0.54655,     0.54755,     0.54855,     0.54955,     0.55055,     0.55155,\n",
       "           0.55255,     0.55355,     0.55455,     0.55556,     0.55656,     0.55756,     0.55856,     0.55956,     0.56056,     0.56156,     0.56256,     0.56356,     0.56456,     0.56557,     0.56657,     0.56757,     0.56857,     0.56957,     0.57057,     0.57157,     0.57257,     0.57357,     0.57457,     0.57558,\n",
       "           0.57658,     0.57758,     0.57858,     0.57958,     0.58058,     0.58158,     0.58258,     0.58358,     0.58458,     0.58559,     0.58659,     0.58759,     0.58859,     0.58959,     0.59059,     0.59159,     0.59259,     0.59359,     0.59459,      0.5956,      0.5966,      0.5976,      0.5986,      0.5996,\n",
       "            0.6006,      0.6016,      0.6026,      0.6036,      0.6046,     0.60561,     0.60661,     0.60761,     0.60861,     0.60961,     0.61061,     0.61161,     0.61261,     0.61361,     0.61461,     0.61562,     0.61662,     0.61762,     0.61862,     0.61962,     0.62062,     0.62162,     0.62262,     0.62362,\n",
       "           0.62462,     0.62563,     0.62663,     0.62763,     0.62863,     0.62963,     0.63063,     0.63163,     0.63263,     0.63363,     0.63463,     0.63564,     0.63664,     0.63764,     0.63864,     0.63964,     0.64064,     0.64164,     0.64264,     0.64364,     0.64464,     0.64565,     0.64665,     0.64765,\n",
       "           0.64865,     0.64965,     0.65065,     0.65165,     0.65265,     0.65365,     0.65465,     0.65566,     0.65666,     0.65766,     0.65866,     0.65966,     0.66066,     0.66166,     0.66266,     0.66366,     0.66466,     0.66567,     0.66667,     0.66767,     0.66867,     0.66967,     0.67067,     0.67167,\n",
       "           0.67267,     0.67367,     0.67467,     0.67568,     0.67668,     0.67768,     0.67868,     0.67968,     0.68068,     0.68168,     0.68268,     0.68368,     0.68468,     0.68569,     0.68669,     0.68769,     0.68869,     0.68969,     0.69069,     0.69169,     0.69269,     0.69369,     0.69469,      0.6957,\n",
       "            0.6967,      0.6977,      0.6987,      0.6997,      0.7007,      0.7017,      0.7027,      0.7037,      0.7047,     0.70571,     0.70671,     0.70771,     0.70871,     0.70971,     0.71071,     0.71171,     0.71271,     0.71371,     0.71471,     0.71572,     0.71672,     0.71772,     0.71872,     0.71972,\n",
       "           0.72072,     0.72172,     0.72272,     0.72372,     0.72472,     0.72573,     0.72673,     0.72773,     0.72873,     0.72973,     0.73073,     0.73173,     0.73273,     0.73373,     0.73473,     0.73574,     0.73674,     0.73774,     0.73874,     0.73974,     0.74074,     0.74174,     0.74274,     0.74374,\n",
       "           0.74474,     0.74575,     0.74675,     0.74775,     0.74875,     0.74975,     0.75075,     0.75175,     0.75275,     0.75375,     0.75475,     0.75576,     0.75676,     0.75776,     0.75876,     0.75976,     0.76076,     0.76176,     0.76276,     0.76376,     0.76476,     0.76577,     0.76677,     0.76777,\n",
       "           0.76877,     0.76977,     0.77077,     0.77177,     0.77277,     0.77377,     0.77477,     0.77578,     0.77678,     0.77778,     0.77878,     0.77978,     0.78078,     0.78178,     0.78278,     0.78378,     0.78478,     0.78579,     0.78679,     0.78779,     0.78879,     0.78979,     0.79079,     0.79179,\n",
       "           0.79279,     0.79379,     0.79479,      0.7958,      0.7968,      0.7978,      0.7988,      0.7998,      0.8008,      0.8018,      0.8028,      0.8038,      0.8048,     0.80581,     0.80681,     0.80781,     0.80881,     0.80981,     0.81081,     0.81181,     0.81281,     0.81381,     0.81481,     0.81582,\n",
       "           0.81682,     0.81782,     0.81882,     0.81982,     0.82082,     0.82182,     0.82282,     0.82382,     0.82482,     0.82583,     0.82683,     0.82783,     0.82883,     0.82983,     0.83083,     0.83183,     0.83283,     0.83383,     0.83483,     0.83584,     0.83684,     0.83784,     0.83884,     0.83984,\n",
       "           0.84084,     0.84184,     0.84284,     0.84384,     0.84484,     0.84585,     0.84685,     0.84785,     0.84885,     0.84985,     0.85085,     0.85185,     0.85285,     0.85385,     0.85485,     0.85586,     0.85686,     0.85786,     0.85886,     0.85986,     0.86086,     0.86186,     0.86286,     0.86386,\n",
       "           0.86486,     0.86587,     0.86687,     0.86787,     0.86887,     0.86987,     0.87087,     0.87187,     0.87287,     0.87387,     0.87487,     0.87588,     0.87688,     0.87788,     0.87888,     0.87988,     0.88088,     0.88188,     0.88288,     0.88388,     0.88488,     0.88589,     0.88689,     0.88789,\n",
       "           0.88889,     0.88989,     0.89089,     0.89189,     0.89289,     0.89389,     0.89489,      0.8959,      0.8969,      0.8979,      0.8989,      0.8999,      0.9009,      0.9019,      0.9029,      0.9039,      0.9049,     0.90591,     0.90691,     0.90791,     0.90891,     0.90991,     0.91091,     0.91191,\n",
       "           0.91291,     0.91391,     0.91491,     0.91592,     0.91692,     0.91792,     0.91892,     0.91992,     0.92092,     0.92192,     0.92292,     0.92392,     0.92492,     0.92593,     0.92693,     0.92793,     0.92893,     0.92993,     0.93093,     0.93193,     0.93293,     0.93393,     0.93493,     0.93594,\n",
       "           0.93694,     0.93794,     0.93894,     0.93994,     0.94094,     0.94194,     0.94294,     0.94394,     0.94494,     0.94595,     0.94695,     0.94795,     0.94895,     0.94995,     0.95095,     0.95195,     0.95295,     0.95395,     0.95495,     0.95596,     0.95696,     0.95796,     0.95896,     0.95996,\n",
       "           0.96096,     0.96196,     0.96296,     0.96396,     0.96496,     0.96597,     0.96697,     0.96797,     0.96897,     0.96997,     0.97097,     0.97197,     0.97297,     0.97397,     0.97497,     0.97598,     0.97698,     0.97798,     0.97898,     0.97998,     0.98098,     0.98198,     0.98298,     0.98398,\n",
       "           0.98498,     0.98599,     0.98699,     0.98799,     0.98899,     0.98999,     0.99099,     0.99199,     0.99299,     0.99399,     0.99499,       0.996,       0.997,       0.998,       0.999,           1]), array([[    0.99564,     0.99564,     0.99515,     0.99515,     0.99515,     0.99467,     0.99467,     0.99467,     0.99467,     0.99467,     0.99467,     0.99467,     0.99467,     0.99467,     0.99418,     0.99418,     0.99418,     0.99418,     0.99418,     0.99418,     0.99418,     0.99418,     0.99418,\n",
       "             0.9937,      0.9937,      0.9937,      0.9937,      0.9937,      0.9937,     0.99321,     0.99321,     0.99321,     0.99321,     0.99321,     0.99321,     0.99321,     0.99321,     0.99321,     0.99321,     0.99321,     0.99321,     0.99321,     0.99321,     0.99321,     0.99321,     0.99321,\n",
       "            0.99321,     0.99321,     0.99273,     0.99273,     0.99273,     0.99273,     0.99273,     0.99273,     0.99273,     0.99273,     0.99273,     0.99273,     0.99273,     0.99273,     0.99273,     0.99273,     0.99273,     0.99273,     0.99224,     0.99224,     0.99224,     0.99224,     0.99224,\n",
       "            0.99224,     0.99224,     0.99224,     0.99224,     0.99224,     0.99224,     0.99224,     0.99224,     0.99224,     0.99224,     0.99224,     0.99176,     0.99176,     0.99176,     0.99176,     0.99127,     0.99127,     0.99127,     0.99127,     0.99127,     0.99127,     0.99127,     0.99127,\n",
       "            0.99127,     0.99127,     0.99127,     0.99079,     0.99079,     0.99079,     0.99079,     0.99079,     0.99079,     0.99079,     0.99079,     0.99079,     0.99079,     0.99031,     0.98982,     0.98982,     0.98982,     0.98982,     0.98982,     0.98982,     0.98982,     0.98982,     0.98982,\n",
       "            0.98982,     0.98982,     0.98982,     0.98982,     0.98885,     0.98837,     0.98837,     0.98837,     0.98837,     0.98837,     0.98837,     0.98837,     0.98837,     0.98837,     0.98837,     0.98804,     0.98788,     0.98788,     0.98788,      0.9874,     0.98691,     0.98691,     0.98691,\n",
       "            0.98691,     0.98643,     0.98643,     0.98643,     0.98643,     0.98643,     0.98643,     0.98643,     0.98643,     0.98643,     0.98594,     0.98594,     0.98594,     0.98594,     0.98546,     0.98546,     0.98546,     0.98546,     0.98543,     0.98497,     0.98497,     0.98497,     0.98497,\n",
       "              0.984,       0.984,       0.984,       0.984,       0.984,       0.984,       0.984,       0.984,       0.984,       0.984,       0.984,       0.984,       0.984,       0.984,     0.98332,     0.98303,     0.98303,     0.98303,     0.98303,     0.98303,     0.98303,     0.98303,     0.98303,\n",
       "            0.98303,     0.98303,     0.98282,     0.98255,     0.98255,     0.98255,     0.98255,     0.98255,     0.98255,     0.98206,     0.98206,     0.98206,     0.98158,     0.98158,     0.98158,     0.98158,      0.9811,      0.9811,      0.9811,      0.9811,      0.9811,      0.9811,      0.9811,\n",
       "             0.9811,     0.98061,     0.98061,     0.98061,     0.98061,     0.98061,     0.98061,     0.98013,     0.97973,     0.97964,     0.97916,       0.979,     0.97867,     0.97802,     0.97722,     0.97722,     0.97722,     0.97722,     0.97673,     0.97625,     0.97576,     0.97576,     0.97576,\n",
       "            0.97576,     0.97576,     0.97576,     0.97576,     0.97576,     0.97576,     0.97576,     0.97528,     0.97431,     0.97431,     0.97431,     0.97431,     0.97334,     0.97286,     0.97286,     0.97237,     0.97237,     0.97237,     0.97189,     0.97189,     0.97189,      0.9717,      0.9714,\n",
       "            0.97092,     0.97092,     0.97092,     0.97092,     0.97043,     0.97043,     0.97028,     0.96995,     0.96898,     0.96898,     0.96898,     0.96898,     0.96898,     0.96898,     0.96849,     0.96801,     0.96786,     0.96752,     0.96752,     0.96752,     0.96752,     0.96752,     0.96752,\n",
       "            0.96704,     0.96655,     0.96655,     0.96655,     0.96574,     0.96558,     0.96506,     0.96461,     0.96461,     0.96461,     0.96461,     0.96461,     0.96461,     0.96461,     0.96461,     0.96461,     0.96413,     0.96413,     0.96413,     0.96413,     0.96316,     0.96219,     0.96219,\n",
       "            0.96219,     0.96219,     0.96219,     0.96219,     0.96214,     0.96153,     0.96097,     0.96042,     0.96025,     0.95928,     0.95928,     0.95928,     0.95928,      0.9578,     0.95686,     0.95686,     0.95637,     0.95637,     0.95637,     0.95637,     0.95626,     0.95589,     0.95589,\n",
       "            0.95589,      0.9554,      0.9554,     0.95483,     0.95395,     0.95395,     0.95347,      0.9525,     0.95153,     0.95153,     0.95133,     0.95104,     0.95104,     0.95104,     0.95104,      0.9495,     0.94862,     0.94862,     0.94862,     0.94862,     0.94848,      0.9483,     0.94765,\n",
       "            0.94765,     0.94765,     0.94765,     0.94765,     0.94668,     0.94668,     0.94571,     0.94571,     0.94523,     0.94408,     0.94377,     0.94377,     0.94329,      0.9428,     0.94184,     0.94134,     0.94038,     0.93989,     0.93892,     0.93863,     0.93747,     0.93747,     0.93747,\n",
       "            0.93604,     0.93553,     0.93444,     0.93359,     0.93359,     0.93338,     0.93199,     0.93174,     0.93133,     0.93073,     0.93022,     0.92924,     0.92846,     0.92778,     0.92763,     0.92632,     0.92632,     0.92584,     0.92406,     0.92341,     0.92161,     0.92112,     0.92002,\n",
       "            0.92002,     0.92002,     0.92002,     0.91953,     0.91808,     0.91663,     0.91663,     0.91517,     0.91494,     0.91387,     0.91285,      0.9109,     0.90964,     0.90939,     0.90796,     0.90746,     0.90596,     0.90586,     0.90499,     0.90341,     0.90243,     0.90208,     0.90095,\n",
       "            0.90015,     0.89887,     0.89789,     0.89739,     0.89706,     0.89682,      0.8959,     0.89395,     0.89336,     0.89186,     0.89137,     0.89087,     0.88997,     0.88997,     0.88841,     0.88791,     0.88645,      0.8856,     0.88497,      0.8835,     0.88058,     0.87954,     0.87801,\n",
       "            0.87671,     0.87646,     0.87507,     0.87409,     0.87213,     0.87164,     0.87017,     0.86822,     0.86815,     0.86723,     0.86673,     0.86647,     0.86622,     0.86573,     0.86573,     0.86376,     0.86326,     0.86234,     0.86118,     0.86068,     0.85894,     0.85894,     0.85797,\n",
       "            0.85724,     0.85577,     0.85479,     0.85333,     0.85138,     0.84991,     0.84699,     0.84552,     0.84406,     0.84356,     0.84209,     0.84052,     0.83722,     0.83672,     0.83526,     0.83379,     0.83184,     0.83037,     0.82794,     0.82744,     0.82598,     0.82499,     0.82304,\n",
       "            0.82162,      0.8206,     0.81864,     0.81669,     0.81377,     0.81241,     0.81181,     0.80986,     0.80756,     0.80741,     0.80255,     0.80108,     0.79962,     0.79912,     0.79669,     0.79425,     0.79133,     0.79035,      0.7884,     0.78645,     0.78546,     0.78497,     0.78302,\n",
       "            0.78107,     0.77911,     0.77522,     0.77279,     0.77084,     0.76792,     0.76645,     0.76401,     0.76054,     0.75866,     0.75574,      0.7533,     0.75038,     0.74939,     0.74866,     0.74746,     0.74306,     0.74063,     0.73776,     0.73721,     0.73429,     0.73185,     0.73087,\n",
       "            0.72892,     0.72842,     0.72599,      0.7221,     0.71966,      0.7182,     0.71624,     0.71478,     0.71428,     0.71233,     0.71135,     0.70843,     0.70648,      0.7055,     0.70306,     0.70111,     0.69916,     0.69866,     0.69671,     0.69621,     0.69475,     0.69183,     0.68987,\n",
       "            0.68889,     0.68597,     0.68451,     0.68256,     0.68012,     0.67793,     0.67743,     0.67596,     0.67498,     0.67351,     0.67156,      0.6701,      0.6696,     0.66765,     0.66667,     0.66554,     0.66457,     0.66081,     0.66032,     0.65594,     0.65351,     0.65301,     0.64961,\n",
       "            0.64814,     0.64328,     0.64084,     0.64081,     0.63985,     0.63596,     0.63563,     0.63472,     0.63326,     0.62937,     0.62645,     0.62401,     0.62012,     0.61914,     0.61767,     0.61572,     0.61474,     0.61376,     0.61229,     0.60986,     0.60791,     0.60329,     0.60182,\n",
       "            0.59987,     0.59792,       0.595,     0.59402,     0.59207,     0.59012,     0.58865,     0.58718,     0.58572,     0.58255,     0.58206,     0.58059,     0.57864,     0.57523,     0.57231,     0.56939,     0.56841,     0.56792,     0.56625,     0.56523,     0.56399,     0.56374,      0.5618,\n",
       "            0.55888,     0.55838,     0.55594,     0.55345,     0.55034,     0.54936,     0.54741,     0.54498,     0.54254,     0.54059,     0.53961,     0.53644,     0.53595,     0.53254,     0.53108,     0.52767,     0.52502,     0.52256,     0.52109,     0.51865,      0.5167,     0.51378,      0.5113,\n",
       "            0.51061,     0.50817,     0.50622,     0.50282,     0.50135,      0.4977,     0.49672,     0.49574,     0.49282,     0.48925,      0.4848,     0.48236,     0.47992,     0.47894,     0.47626,      0.4748,     0.47042,     0.46896,     0.46725,     0.46389,     0.46389,     0.46188,     0.45985,\n",
       "            0.45774,     0.45481,     0.45189,     0.44776,     0.44484,     0.44434,     0.44271,     0.43993,     0.43968,     0.43727,     0.43314,      0.4307,     0.42826,     0.42462,     0.42315,     0.42123,      0.4192,     0.41705,      0.4151,     0.41267,     0.40757,     0.40465,     0.40258,\n",
       "             0.4005,     0.39855,     0.39611,     0.39247,     0.39003,     0.38353,     0.38152,      0.3786,     0.37592,     0.37349,     0.36645,     0.36353,     0.36009,      0.3589,     0.35511,     0.35185,     0.35086,     0.34979,     0.34852,     0.34525,     0.33918,     0.33869,     0.33513,\n",
       "             0.3326,     0.33017,     0.32652,     0.32436,     0.31947,     0.31897,     0.31572,     0.31289,     0.30972,     0.30822,     0.30606,     0.30508,     0.30178,     0.29843,     0.29729,     0.29558,     0.29169,     0.29106,     0.28803,     0.28293,     0.28178,     0.27685,     0.27635,\n",
       "             0.2727,     0.26763,      0.2671,     0.26628,     0.26029,     0.25687,     0.25615,      0.2508,     0.24716,      0.2461,      0.2436,     0.23936,     0.23779,     0.23328,      0.2306,     0.22996,     0.22743,     0.22281,     0.22116,     0.21479,     0.20851,     0.20798,     0.20433,\n",
       "            0.20117,     0.19728,     0.19695,      0.1924,     0.18944,     0.18559,     0.18454,     0.18097,     0.17635,     0.17574,     0.16954,     0.16746,     0.16636,     0.16465,     0.16205,     0.15687,      0.1557,     0.15273,     0.14935,     0.14786,     0.14494,     0.14298,     0.14128,\n",
       "             0.1376,     0.13592,     0.13173,     0.12873,      0.1249,     0.12327,     0.12097,      0.1184,     0.11559,     0.11498,     0.11263,     0.11156,     0.10774,     0.10718,     0.10426,     0.10158,    0.098657,    0.096786,    0.092079,    0.088691,     0.08836,     0.08619,    0.084628,\n",
       "           0.083718,     0.08138,    0.081049,    0.079631,    0.076711,    0.073063,    0.071597,     0.07046,    0.068012,    0.064774,    0.062632,    0.059214,    0.057054,    0.056723,    0.054779,    0.052344,    0.052013,    0.050344,    0.048865,    0.046818,    0.043969,    0.041119,    0.038715,\n",
       "           0.038384,    0.037932,    0.036092,       0.035,    0.033666,     0.03285,    0.032519,      0.0318,     0.03013,    0.028383,    0.027658,     0.02521,    0.024226,    0.023729,     0.02325,    0.023001,    0.021695,    0.020687,    0.020438,    0.020021,    0.019524,    0.018543,    0.017187,\n",
       "           0.016095,    0.015246,    0.014691,    0.011758,    0.011199,    0.010925,    0.010677,   0.0077834,   0.0075625,   0.0073637,   0.0065213,   0.0060244,   0.0055276,    0.004546,   0.0038305,   0.0034992,   0.0033481,   0.0032818,   0.0032156,   0.0031493,   0.0030831,   0.0030168,   0.0029506,\n",
       "          0.0028683,   0.0027579,   0.0026475,   0.0025371,   0.0024267,   0.0022856,   0.0021436,   0.0020017,   0.0018835,   0.0017841,   0.0016847,   0.0015853,    0.001486,   0.0013576,   0.0012157,   0.0010737,  0.00095689,  0.00090957,  0.00086225,  0.00081493,  0.00076761,  0.00072029,  0.00067297,\n",
       "         0.00062565,  0.00057833,  0.00053101,           0,           0,           0,           0,           0,           0,           0,           0,           0,           0,           0,           0,           0,           0,           0,           0,           0,           0,           0,           0,\n",
       "                  0,           0,           0,           0,           0,           0,           0,           0,           0,           0,           0,           0,           0,           0,           0,           0,           0,           0,           0,           0,           0,           0,           0,\n",
       "                  0,           0,           0,           0,           0,           0,           0,           0,           0,           0,           0,           0,           0,           0,           0,           0,           0,           0,           0,           0,           0,           0,           0,\n",
       "                  0,           0,           0,           0,           0,           0,           0,           0,           0,           0,           0,           0,           0,           0,           0,           0,           0,           0,           0,           0,           0,           0,           0,\n",
       "                  0,           0,           0,           0,           0,           0,           0,           0,           0,           0,           0]]), 'Confidence', 'Recall']]\n",
       "fitness: 0.6445414567690206\n",
       "keys: ['metrics/precision(B)', 'metrics/recall(B)', 'metrics/mAP50(B)', 'metrics/mAP50-95(B)']\n",
       "maps: array([    0.60814])\n",
       "names: {0: 'handwriting'}\n",
       "plot: True\n",
       "results_dict: {'metrics/precision(B)': 0.9261970328374447, 'metrics/recall(B)': 0.9307258462210798, 'metrics/mAP50(B)': 0.9721115750494269, 'metrics/mAP50-95(B)': 0.6081447769600866, 'fitness': 0.6445414567690206}\n",
       "save_dir: PosixPath('yolo-handwriting/exp')\n",
       "speed: {'preprocess': 0.1213535714279195, 'inference': 3.3094783142847257, 'loss': 0.00041883809639589993, 'postprocess': 2.527684819042839}\n",
       "task: 'detect'"
      ]
     },
     "execution_count": 4,
     "metadata": {},
     "output_type": "execute_result"
    }
   ],
   "source": [
    "model.train(\n",
    "    data=data_yaml,     # path to data config\n",
    "    epochs=50,\n",
    "    imgsz=640,\n",
    "    batch=16,\n",
    "    project=\"yolo-handwriting\",\n",
    "    name=\"exp\",\n",
    "    exist_ok=True\n",
    ")"
   ]
  },
  {
   "cell_type": "code",
   "execution_count": null,
   "metadata": {},
   "outputs": [],
   "source": []
  }
 ],
 "metadata": {
  "accelerator": "GPU",
  "colab": {
   "gpuType": "T4",
   "machine_shape": "hm"
  },
  "kaggle": {
   "accelerator": "none",
   "dataSources": [
    {
     "datasetId": 7467614,
     "sourceId": 11882985,
     "sourceType": "datasetVersion"
    },
    {
     "datasetId": 7491704,
     "sourceId": 11917519,
     "sourceType": "datasetVersion"
    },
    {
     "isSourceIdPinned": false,
     "modelId": 352392,
     "modelInstanceId": 331504,
     "sourceId": 405675,
     "sourceType": "modelInstanceVersion"
    }
   ],
   "dockerImageVersionId": 31041,
   "isGpuEnabled": false,
   "isInternetEnabled": true,
   "language": "python",
   "sourceType": "notebook"
  },
  "kernelspec": {
   "display_name": "Python 3 (ipykernel)",
   "language": "python",
   "name": "python3"
  },
  "language_info": {
   "codemirror_mode": {
    "name": "ipython",
    "version": 3
   },
   "file_extension": ".py",
   "mimetype": "text/x-python",
   "name": "python",
   "nbconvert_exporter": "python",
   "pygments_lexer": "ipython3",
   "version": "3.11.5"
  }
 },
 "nbformat": 4,
 "nbformat_minor": 4
}
