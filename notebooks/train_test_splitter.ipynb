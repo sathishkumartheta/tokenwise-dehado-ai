{
 "cells": [
  {
   "cell_type": "markdown",
   "id": "6f9cf9e8",
   "metadata": {},
   "source": [
    "# Code for train-test splitup"
   ]
  },
  {
   "cell_type": "code",
   "execution_count": 1,
   "id": "1ef3b011",
   "metadata": {},
   "outputs": [],
   "source": [
    "# You need to run this code only once; Although no harm should come in running it more than once.\n",
    "# Purpose of this code is to make sure we use the same train-test split up across our experiments"
   ]
  },
  {
   "cell_type": "markdown",
   "id": "718a609f",
   "metadata": {},
   "source": [
    "# Root folder\n",
    "data/\n",
    "│\n",
    "├── data1/\n",
    "│   ├── train/\n",
    "│   │   ├── images/    # Training images for data1\n",
    "│   │   └── labels/    # Corresponding JSON label files for data1 training set\n",
    "│   │\n",
    "│   └── test/\n",
    "│       ├── images/    # Testing images for data1\n",
    "│       └── labels/    # Corresponding JSON label files for data1 testing set\n",
    "│\n",
    "├── data2/\n",
    "│   ├── train/\n",
    "│   │   ├── images/    # Training images for data2\n",
    "│   │   └── labels/    # Corresponding JSON label files for data2 training set\n",
    "│   │\n",
    "│   └── test/\n",
    "│       ├── images/    # Testing images for data2\n",
    "│       └── labels/    # Corresponding JSON label files for data2 testing set"
   ]
  },
  {
   "cell_type": "code",
   "execution_count": 10,
   "id": "5575a3c0",
   "metadata": {},
   "outputs": [
    {
     "name": "stdout",
     "output_type": "stream",
     "text": [
      "copying from E:\\Projects\\DeHaDo\\dehado_ai1\\IMAGES_750 and E:\\Projects\\DeHaDo\\dehado_ai1\\LABELS_750 to E:\\Projects\\tokenwise-dehado-ai\\data\\data1\n",
      "750\n",
      "750\n",
      "copying from E:\\Projects\\DeHaDo\\dehado_ai2\\IMAGES_750 and E:\\Projects\\DeHaDo\\dehado_ai2\\LABELS_750 to E:\\Projects\\tokenwise-dehado-ai\\data\\data2\n",
      "750\n",
      "750\n",
      "✅ Dataset successfully split and copied into 'data/' folder.\n"
     ]
    }
   ],
   "source": [
    "import os\n",
    "import random\n",
    "import shutil\n",
    "from pathlib import Path\n",
    "\n",
    "# Set random seed for reproducibility\n",
    "random.seed(45)\n",
    "\n",
    "# Define source and destination root directories\n",
    "SOURCE_DIRS = [\"E:\\\\Projects\\\\DeHaDo\\\\dehado_ai1\", \"E:\\\\Projects\\\\DeHaDo\\\\dehado_ai2\"]\n",
    "DEST_DIRS = [\"E:\\\\Projects\\\\tokenwise-dehado-ai\\\\data\\\\data1\", \"E:\\\\Projects\\\\tokenwise-dehado-ai\\\\data\\\\data2\"]\n",
    "\n",
    "# Define subfolder names for images and labels\n",
    "IMAGE_SUBDIR = \"IMAGES_750\"\n",
    "LABEL_SUBDIR = \"LABELS_750\"\n",
    "\n",
    "# Train-test split ratio\n",
    "SPLIT_RATIO = 0.7  # 70% train, 30% test\n",
    "\n",
    "# Function to create the required folder structure\n",
    "def create_folder_structure(base_path):\n",
    "    for split in [\"train\", \"test\"]:\n",
    "        for kind in [\"images\", \"labels\"]:\n",
    "            path = Path(base_path) / split / kind\n",
    "            path.mkdir(parents=True, exist_ok=True)\n",
    "\n",
    "# Main processing loop\n",
    "for src_root, dest_root in zip(SOURCE_DIRS, DEST_DIRS):\n",
    "    # Source paths\n",
    "    image_dir = Path(src_root) / IMAGE_SUBDIR\n",
    "    label_dir = Path(src_root) / LABEL_SUBDIR\n",
    "\n",
    "    \n",
    "\n",
    "    # Destination base path\n",
    "    dest_base = Path(\"data\") / dest_root\n",
    "\n",
    "    print(f\"copying from {image_dir} and {label_dir} to {dest_base}\")\n",
    "\n",
    "    # Create the full folder structure under data/data1 or data/data2\n",
    "    create_folder_structure(dest_base)\n",
    "\n",
    "    #print(os.listdir(label_dir))\n",
    "\n",
    "    # Get sorted list of image-label filename pairs\n",
    "    image_files = sorted([f for f in os.listdir(image_dir) if f.endswith('.jpg')])\n",
    "    label_files = sorted([f for f in os.listdir(label_dir) if (f.endswith('.json') or f.endswith('.JSON'))])\n",
    "\n",
    "    print(len(image_files))\n",
    "    print(len(label_files))\n",
    "\n",
    "    assert len(image_files) == len(label_files), f\"Mismatch in {src_root} images and labels\"\n",
    "\n",
    "    # Pair image and label files by index\n",
    "    pairs = list(zip(image_files, label_files))\n",
    "\n",
    "    # Shuffle with fixed seed\n",
    "    random.shuffle(pairs)\n",
    "\n",
    "    # Split into train and test\n",
    "    split_index = int(len(pairs) * SPLIT_RATIO)\n",
    "    train_pairs = pairs[:split_index]\n",
    "    test_pairs = pairs[split_index:]\n",
    "\n",
    "    # Function to copy files into destination folders\n",
    "    def copy_pairs(pairs, split):\n",
    "        for img_file, lbl_file in pairs:\n",
    "            shutil.copy(image_dir / img_file, dest_base / split / \"images\" / img_file)\n",
    "            shutil.copy(label_dir / lbl_file, dest_base / split / \"labels\" / lbl_file)\n",
    "\n",
    "    # Copy to respective directories\n",
    "    copy_pairs(train_pairs, \"train\")\n",
    "    copy_pairs(test_pairs, \"test\")\n",
    "\n",
    "print(\"✅ Dataset successfully split and copied into 'data/' folder.\")\n"
   ]
  }
 ],
 "metadata": {
  "kernelspec": {
   "display_name": "Wdehado",
   "language": "python",
   "name": "python3"
  },
  "language_info": {
   "codemirror_mode": {
    "name": "ipython",
    "version": 3
   },
   "file_extension": ".py",
   "mimetype": "text/x-python",
   "name": "python",
   "nbconvert_exporter": "python",
   "pygments_lexer": "ipython3",
   "version": "3.13.3"
  }
 },
 "nbformat": 4,
 "nbformat_minor": 5
}
