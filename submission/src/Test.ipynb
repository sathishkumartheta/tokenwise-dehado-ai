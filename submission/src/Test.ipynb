{
 "cells": [
  {
   "cell_type": "code",
   "execution_count": 1,
   "id": "bad56a2c-b7dc-449e-9014-8bb1bd84427a",
   "metadata": {},
   "outputs": [
    {
     "name": "stdout",
     "output_type": "stream",
     "text": [
      "Ultralytics 8.3.56  Python-3.11.7 torch-2.5.1+cpu CPU (Intel Core(TM) Ultra 5 125H)\n",
      "Setup complete  (18 CPUs, 15.6 GB RAM, 172.9/399.9 GB disk)\n"
     ]
    }
   ],
   "source": [
    "import inference\n",
    "from inference import FormInference"
   ]
  },
  {
   "cell_type": "code",
   "execution_count": 2,
   "id": "0ef8fba2-df13-4f52-a15c-de5f0be9c4b4",
   "metadata": {},
   "outputs": [
    {
     "name": "stdout",
     "output_type": "stream",
     "text": [
      "Loading Yolo Model...\n",
      "Loading OCR Model...\n",
      "Initialization is completed\n",
      "Inferencing on image at location ../data/MIT_10.jpg is initiated..\n",
      "Running detection Model..\n",
      "\n",
      "image 1/1 C:\\Users\\Muthukumar\\Documents\\pyNotebooks\\DeHaDo\\src\\..\\data\\MIT_10.jpg: 640x480 20 handwritings, 641.9ms\n",
      "Speed: 15.1ms preprocess, 641.9ms inference, 3.0ms postprocess per image at shape (1, 3, 640, 480)\n",
      "Results saved to \u001b[1mruns\\detect\\predict6\u001b[0m\n",
      "Form field extraction in progress..\n",
      "Running OCR..\n",
      "Writing to JSON..\n",
      "Form Extraction Completed..\n"
     ]
    }
   ],
   "source": [
    "obj = FormInference()\n",
    "obj.inference(\"../data/MIT_10.jpg\")"
   ]
  }
 ],
 "metadata": {
  "kernelspec": {
   "display_name": "Python 3 (ipykernel)",
   "language": "python",
   "name": "python3"
  },
  "language_info": {
   "codemirror_mode": {
    "name": "ipython",
    "version": 3
   },
   "file_extension": ".py",
   "mimetype": "text/x-python",
   "name": "python",
   "nbconvert_exporter": "python",
   "pygments_lexer": "ipython3",
   "version": "3.11.7"
  }
 },
 "nbformat": 4,
 "nbformat_minor": 5
}
